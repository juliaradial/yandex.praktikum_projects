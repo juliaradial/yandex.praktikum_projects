{
 "cells": [
  {
   "cell_type": "markdown",
   "metadata": {},
   "source": [
    "# Влияние социальных и экономических параметров заемщика на факт погашения кредита в срок"
   ]
  },
  {
   "cell_type": "markdown",
   "metadata": {},
   "source": [
    "**Заказчик** — кредитный отдел банка. \n",
    "\n",
    "**Цель исследования** \n",
    " - подтвердить или опровернгуть гипотезы о влиянии на факт погашения кредита в срок следующих аспектов:\n",
    "     * наличие и количество детей у заемщика;\n",
    "     * его семейное положение;\n",
    "     * уровень ежемесячного дохода;\n",
    "     * цель получения денежных средств.\n",
    "\n",
    "\n",
    "**Ход исследования** \n",
    "\n",
    "От кредитного отдела банка получен файл формата .csv — статистика о платёжеспособности клиентов. О качестве данных ничего не известно. Поэтому перед проверкой гипотез понадобится обзор данных.\n",
    "\n",
    "Проверим данные на ошибки и оценим их влияние на исследование. Исправим ошибки, где это возможно.\n",
    "Таким образом, исследование пройдёт в три этапа:\n",
    "\n",
    "- Обзор данных.\n",
    "- Предобработка данных.\n",
    "- Проверка гипотез.\n",
    "\n",
    "**Результаты исследования** \n",
    "\n",
    "Будут учтены при построении модели кредитного скоринга —  полностью автоматизированного метода анализа данных заявителей, который поможет значительно сократить время рассмотрения заявки на кредит. Скоринговые программы разрабатываются индивидуально каждым банком на основании его лояльности и рискованности.\n",
    "\n",
    "Скоринг — это оценка рисков банка, которая выражается в баллах. За каждый пункт заполненной анкеты система ставить определенное количество баллов. Для одобрения или перехода заявки на следующий этап рассмотрения клиент должен набрать минимально допустимое количество баллов. \n",
    "\n",
    "Оценке подлежат все пункты анкеты, следовательно нужно избегать пропусков в данных.\n"
   ]
  },
  {
   "cell_type": "markdown",
   "metadata": {},
   "source": [
    "## Обзор данных"
   ]
  },
  {
   "cell_type": "markdown",
   "metadata": {},
   "source": [
    "Основной инструмент аналитика — `pandas`, для визуализации - `seaborn`, для лемматизации - `Mystem`. Импортируем эти библиотеки:"
   ]
  },
  {
   "cell_type": "code",
   "execution_count": 1,
   "metadata": {},
   "outputs": [],
   "source": [
    "import pandas as pd\n",
    "import seaborn as sns\n",
    "from pymystem3 import Mystem\n",
    "m = Mystem()"
   ]
  },
  {
   "cell_type": "markdown",
   "metadata": {},
   "source": [
    "Откроем датасет и получим общую информацию о данных, применив метод **.info()**:"
   ]
  },
  {
   "cell_type": "code",
   "execution_count": 2,
   "metadata": {},
   "outputs": [
    {
     "name": "stdout",
     "output_type": "stream",
     "text": [
      "<class 'pandas.core.frame.DataFrame'>\n",
      "RangeIndex: 21525 entries, 0 to 21524\n",
      "Data columns (total 12 columns):\n",
      " #   Column            Non-Null Count  Dtype  \n",
      "---  ------            --------------  -----  \n",
      " 0   children          21525 non-null  int64  \n",
      " 1   days_employed     19351 non-null  float64\n",
      " 2   dob_years         21525 non-null  int64  \n",
      " 3   education         21525 non-null  object \n",
      " 4   education_id      21525 non-null  int64  \n",
      " 5   family_status     21525 non-null  object \n",
      " 6   family_status_id  21525 non-null  int64  \n",
      " 7   gender            21525 non-null  object \n",
      " 8   income_type       21525 non-null  object \n",
      " 9   debt              21525 non-null  int64  \n",
      " 10  total_income      19351 non-null  float64\n",
      " 11  purpose           21525 non-null  object \n",
      "dtypes: float64(2), int64(5), object(5)\n",
      "memory usage: 2.0+ MB\n"
     ]
    }
   ],
   "source": [
    "data = pd.read_csv('/datasets/data.csv')\n",
    "data.info()"
   ]
  },
  {
   "cell_type": "markdown",
   "metadata": {},
   "source": [
    "* В таблице 12 столбцов; \n",
    "* Представлены следующие типы данных: `int64`, `float64`, `object`;\n",
    "* В названиях столбцов нет нарушений;\n",
    "* Количество значений в столбцах различается. Значит, в данных есть пропущенные значения;\n",
    "* Нет столбца с персональным ID клиента, это может повлиять на поиск дубликатов.\n",
    "\n",
    "**Согласно документации к данным:**\n",
    "\n",
    "- `children` — количество детей в семье;\n",
    "- `days_employed` — общий трудовой стаж в днях;\n",
    "- `dob_years` — возраст клиента в годах;\n",
    "- `education` — уровень образования клиента;\n",
    "- `education_id` — идентификатор уровня образования;\n",
    "- `family_status` — семейное положение;\n",
    "- `family_status_id` — идентификатор семейного положения;\n",
    "- `gender` — пол клиента;\n",
    "- `income_type` — тип занятости;\n",
    "- `debt` — имел ли задолженность по возврату кредитов;\n",
    "- `total_income` — ежемесячный доход;\n",
    "- `purpose` — цель получения кредита"
   ]
  },
  {
   "cell_type": "markdown",
   "metadata": {},
   "source": [
    "Выведем первые 5 строк таблицы методом **.head()**:"
   ]
  },
  {
   "cell_type": "code",
   "execution_count": 3,
   "metadata": {},
   "outputs": [
    {
     "data": {
      "text/html": [
       "<div>\n",
       "<style scoped>\n",
       "    .dataframe tbody tr th:only-of-type {\n",
       "        vertical-align: middle;\n",
       "    }\n",
       "\n",
       "    .dataframe tbody tr th {\n",
       "        vertical-align: top;\n",
       "    }\n",
       "\n",
       "    .dataframe thead th {\n",
       "        text-align: right;\n",
       "    }\n",
       "</style>\n",
       "<table border=\"1\" class=\"dataframe\">\n",
       "  <thead>\n",
       "    <tr style=\"text-align: right;\">\n",
       "      <th></th>\n",
       "      <th>children</th>\n",
       "      <th>days_employed</th>\n",
       "      <th>dob_years</th>\n",
       "      <th>education</th>\n",
       "      <th>education_id</th>\n",
       "      <th>family_status</th>\n",
       "      <th>family_status_id</th>\n",
       "      <th>gender</th>\n",
       "      <th>income_type</th>\n",
       "      <th>debt</th>\n",
       "      <th>total_income</th>\n",
       "      <th>purpose</th>\n",
       "    </tr>\n",
       "  </thead>\n",
       "  <tbody>\n",
       "    <tr>\n",
       "      <th>0</th>\n",
       "      <td>1</td>\n",
       "      <td>-8437.673028</td>\n",
       "      <td>42</td>\n",
       "      <td>высшее</td>\n",
       "      <td>0</td>\n",
       "      <td>женат / замужем</td>\n",
       "      <td>0</td>\n",
       "      <td>F</td>\n",
       "      <td>сотрудник</td>\n",
       "      <td>0</td>\n",
       "      <td>253875.639453</td>\n",
       "      <td>покупка жилья</td>\n",
       "    </tr>\n",
       "    <tr>\n",
       "      <th>1</th>\n",
       "      <td>1</td>\n",
       "      <td>-4024.803754</td>\n",
       "      <td>36</td>\n",
       "      <td>среднее</td>\n",
       "      <td>1</td>\n",
       "      <td>женат / замужем</td>\n",
       "      <td>0</td>\n",
       "      <td>F</td>\n",
       "      <td>сотрудник</td>\n",
       "      <td>0</td>\n",
       "      <td>112080.014102</td>\n",
       "      <td>приобретение автомобиля</td>\n",
       "    </tr>\n",
       "    <tr>\n",
       "      <th>2</th>\n",
       "      <td>0</td>\n",
       "      <td>-5623.422610</td>\n",
       "      <td>33</td>\n",
       "      <td>Среднее</td>\n",
       "      <td>1</td>\n",
       "      <td>женат / замужем</td>\n",
       "      <td>0</td>\n",
       "      <td>M</td>\n",
       "      <td>сотрудник</td>\n",
       "      <td>0</td>\n",
       "      <td>145885.952297</td>\n",
       "      <td>покупка жилья</td>\n",
       "    </tr>\n",
       "    <tr>\n",
       "      <th>3</th>\n",
       "      <td>3</td>\n",
       "      <td>-4124.747207</td>\n",
       "      <td>32</td>\n",
       "      <td>среднее</td>\n",
       "      <td>1</td>\n",
       "      <td>женат / замужем</td>\n",
       "      <td>0</td>\n",
       "      <td>M</td>\n",
       "      <td>сотрудник</td>\n",
       "      <td>0</td>\n",
       "      <td>267628.550329</td>\n",
       "      <td>дополнительное образование</td>\n",
       "    </tr>\n",
       "    <tr>\n",
       "      <th>4</th>\n",
       "      <td>0</td>\n",
       "      <td>340266.072047</td>\n",
       "      <td>53</td>\n",
       "      <td>среднее</td>\n",
       "      <td>1</td>\n",
       "      <td>гражданский брак</td>\n",
       "      <td>1</td>\n",
       "      <td>F</td>\n",
       "      <td>пенсионер</td>\n",
       "      <td>0</td>\n",
       "      <td>158616.077870</td>\n",
       "      <td>сыграть свадьбу</td>\n",
       "    </tr>\n",
       "  </tbody>\n",
       "</table>\n",
       "</div>"
      ],
      "text/plain": [
       "   children  days_employed  dob_years education  education_id  \\\n",
       "0         1   -8437.673028         42    высшее             0   \n",
       "1         1   -4024.803754         36   среднее             1   \n",
       "2         0   -5623.422610         33   Среднее             1   \n",
       "3         3   -4124.747207         32   среднее             1   \n",
       "4         0  340266.072047         53   среднее             1   \n",
       "\n",
       "      family_status  family_status_id gender income_type  debt   total_income  \\\n",
       "0   женат / замужем                 0      F   сотрудник     0  253875.639453   \n",
       "1   женат / замужем                 0      F   сотрудник     0  112080.014102   \n",
       "2   женат / замужем                 0      M   сотрудник     0  145885.952297   \n",
       "3   женат / замужем                 0      M   сотрудник     0  267628.550329   \n",
       "4  гражданский брак                 1      F   пенсионер     0  158616.077870   \n",
       "\n",
       "                      purpose  \n",
       "0               покупка жилья  \n",
       "1     приобретение автомобиля  \n",
       "2               покупка жилья  \n",
       "3  дополнительное образование  \n",
       "4             сыграть свадьбу  "
      ]
     },
     "execution_count": 3,
     "metadata": {},
     "output_type": "execute_result"
    }
   ],
   "source": [
    "data.head()"
   ]
  },
  {
   "cell_type": "markdown",
   "metadata": {},
   "source": [
    "### Вывод\n",
    "- В каждой строке таблицы - данные одного заемщика. \n",
    "- Часть колонок описывает его социальный статус (наличие семьи, детей, образование, пол), другая часть - его финансовые-экономические характеристики (рабочий стаж, тип занятости, ежемесячный доход, задолженности и цель получения кредита).\n",
    "- Колонки `education` и `family_status` сопровождаются колонками идентификаторами. \n",
    "- Предварительно можно утверждать, что данных достаточно для проверки гипотез. Но встречаются пропуски в данных."
   ]
  },
  {
   "cell_type": "markdown",
   "metadata": {},
   "source": [
    "## Предобработка данных"
   ]
  },
  {
   "cell_type": "markdown",
   "metadata": {},
   "source": [
    "### Поиск и заполнение пропущенных значений:"
   ]
  },
  {
   "cell_type": "markdown",
   "metadata": {},
   "source": [
    "Применим метод **.isna()** к нашему датафрейму, чтобы обнаружить пропущенные значения в данных. Сумируем их количество методом **.sum()**:"
   ]
  },
  {
   "cell_type": "code",
   "execution_count": 4,
   "metadata": {},
   "outputs": [
    {
     "data": {
      "text/plain": [
       "children               0\n",
       "days_employed       2174\n",
       "dob_years              0\n",
       "education              0\n",
       "education_id           0\n",
       "family_status          0\n",
       "family_status_id       0\n",
       "gender                 0\n",
       "income_type            0\n",
       "debt                   0\n",
       "total_income        2174\n",
       "purpose                0\n",
       "dtype: int64"
      ]
     },
     "execution_count": 4,
     "metadata": {},
     "output_type": "execute_result"
    }
   ],
   "source": [
    "data.isna().sum()"
   ]
  },
  {
   "cell_type": "markdown",
   "metadata": {},
   "source": [
    "Пропущены значения в столбцах `days_employed` и `total_income`:\n",
    "- оба столбца имеют тип данных - `float64`, значит пропуски, найденные методом **.isna()**, имеют тип NaN;\n",
    "- строки с пропусками составляют более 10% от датасета; \n",
    "- это количественные переменные, значит заполняем пропуски в них с помощью одного из методов описательной статистики: среднего арифметического или медианы;\n",
    "- проанализируем данные этих столбцов для выявления лучшего метода."
   ]
  },
  {
   "cell_type": "markdown",
   "metadata": {},
   "source": [
    "#### 'total_income'"
   ]
  },
  {
   "cell_type": "markdown",
   "metadata": {},
   "source": [
    "Применим методы **.max(), .min(), .mean(), .median()** и найдем максимальное и минимальное, среднее и медианное значения ежемесячного дохода, обернем результат методом **.int()** для округления значений:"
   ]
  },
  {
   "cell_type": "code",
   "execution_count": 5,
   "metadata": {},
   "outputs": [
    {
     "name": "stdout",
     "output_type": "stream",
     "text": [
      "Максимальное значение ежемесячного дохода: 2265604\n",
      "Минимальное значение ежемесячного дохода: 20667\n",
      "Среднее значение ежемесячного дохода: 167422\n",
      "Медианное значение ежемесячного дохода: 145017\n"
     ]
    }
   ],
   "source": [
    "print('Максимальное значение ежемесячного дохода:', int(data['total_income'].max()))\n",
    "print('Минимальное значение ежемесячного дохода:', int(data['total_income'].min()))\n",
    "print('Среднее значение ежемесячного дохода:', int(data['total_income'].mean()))\n",
    "print('Медианное значение ежемесячного дохода:', int(data['total_income'].median()))"
   ]
  },
  {
   "cell_type": "markdown",
   "metadata": {},
   "source": [
    "Минимальное и максимальное значения отличаются друг от друга на 3 порядка, заполнение пропусков средним или медианным значением всего столбца может значительно исказить данные и повлиять на результат анализа. Величина ежемесячного дохода часто связана с типом занятости и уровнем образования. Эти данные есть в датасете. Сгруппируем методом **.groupby()** уровень дохода по типу занятости и найдем среднее арифметическое методом **.mean()** для каждого:"
   ]
  },
  {
   "cell_type": "code",
   "execution_count": 6,
   "metadata": {},
   "outputs": [
    {
     "name": "stdout",
     "output_type": "stream",
     "text": [
      "income_type\n",
      "безработный        131339.751676\n",
      "в декрете           53829.130729\n",
      "госслужащий        170898.309923\n",
      "компаньон          202417.461462\n",
      "пенсионер          137127.465690\n",
      "предприниматель    499163.144947\n",
      "сотрудник          161380.260488\n",
      "студент             98201.625314\n",
      "Name: total_income, dtype: float64\n"
     ]
    }
   ],
   "source": [
    "data_mean = data.groupby('income_type')['total_income'].mean()\n",
    "print(data_mean)"
   ]
  },
  {
   "cell_type": "markdown",
   "metadata": {},
   "source": [
    "Сгруппируем уровень дохода по типу занятости и найдем медиану методом **.median()** для каждого значения:"
   ]
  },
  {
   "cell_type": "code",
   "execution_count": 7,
   "metadata": {},
   "outputs": [
    {
     "data": {
      "text/plain": [
       "income_type\n",
       "безработный        131339.751676\n",
       "в декрете           53829.130729\n",
       "госслужащий        150447.935283\n",
       "компаньон          172357.950966\n",
       "пенсионер          118514.486412\n",
       "предприниматель    499163.144947\n",
       "сотрудник          142594.396847\n",
       "студент             98201.625314\n",
       "Name: total_income, dtype: float64"
      ]
     },
     "metadata": {},
     "output_type": "display_data"
    }
   ],
   "source": [
    "data_median = data.groupby('income_type')['total_income'].median()\n",
    "display(data_median)"
   ]
  },
  {
   "cell_type": "markdown",
   "metadata": {},
   "source": [
    "Сравнивая результаты выполнения методов среднего арифметического и медианы, видно, что некоторые значения (безработный, в декрете, предприниматель, студент) остались без изменения, остальные (госслужащий, компаньон, пенсионер, сотрудник), при подсчете методом среднего арифметического, выше, чем медианой. Сгруппируем и посчитаем мнтодом **.count()** количество клиентов по типам занятости:"
   ]
  },
  {
   "cell_type": "code",
   "execution_count": 8,
   "metadata": {},
   "outputs": [
    {
     "data": {
      "text/plain": [
       "income_type\n",
       "безработный            2\n",
       "в декрете              1\n",
       "госслужащий         1312\n",
       "компаньон           4577\n",
       "пенсионер           3443\n",
       "предприниматель        1\n",
       "сотрудник          10014\n",
       "студент                1\n",
       "Name: total_income, dtype: int64"
      ]
     },
     "metadata": {},
     "output_type": "display_data"
    }
   ],
   "source": [
    "data_count = data.groupby('income_type')['total_income'].count()\n",
    "display(data_count)"
   ]
  },
  {
   "cell_type": "markdown",
   "metadata": {},
   "source": [
    "Значения среднего арифметического и медианы равны по типам занятости (безработный, в декрете, предприниматель, студент) т.к. расчет на выборках из 1 и 2 значений равен для обоих методов.\n",
    "\n",
    "Различия значений среднего арифметического и медианы по типам занятости появляются на больших выборках и могут быть обусловлены тем, что медиана невелирует влияние выбросов, когда в среднее арифметическое они попадают. \n",
    "\n",
    "Таким образом, если мы выберем заполнение пропусков средним арифметическим значением (с более высокими доходом), то создадим более оптимистичную картину, что может увеличить риски для банка.  \n",
    "\n",
    "Благодаря группировке по типу занятости и заполнению пропусков медианным значением, мы охватим все уровни дохода, но избавимся от выбросов."
   ]
  },
  {
   "cell_type": "markdown",
   "metadata": {},
   "source": [
    "Для заполнения пропусков используем метод **.fillna()**, которому передаем значения столбца 'total_income', сгруппированные по 'income_type'. Метод **.transform()** позволяет применить функцию 'median' для замены в разрезе групп:"
   ]
  },
  {
   "cell_type": "code",
   "execution_count": 9,
   "metadata": {},
   "outputs": [],
   "source": [
    "data['total_income'] = data['total_income'].fillna(data.groupby('income_type')['total_income'].transform('median'))"
   ]
  },
  {
   "cell_type": "markdown",
   "metadata": {},
   "source": [
    "Проверяем наличие пропусков:"
   ]
  },
  {
   "cell_type": "code",
   "execution_count": 10,
   "metadata": {
    "scrolled": true
   },
   "outputs": [
    {
     "data": {
      "text/plain": [
       "children               0\n",
       "days_employed       2174\n",
       "dob_years              0\n",
       "education              0\n",
       "education_id           0\n",
       "family_status          0\n",
       "family_status_id       0\n",
       "gender                 0\n",
       "income_type            0\n",
       "debt                   0\n",
       "total_income           0\n",
       "purpose                0\n",
       "dtype: int64"
      ]
     },
     "execution_count": 10,
     "metadata": {},
     "output_type": "execute_result"
    }
   ],
   "source": [
    "data.isna().sum()"
   ]
  },
  {
   "cell_type": "markdown",
   "metadata": {},
   "source": [
    "#### 'days_employed'"
   ]
  },
  {
   "cell_type": "markdown",
   "metadata": {},
   "source": [
    "Обратим внимание на значения в данном столбце:\n",
    "- есть положительные и отрицательные значения\n",
    "- есть значительные расхождения по модулю значений\n",
    "- согласно документации к данным: `days_employed` — общий трудовой стаж в днях\n"
   ]
  },
  {
   "cell_type": "code",
   "execution_count": 11,
   "metadata": {},
   "outputs": [
    {
     "data": {
      "text/html": [
       "<div>\n",
       "<style scoped>\n",
       "    .dataframe tbody tr th:only-of-type {\n",
       "        vertical-align: middle;\n",
       "    }\n",
       "\n",
       "    .dataframe tbody tr th {\n",
       "        vertical-align: top;\n",
       "    }\n",
       "\n",
       "    .dataframe thead th {\n",
       "        text-align: right;\n",
       "    }\n",
       "</style>\n",
       "<table border=\"1\" class=\"dataframe\">\n",
       "  <thead>\n",
       "    <tr style=\"text-align: right;\">\n",
       "      <th></th>\n",
       "      <th>children</th>\n",
       "      <th>days_employed</th>\n",
       "      <th>dob_years</th>\n",
       "      <th>education</th>\n",
       "      <th>education_id</th>\n",
       "      <th>family_status</th>\n",
       "      <th>family_status_id</th>\n",
       "      <th>gender</th>\n",
       "      <th>income_type</th>\n",
       "      <th>debt</th>\n",
       "      <th>total_income</th>\n",
       "      <th>purpose</th>\n",
       "    </tr>\n",
       "  </thead>\n",
       "  <tbody>\n",
       "    <tr>\n",
       "      <th>0</th>\n",
       "      <td>1</td>\n",
       "      <td>-8437.673028</td>\n",
       "      <td>42</td>\n",
       "      <td>высшее</td>\n",
       "      <td>0</td>\n",
       "      <td>женат / замужем</td>\n",
       "      <td>0</td>\n",
       "      <td>F</td>\n",
       "      <td>сотрудник</td>\n",
       "      <td>0</td>\n",
       "      <td>253875.639453</td>\n",
       "      <td>покупка жилья</td>\n",
       "    </tr>\n",
       "    <tr>\n",
       "      <th>1</th>\n",
       "      <td>1</td>\n",
       "      <td>-4024.803754</td>\n",
       "      <td>36</td>\n",
       "      <td>среднее</td>\n",
       "      <td>1</td>\n",
       "      <td>женат / замужем</td>\n",
       "      <td>0</td>\n",
       "      <td>F</td>\n",
       "      <td>сотрудник</td>\n",
       "      <td>0</td>\n",
       "      <td>112080.014102</td>\n",
       "      <td>приобретение автомобиля</td>\n",
       "    </tr>\n",
       "    <tr>\n",
       "      <th>2</th>\n",
       "      <td>0</td>\n",
       "      <td>-5623.422610</td>\n",
       "      <td>33</td>\n",
       "      <td>Среднее</td>\n",
       "      <td>1</td>\n",
       "      <td>женат / замужем</td>\n",
       "      <td>0</td>\n",
       "      <td>M</td>\n",
       "      <td>сотрудник</td>\n",
       "      <td>0</td>\n",
       "      <td>145885.952297</td>\n",
       "      <td>покупка жилья</td>\n",
       "    </tr>\n",
       "    <tr>\n",
       "      <th>3</th>\n",
       "      <td>3</td>\n",
       "      <td>-4124.747207</td>\n",
       "      <td>32</td>\n",
       "      <td>среднее</td>\n",
       "      <td>1</td>\n",
       "      <td>женат / замужем</td>\n",
       "      <td>0</td>\n",
       "      <td>M</td>\n",
       "      <td>сотрудник</td>\n",
       "      <td>0</td>\n",
       "      <td>267628.550329</td>\n",
       "      <td>дополнительное образование</td>\n",
       "    </tr>\n",
       "    <tr>\n",
       "      <th>4</th>\n",
       "      <td>0</td>\n",
       "      <td>340266.072047</td>\n",
       "      <td>53</td>\n",
       "      <td>среднее</td>\n",
       "      <td>1</td>\n",
       "      <td>гражданский брак</td>\n",
       "      <td>1</td>\n",
       "      <td>F</td>\n",
       "      <td>пенсионер</td>\n",
       "      <td>0</td>\n",
       "      <td>158616.077870</td>\n",
       "      <td>сыграть свадьбу</td>\n",
       "    </tr>\n",
       "  </tbody>\n",
       "</table>\n",
       "</div>"
      ],
      "text/plain": [
       "   children  days_employed  dob_years education  education_id  \\\n",
       "0         1   -8437.673028         42    высшее             0   \n",
       "1         1   -4024.803754         36   среднее             1   \n",
       "2         0   -5623.422610         33   Среднее             1   \n",
       "3         3   -4124.747207         32   среднее             1   \n",
       "4         0  340266.072047         53   среднее             1   \n",
       "\n",
       "      family_status  family_status_id gender income_type  debt   total_income  \\\n",
       "0   женат / замужем                 0      F   сотрудник     0  253875.639453   \n",
       "1   женат / замужем                 0      F   сотрудник     0  112080.014102   \n",
       "2   женат / замужем                 0      M   сотрудник     0  145885.952297   \n",
       "3   женат / замужем                 0      M   сотрудник     0  267628.550329   \n",
       "4  гражданский брак                 1      F   пенсионер     0  158616.077870   \n",
       "\n",
       "                      purpose  \n",
       "0               покупка жилья  \n",
       "1     приобретение автомобиля  \n",
       "2               покупка жилья  \n",
       "3  дополнительное образование  \n",
       "4             сыграть свадьбу  "
      ]
     },
     "execution_count": 11,
     "metadata": {},
     "output_type": "execute_result"
    }
   ],
   "source": [
    "data.head()"
   ]
  },
  {
   "cell_type": "markdown",
   "metadata": {},
   "source": [
    "Данные в столбце 'days_employed' имеют неоднородную структуру. Для их анализа прибегаем к помощи графика боксплот (**.boxplot()**), на котором хорошо заменты \"проблемные места\" и мы можем сформировать следующие гипотезы:\n",
    "- если значение меньше нуля, то оно представлено в днях, как в описании;\n",
    "- значения выше нуля на 2 порядка больше, чем те, что ниже, они представлены в часах."
   ]
  },
  {
   "cell_type": "code",
   "execution_count": 12,
   "metadata": {},
   "outputs": [
    {
     "data": {
      "text/plain": [
       "<AxesSubplot:xlabel='days_employed'>"
      ]
     },
     "execution_count": 12,
     "metadata": {},
     "output_type": "execute_result"
    },
    {
     "data": {
      "image/png": "[encoded data removed]",
      "text/plain": [
       "<Figure size 432x288 with 1 Axes>"
      ]
     },
     "metadata": {
      "needs_background": "light"
     },
     "output_type": "display_data"
    }
   ],
   "source": [
    "sns.boxplot(data=data, x='days_employed')"
   ]
  },
  {
   "cell_type": "markdown",
   "metadata": {},
   "source": [
    "Приведем все данные столбца 'days_employed' к одному виду. Значения, выраженные в часах, переведем в дни, отрицательные значения сделаем положительными:"
   ]
  },
  {
   "cell_type": "code",
   "execution_count": 13,
   "metadata": {},
   "outputs": [
    {
     "data": {
      "text/html": [
       "<div>\n",
       "<style scoped>\n",
       "    .dataframe tbody tr th:only-of-type {\n",
       "        vertical-align: middle;\n",
       "    }\n",
       "\n",
       "    .dataframe tbody tr th {\n",
       "        vertical-align: top;\n",
       "    }\n",
       "\n",
       "    .dataframe thead th {\n",
       "        text-align: right;\n",
       "    }\n",
       "</style>\n",
       "<table border=\"1\" class=\"dataframe\">\n",
       "  <thead>\n",
       "    <tr style=\"text-align: right;\">\n",
       "      <th></th>\n",
       "      <th>children</th>\n",
       "      <th>days_employed</th>\n",
       "      <th>dob_years</th>\n",
       "      <th>education</th>\n",
       "      <th>education_id</th>\n",
       "      <th>family_status</th>\n",
       "      <th>family_status_id</th>\n",
       "      <th>gender</th>\n",
       "      <th>income_type</th>\n",
       "      <th>debt</th>\n",
       "      <th>total_income</th>\n",
       "      <th>purpose</th>\n",
       "    </tr>\n",
       "  </thead>\n",
       "  <tbody>\n",
       "    <tr>\n",
       "      <th>0</th>\n",
       "      <td>1</td>\n",
       "      <td>8437.673028</td>\n",
       "      <td>42</td>\n",
       "      <td>высшее</td>\n",
       "      <td>0</td>\n",
       "      <td>женат / замужем</td>\n",
       "      <td>0</td>\n",
       "      <td>F</td>\n",
       "      <td>сотрудник</td>\n",
       "      <td>0</td>\n",
       "      <td>253875.639453</td>\n",
       "      <td>покупка жилья</td>\n",
       "    </tr>\n",
       "    <tr>\n",
       "      <th>1</th>\n",
       "      <td>1</td>\n",
       "      <td>4024.803754</td>\n",
       "      <td>36</td>\n",
       "      <td>среднее</td>\n",
       "      <td>1</td>\n",
       "      <td>женат / замужем</td>\n",
       "      <td>0</td>\n",
       "      <td>F</td>\n",
       "      <td>сотрудник</td>\n",
       "      <td>0</td>\n",
       "      <td>112080.014102</td>\n",
       "      <td>приобретение автомобиля</td>\n",
       "    </tr>\n",
       "    <tr>\n",
       "      <th>2</th>\n",
       "      <td>0</td>\n",
       "      <td>5623.422610</td>\n",
       "      <td>33</td>\n",
       "      <td>Среднее</td>\n",
       "      <td>1</td>\n",
       "      <td>женат / замужем</td>\n",
       "      <td>0</td>\n",
       "      <td>M</td>\n",
       "      <td>сотрудник</td>\n",
       "      <td>0</td>\n",
       "      <td>145885.952297</td>\n",
       "      <td>покупка жилья</td>\n",
       "    </tr>\n",
       "    <tr>\n",
       "      <th>3</th>\n",
       "      <td>3</td>\n",
       "      <td>4124.747207</td>\n",
       "      <td>32</td>\n",
       "      <td>среднее</td>\n",
       "      <td>1</td>\n",
       "      <td>женат / замужем</td>\n",
       "      <td>0</td>\n",
       "      <td>M</td>\n",
       "      <td>сотрудник</td>\n",
       "      <td>0</td>\n",
       "      <td>267628.550329</td>\n",
       "      <td>дополнительное образование</td>\n",
       "    </tr>\n",
       "    <tr>\n",
       "      <th>4</th>\n",
       "      <td>0</td>\n",
       "      <td>14177.753002</td>\n",
       "      <td>53</td>\n",
       "      <td>среднее</td>\n",
       "      <td>1</td>\n",
       "      <td>гражданский брак</td>\n",
       "      <td>1</td>\n",
       "      <td>F</td>\n",
       "      <td>пенсионер</td>\n",
       "      <td>0</td>\n",
       "      <td>158616.077870</td>\n",
       "      <td>сыграть свадьбу</td>\n",
       "    </tr>\n",
       "  </tbody>\n",
       "</table>\n",
       "</div>"
      ],
      "text/plain": [
       "   children  days_employed  dob_years education  education_id  \\\n",
       "0         1    8437.673028         42    высшее             0   \n",
       "1         1    4024.803754         36   среднее             1   \n",
       "2         0    5623.422610         33   Среднее             1   \n",
       "3         3    4124.747207         32   среднее             1   \n",
       "4         0   14177.753002         53   среднее             1   \n",
       "\n",
       "      family_status  family_status_id gender income_type  debt   total_income  \\\n",
       "0   женат / замужем                 0      F   сотрудник     0  253875.639453   \n",
       "1   женат / замужем                 0      F   сотрудник     0  112080.014102   \n",
       "2   женат / замужем                 0      M   сотрудник     0  145885.952297   \n",
       "3   женат / замужем                 0      M   сотрудник     0  267628.550329   \n",
       "4  гражданский брак                 1      F   пенсионер     0  158616.077870   \n",
       "\n",
       "                      purpose  \n",
       "0               покупка жилья  \n",
       "1     приобретение автомобиля  \n",
       "2               покупка жилья  \n",
       "3  дополнительное образование  \n",
       "4             сыграть свадьбу  "
      ]
     },
     "metadata": {},
     "output_type": "display_data"
    }
   ],
   "source": [
    "data.loc[data['days_employed'] > 0, 'days_employed'] /= 24\n",
    "data.loc[data['days_employed'] < 0, 'days_employed'] /= -1\n",
    "display(data.head())"
   ]
  },
  {
   "cell_type": "markdown",
   "metadata": {},
   "source": [
    "Построим график боксплот по новым данным:"
   ]
  },
  {
   "cell_type": "code",
   "execution_count": 14,
   "metadata": {},
   "outputs": [
    {
     "data": {
      "text/plain": [
       "<AxesSubplot:xlabel='days_employed'>"
      ]
     },
     "execution_count": 14,
     "metadata": {},
     "output_type": "execute_result"
    },
    {
     "data": {
      "image/png": "[encoded data removed]",
      "text/plain": [
       "<Figure size 432x288 with 1 Axes>"
      ]
     },
     "metadata": {
      "needs_background": "light"
     },
     "output_type": "display_data"
    }
   ],
   "source": [
    "sns.boxplot(data=data, x='days_employed')"
   ]
  },
  {
   "cell_type": "markdown",
   "metadata": {},
   "source": [
    "Все значения теперь больше нуля, разброс по значениям преодолен, хотя все еще присутствуют выбросы, посмотрим их природу: \n",
    "  * создаем фильтр по значениям рабочего стажа в днях больше 12500 дней, что соответствует примерно 34 годам;\n",
    "  * группируем по типу занятости"
   ]
  },
  {
   "cell_type": "code",
   "execution_count": 15,
   "metadata": {},
   "outputs": [
    {
     "data": {
      "text/html": [
       "<div>\n",
       "<style scoped>\n",
       "    .dataframe tbody tr th:only-of-type {\n",
       "        vertical-align: middle;\n",
       "    }\n",
       "\n",
       "    .dataframe tbody tr th {\n",
       "        vertical-align: top;\n",
       "    }\n",
       "\n",
       "    .dataframe thead th {\n",
       "        text-align: right;\n",
       "    }\n",
       "</style>\n",
       "<table border=\"1\" class=\"dataframe\">\n",
       "  <thead>\n",
       "    <tr style=\"text-align: right;\">\n",
       "      <th></th>\n",
       "      <th>children</th>\n",
       "      <th>days_employed</th>\n",
       "      <th>dob_years</th>\n",
       "      <th>education</th>\n",
       "      <th>education_id</th>\n",
       "      <th>family_status</th>\n",
       "      <th>family_status_id</th>\n",
       "      <th>gender</th>\n",
       "      <th>income_type</th>\n",
       "      <th>debt</th>\n",
       "      <th>total_income</th>\n",
       "      <th>purpose</th>\n",
       "    </tr>\n",
       "  </thead>\n",
       "  <tbody>\n",
       "    <tr>\n",
       "      <th>4</th>\n",
       "      <td>0</td>\n",
       "      <td>14177.753002</td>\n",
       "      <td>53</td>\n",
       "      <td>среднее</td>\n",
       "      <td>1</td>\n",
       "      <td>гражданский брак</td>\n",
       "      <td>1</td>\n",
       "      <td>F</td>\n",
       "      <td>пенсионер</td>\n",
       "      <td>0</td>\n",
       "      <td>158616.077870</td>\n",
       "      <td>сыграть свадьбу</td>\n",
       "    </tr>\n",
       "    <tr>\n",
       "      <th>18</th>\n",
       "      <td>0</td>\n",
       "      <td>16678.380705</td>\n",
       "      <td>53</td>\n",
       "      <td>среднее</td>\n",
       "      <td>1</td>\n",
       "      <td>вдовец / вдова</td>\n",
       "      <td>2</td>\n",
       "      <td>F</td>\n",
       "      <td>пенсионер</td>\n",
       "      <td>0</td>\n",
       "      <td>56823.777243</td>\n",
       "      <td>на покупку подержанного автомобиля</td>\n",
       "    </tr>\n",
       "    <tr>\n",
       "      <th>24</th>\n",
       "      <td>1</td>\n",
       "      <td>14106.331371</td>\n",
       "      <td>57</td>\n",
       "      <td>среднее</td>\n",
       "      <td>1</td>\n",
       "      <td>Не женат / не замужем</td>\n",
       "      <td>4</td>\n",
       "      <td>F</td>\n",
       "      <td>пенсионер</td>\n",
       "      <td>0</td>\n",
       "      <td>290547.235997</td>\n",
       "      <td>операции с коммерческой недвижимостью</td>\n",
       "    </tr>\n",
       "    <tr>\n",
       "      <th>25</th>\n",
       "      <td>0</td>\n",
       "      <td>15147.853723</td>\n",
       "      <td>67</td>\n",
       "      <td>среднее</td>\n",
       "      <td>1</td>\n",
       "      <td>женат / замужем</td>\n",
       "      <td>0</td>\n",
       "      <td>M</td>\n",
       "      <td>пенсионер</td>\n",
       "      <td>0</td>\n",
       "      <td>55112.757732</td>\n",
       "      <td>покупка недвижимости</td>\n",
       "    </tr>\n",
       "    <tr>\n",
       "      <th>30</th>\n",
       "      <td>1</td>\n",
       "      <td>13982.569521</td>\n",
       "      <td>62</td>\n",
       "      <td>среднее</td>\n",
       "      <td>1</td>\n",
       "      <td>женат / замужем</td>\n",
       "      <td>0</td>\n",
       "      <td>F</td>\n",
       "      <td>пенсионер</td>\n",
       "      <td>0</td>\n",
       "      <td>171456.067993</td>\n",
       "      <td>операции с коммерческой недвижимостью</td>\n",
       "    </tr>\n",
       "  </tbody>\n",
       "</table>\n",
       "</div>"
      ],
      "text/plain": [
       "    children  days_employed  dob_years education  education_id  \\\n",
       "4          0   14177.753002         53   среднее             1   \n",
       "18         0   16678.380705         53   среднее             1   \n",
       "24         1   14106.331371         57   среднее             1   \n",
       "25         0   15147.853723         67   среднее             1   \n",
       "30         1   13982.569521         62   среднее             1   \n",
       "\n",
       "            family_status  family_status_id gender income_type  debt  \\\n",
       "4        гражданский брак                 1      F   пенсионер     0   \n",
       "18         вдовец / вдова                 2      F   пенсионер     0   \n",
       "24  Не женат / не замужем                 4      F   пенсионер     0   \n",
       "25        женат / замужем                 0      M   пенсионер     0   \n",
       "30        женат / замужем                 0      F   пенсионер     0   \n",
       "\n",
       "     total_income                                purpose  \n",
       "4   158616.077870                        сыграть свадьбу  \n",
       "18   56823.777243     на покупку подержанного автомобиля  \n",
       "24  290547.235997  операции с коммерческой недвижимостью  \n",
       "25   55112.757732                   покупка недвижимости  \n",
       "30  171456.067993  операции с коммерческой недвижимостью  "
      ]
     },
     "metadata": {},
     "output_type": "display_data"
    },
    {
     "data": {
      "text/plain": [
       "income_type\n",
       "безработный       2\n",
       "госслужащий      13\n",
       "компаньон        13\n",
       "пенсионер      3443\n",
       "сотрудник        44\n",
       "Name: days_employed, dtype: int64"
      ]
     },
     "execution_count": 15,
     "metadata": {},
     "output_type": "execute_result"
    }
   ],
   "source": [
    "data_many_days = data[data['days_employed'] > 12500]\n",
    "display(data_many_days.head())\n",
    "data_many_days.groupby('income_type')['days_employed'].count()"
   ]
  },
  {
   "cell_type": "markdown",
   "metadata": {},
   "source": [
    "Предсказуемо, эта выборка сформирована почти полностью из пенсионеров, отсюда долгий стаж работы. Надо отметить, что выборка составляет 16% от всего датасета, вероятно различие между медианой и средним арифметическим будет существенным. Посмотрим, есть ли в ней пропущенные значения:"
   ]
  },
  {
   "cell_type": "code",
   "execution_count": 16,
   "metadata": {},
   "outputs": [
    {
     "data": {
      "text/plain": [
       "0"
      ]
     },
     "execution_count": 16,
     "metadata": {},
     "output_type": "execute_result"
    }
   ],
   "source": [
    "data_many_days['days_employed'].isna().sum()"
   ]
  },
  {
   "cell_type": "markdown",
   "metadata": {},
   "source": [
    "Обратимся к методам описательной статистики и найдем максимальный, минимальный, средне арифметический и медианный стаж работы:"
   ]
  },
  {
   "cell_type": "code",
   "execution_count": 17,
   "metadata": {},
   "outputs": [
    {
     "name": "stdout",
     "output_type": "stream",
     "text": [
      "Максимальное значение трудового стажа: 18388 дн., 50 лет\n",
      "Минимальное значение трудового стажа: 24 дн., 0 лет\n",
      "Среднее значение трудового стажа: 4641 дн., 12 лет\n",
      "Медианное значение трудового стажа: 2194 дн., 6 лет\n"
     ]
    }
   ],
   "source": [
    "print(f'Максимальное значение трудового стажа:', int(data['days_employed'].max()), 'дн.,', int((data['days_employed'].max()) / 365), 'лет')\n",
    "print(f'Минимальное значение трудового стажа:', int(data['days_employed'].min()), 'дн.,', int((data['days_employed'].min()) / 365), 'лет') \n",
    "print(f'Среднее значение трудового стажа:', int(data['days_employed'].mean()), 'дн.,', int((data['days_employed'].mean()) / 365), 'лет')\n",
    "print(f'Медианное значение трудового стажа:', int(data['days_employed'].median()), 'дн.,', int((data['days_employed'].median()) / 365), 'лет')\n"
   ]
  },
  {
   "cell_type": "markdown",
   "metadata": {},
   "source": [
    "Мы выяснили природу выбросов - долгий стаж работы клиентов пенсионного возраста, кроме этого в них нет пропусков, поэтому ограничим их влияние, выбрав медиану, как метод заполнения пропусков. Используем метод **.fillna()** и проверим наличие пропусков:"
   ]
  },
  {
   "cell_type": "code",
   "execution_count": 18,
   "metadata": {},
   "outputs": [
    {
     "data": {
      "text/plain": [
       "children            0\n",
       "days_employed       0\n",
       "dob_years           0\n",
       "education           0\n",
       "education_id        0\n",
       "family_status       0\n",
       "family_status_id    0\n",
       "gender              0\n",
       "income_type         0\n",
       "debt                0\n",
       "total_income        0\n",
       "purpose             0\n",
       "dtype: int64"
      ]
     },
     "execution_count": 18,
     "metadata": {},
     "output_type": "execute_result"
    }
   ],
   "source": [
    "data['days_employed'] = data['days_employed'].fillna(2194)\n",
    "data.isna().sum()"
   ]
  },
  {
   "cell_type": "markdown",
   "metadata": {},
   "source": [
    "Есть предположение, что такая неоднородная структура данных, с отрицательными и положительными значениями и различиями в единицах измерения, была разработана специально, как (неэффективный) метод категоризации клиентов. Для быстроты и удобства анализа следует хранить значения в столбцах в одинаковых единицах измерения."
   ]
  },
  {
   "cell_type": "markdown",
   "metadata": {},
   "source": [
    "#### 'dob_years'"
   ]
  },
  {
   "cell_type": "code",
   "execution_count": 19,
   "metadata": {},
   "outputs": [
    {
     "name": "stdout",
     "output_type": "stream",
     "text": [
      "Максимальный возраст заемщика: 75\n",
      "Минимальный возраст заемщика: 0\n",
      "Медианный возраст заемщика: 42\n",
      "Средне арифметический возраст заемщика: 43\n"
     ]
    }
   ],
   "source": [
    "print('Максимальный возраст заемщика:', data['dob_years'].max())\n",
    "print('Минимальный возраст заемщика:', data['dob_years'].min())\n",
    "print('Медианный возраст заемщика:', int(data['dob_years'].median()))\n",
    "print('Средне арифметический возраст заемщика:', int(data['dob_years'].mean()))"
   ]
  },
  {
   "cell_type": "markdown",
   "metadata": {},
   "source": [
    "Мы нашли неадекватное значение возраста заемщика - 0 лет. Посмотрим, как распределяется возраст в нашем датафрейме. Сгруппируем столбец 'dob_years' по 'income_type' "
   ]
  },
  {
   "cell_type": "code",
   "execution_count": 20,
   "metadata": {},
   "outputs": [
    {
     "data": {
      "text/plain": [
       "dob_years\n",
       "0     101\n",
       "19     14\n",
       "20     51\n",
       "21    111\n",
       "22    183\n",
       "23    254\n",
       "24    264\n",
       "25    357\n",
       "26    408\n",
       "27    493\n",
       "28    503\n",
       "29    545\n",
       "30    540\n",
       "31    560\n",
       "32    510\n",
       "33    581\n",
       "34    603\n",
       "35    617\n",
       "36    555\n",
       "37    537\n",
       "38    598\n",
       "39    573\n",
       "40    609\n",
       "41    607\n",
       "42    597\n",
       "43    513\n",
       "44    547\n",
       "45    497\n",
       "46    475\n",
       "47    480\n",
       "48    538\n",
       "49    508\n",
       "50    514\n",
       "51    448\n",
       "52    484\n",
       "53    459\n",
       "54    479\n",
       "55    443\n",
       "56    487\n",
       "57    460\n",
       "58    461\n",
       "59    444\n",
       "60    377\n",
       "61    355\n",
       "62    352\n",
       "63    269\n",
       "64    265\n",
       "65    194\n",
       "66    183\n",
       "67    167\n",
       "68     99\n",
       "69     85\n",
       "70     65\n",
       "71     58\n",
       "72     33\n",
       "73      8\n",
       "74      6\n",
       "75      1\n",
       "Name: income_type, dtype: int64"
      ]
     },
     "execution_count": 20,
     "metadata": {},
     "output_type": "execute_result"
    }
   ],
   "source": [
    "data.groupby('dob_years')['income_type'].count()"
   ]
  },
  {
   "cell_type": "code",
   "execution_count": 21,
   "metadata": {},
   "outputs": [
    {
     "data": {
      "text/plain": [
       "<AxesSubplot:xlabel='dob_years'>"
      ]
     },
     "execution_count": 21,
     "metadata": {},
     "output_type": "execute_result"
    },
    {
     "data": {
      "image/png": "[encoded data removed]",
      "text/plain": [
       "<Figure size 432x288 with 1 Axes>"
      ]
     },
     "metadata": {
      "needs_background": "light"
     },
     "output_type": "display_data"
    }
   ],
   "source": [
    "sns.boxplot(data=data, x='dob_years')"
   ]
  },
  {
   "cell_type": "markdown",
   "metadata": {},
   "source": [
    "В целом распределение по возрасту нормальное, за исключение небольшого выброса в 101 строку с нулевым значением возраста заемщика. Поскольку распределение близкое к нормальному, среднее арифметическое и медиана близки по значению, 42 и 43 года соответственно. Выберем для заполнения нулевых значений медиану, что бы не учитывать выброс. В этом случае пропуски имеют не стандартное значение, следовательно для их заполнения воспользуемся методом **.loc()**:"
   ]
  },
  {
   "cell_type": "code",
   "execution_count": 22,
   "metadata": {},
   "outputs": [],
   "source": [
    "data.loc[data['dob_years'] == 0, 'dob_years'] = 42"
   ]
  },
  {
   "cell_type": "code",
   "execution_count": 23,
   "metadata": {},
   "outputs": [
    {
     "data": {
      "text/plain": [
       "<AxesSubplot:xlabel='dob_years'>"
      ]
     },
     "execution_count": 23,
     "metadata": {},
     "output_type": "execute_result"
    },
    {
     "data": {
      "image/png": "[encoded data removed]",
      "text/plain": [
       "<Figure size 432x288 with 1 Axes>"
      ]
     },
     "metadata": {
      "needs_background": "light"
     },
     "output_type": "display_data"
    }
   ],
   "source": [
    "sns.boxplot(data=data, x='dob_years')"
   ]
  },
  {
   "cell_type": "markdown",
   "metadata": {},
   "source": [
    "Как видно на графике, в данных о возрасте потенциальных заемщиков больше нет нулевых значений. Причина возникновения таких пропусков - человеческий фактор."
   ]
  },
  {
   "cell_type": "markdown",
   "metadata": {},
   "source": [
    "#### Вывод"
   ]
  },
  {
   "cell_type": "markdown",
   "metadata": {},
   "source": [
    "Данные, полученные от кредитного отдела банка имеют очевидные пропуски в данных по ежемесячному доходу и в данных о рабочем стаже заемщика (более 10% от всего объема данных). Кроме того обнаружены нулевые значения в данных о возрасте (не более 0,5% от всего объема). Все три показателя имеют влияние на распределение баллов скоринговой системы:\n",
    "\n",
    " * `стаж работы` - чем дольше, тем больше баллов, именно поэтому незаполнение пропусков ухудшит картину по всему датасету, а заполнение средним арифметическим, наоборот сделает ее слишком оптимистичной, следовательно выбираем медиану.\n",
    " \n",
    " * `ежемесячный доход` - чем выше, тем больше баллов, следуя той же логике, заполняем медианой.\n",
    " \n",
    " * `возраст` - наибольший бал получают клиенты среднего возраста, а наименьший — молодые заявители, кредит выдают с 18 лет, поэтому нулевых значений быть не должно. Заменяем их медианой.\n"
   ]
  },
  {
   "cell_type": "markdown",
   "metadata": {},
   "source": [
    "### Изменение типа данных"
   ]
  },
  {
   "cell_type": "markdown",
   "metadata": {},
   "source": [
    "Изменяем вещественный тип данных в столбцах `days_employed` и `total_income` на целочисленный, используем метод **.astype()**, который позволяет перевести значения типа float в int: "
   ]
  },
  {
   "cell_type": "code",
   "execution_count": 24,
   "metadata": {},
   "outputs": [
    {
     "name": "stdout",
     "output_type": "stream",
     "text": [
      "<class 'pandas.core.frame.DataFrame'>\n",
      "RangeIndex: 21525 entries, 0 to 21524\n",
      "Data columns (total 12 columns):\n",
      " #   Column            Non-Null Count  Dtype \n",
      "---  ------            --------------  ----- \n",
      " 0   children          21525 non-null  int64 \n",
      " 1   days_employed     21525 non-null  int64 \n",
      " 2   dob_years         21525 non-null  int64 \n",
      " 3   education         21525 non-null  object\n",
      " 4   education_id      21525 non-null  int64 \n",
      " 5   family_status     21525 non-null  object\n",
      " 6   family_status_id  21525 non-null  int64 \n",
      " 7   gender            21525 non-null  object\n",
      " 8   income_type       21525 non-null  object\n",
      " 9   debt              21525 non-null  int64 \n",
      " 10  total_income      21525 non-null  int64 \n",
      " 11  purpose           21525 non-null  object\n",
      "dtypes: int64(7), object(5)\n",
      "memory usage: 2.0+ MB\n"
     ]
    }
   ],
   "source": [
    "data['days_employed'] = data['days_employed'].astype('int64')\n",
    "data['total_income'] = data['total_income'].astype('int64')\n",
    "data.info()"
   ]
  },
  {
   "cell_type": "markdown",
   "metadata": {},
   "source": [
    "Изменение типа данных на целочисленный сделает таблицу более 'чистой' и легкочитаемой."
   ]
  },
  {
   "cell_type": "markdown",
   "metadata": {},
   "source": [
    "### Удаление дубликатов"
   ]
  },
  {
   "cell_type": "markdown",
   "metadata": {},
   "source": [
    "#### Грубые дубликаты:"
   ]
  },
  {
   "cell_type": "code",
   "execution_count": 25,
   "metadata": {},
   "outputs": [
    {
     "data": {
      "text/plain": [
       "55"
      ]
     },
     "execution_count": 25,
     "metadata": {},
     "output_type": "execute_result"
    }
   ],
   "source": [
    "data.duplicated().sum()"
   ]
  },
  {
   "cell_type": "markdown",
   "metadata": {},
   "source": [
    "Появление грубых дубликатов (повторов) в нашем датафрейме возможно из-за:  \n",
    " * отсутствует какой-либо идентификационный номер клиента;\n",
    " * после заполнения средним значением, могли образоваться строки с абсолютно одинаковыми данными;\n",
    " * количество явных дубликатов очень мало в объеме всего датасета.\n",
    "\n",
    "Таким образом оставим их как есть.\n"
   ]
  },
  {
   "cell_type": "markdown",
   "metadata": {},
   "source": [
    "#### Найдем неявные дубликаты:"
   ]
  },
  {
   "cell_type": "markdown",
   "metadata": {},
   "source": [
    "Проверим столбцы со строковыми значениями `object` на дубликаты:"
   ]
  },
  {
   "cell_type": "markdown",
   "metadata": {},
   "source": [
    "##### 'education '"
   ]
  },
  {
   "cell_type": "markdown",
   "metadata": {},
   "source": [
    "- используем метод **.value_counts()**, который анализирует столбец, выбирает каждое уникальное значение и подсчитывает частоту его встречаемости в списке:"
   ]
  },
  {
   "cell_type": "code",
   "execution_count": 26,
   "metadata": {},
   "outputs": [
    {
     "data": {
      "text/plain": [
       "среднее                13750\n",
       "высшее                  4718\n",
       "СРЕДНЕЕ                  772\n",
       "Среднее                  711\n",
       "неоконченное высшее      668\n",
       "ВЫСШЕЕ                   274\n",
       "Высшее                   268\n",
       "начальное                250\n",
       "Неоконченное высшее       47\n",
       "НЕОКОНЧЕННОЕ ВЫСШЕЕ       29\n",
       "НАЧАЛЬНОЕ                 17\n",
       "Начальное                 15\n",
       "ученая степень             4\n",
       "УЧЕНАЯ СТЕПЕНЬ             1\n",
       "Ученая степень             1\n",
       "Name: education, dtype: int64"
      ]
     },
     "execution_count": 26,
     "metadata": {},
     "output_type": "execute_result"
    }
   ],
   "source": [
    "data['education'].value_counts()"
   ]
  },
  {
   "cell_type": "markdown",
   "metadata": {},
   "source": [
    "Избавимся от дубликатов методом **.str_lower()**, который приводит символы к нижнему регистру и проверим результат:"
   ]
  },
  {
   "cell_type": "code",
   "execution_count": 27,
   "metadata": {},
   "outputs": [
    {
     "data": {
      "text/plain": [
       "среднее                15233\n",
       "высшее                  5260\n",
       "неоконченное высшее      744\n",
       "начальное                282\n",
       "ученая степень             6\n",
       "Name: education, dtype: int64"
      ]
     },
     "execution_count": 27,
     "metadata": {},
     "output_type": "execute_result"
    }
   ],
   "source": [
    "data['education'] = data['education'].str.lower()\n",
    "data['education'].value_counts()"
   ]
  },
  {
   "cell_type": "markdown",
   "metadata": {},
   "source": [
    "##### 'family_status'"
   ]
  },
  {
   "cell_type": "code",
   "execution_count": 28,
   "metadata": {},
   "outputs": [
    {
     "data": {
      "text/plain": [
       "женат / замужем          12380\n",
       "гражданский брак          4177\n",
       "Не женат / не замужем     2813\n",
       "в разводе                 1195\n",
       "вдовец / вдова             960\n",
       "Name: family_status, dtype: int64"
      ]
     },
     "execution_count": 28,
     "metadata": {},
     "output_type": "execute_result"
    }
   ],
   "source": [
    "data['family_status'].value_counts()"
   ]
  },
  {
   "cell_type": "markdown",
   "metadata": {},
   "source": [
    "Приведем для единообразия к нижнему регистру:"
   ]
  },
  {
   "cell_type": "code",
   "execution_count": 29,
   "metadata": {},
   "outputs": [
    {
     "data": {
      "text/plain": [
       "женат / замужем          12380\n",
       "гражданский брак          4177\n",
       "не женат / не замужем     2813\n",
       "в разводе                 1195\n",
       "вдовец / вдова             960\n",
       "Name: family_status, dtype: int64"
      ]
     },
     "execution_count": 29,
     "metadata": {},
     "output_type": "execute_result"
    }
   ],
   "source": [
    "data['family_status'] = data['family_status'].str.lower()\n",
    "data['family_status'].value_counts()"
   ]
  },
  {
   "cell_type": "markdown",
   "metadata": {},
   "source": [
    "##### 'income_type'"
   ]
  },
  {
   "cell_type": "code",
   "execution_count": 30,
   "metadata": {},
   "outputs": [
    {
     "data": {
      "text/plain": [
       "сотрудник          11119\n",
       "компаньон           5085\n",
       "пенсионер           3856\n",
       "госслужащий         1459\n",
       "безработный            2\n",
       "предприниматель        2\n",
       "в декрете              1\n",
       "студент                1\n",
       "Name: income_type, dtype: int64"
      ]
     },
     "execution_count": 30,
     "metadata": {},
     "output_type": "execute_result"
    }
   ],
   "source": [
    "data['income_type'].value_counts()"
   ]
  },
  {
   "cell_type": "markdown",
   "metadata": {},
   "source": [
    "##### 'purpose' : лемматизация и категоризация"
   ]
  },
  {
   "cell_type": "markdown",
   "metadata": {},
   "source": [
    "С помощью метода **.value_counts()** найдем все уникальные значения столбца 'purpose' и частоту их появления в списке:"
   ]
  },
  {
   "cell_type": "code",
   "execution_count": 31,
   "metadata": {},
   "outputs": [
    {
     "name": "stdout",
     "output_type": "stream",
     "text": [
      "свадьба                                   797\n",
      "на проведение свадьбы                     777\n",
      "сыграть свадьбу                           774\n",
      "операции с недвижимостью                  676\n",
      "покупка коммерческой недвижимости         664\n",
      "операции с жильем                         653\n",
      "покупка жилья для сдачи                   653\n",
      "операции с коммерческой недвижимостью     651\n",
      "жилье                                     647\n",
      "покупка жилья                             647\n",
      "покупка жилья для семьи                   641\n",
      "строительство собственной недвижимости    635\n",
      "недвижимость                              634\n",
      "операции со своей недвижимостью           630\n",
      "строительство жилой недвижимости          626\n",
      "покупка недвижимости                      624\n",
      "покупка своего жилья                      620\n",
      "строительство недвижимости                620\n",
      "ремонт жилью                              612\n",
      "покупка жилой недвижимости                607\n",
      "на покупку своего автомобиля              505\n",
      "заняться высшим образованием              496\n",
      "автомобиль                                495\n",
      "сделка с подержанным автомобилем          489\n",
      "свой автомобиль                           480\n",
      "на покупку подержанного автомобиля        479\n",
      "автомобили                                478\n",
      "на покупку автомобиля                     472\n",
      "дополнительное образование                462\n",
      "приобретение автомобиля                   462\n",
      "сделка с автомобилем                      455\n",
      "высшее образование                        453\n",
      "получение дополнительного образования     447\n",
      "образование                               447\n",
      "получение образования                     443\n",
      "профильное образование                    436\n",
      "получение высшего образования             426\n",
      "заняться образованием                     412\n",
      "Name: purpose, dtype: int64\n"
     ]
    }
   ],
   "source": [
    "purpose_cases = data['purpose'].value_counts()\n",
    "print(purpose_cases)"
   ]
  },
  {
   "cell_type": "markdown",
   "metadata": {},
   "source": [
    "Согласно данным столбца, частота появления каждого значения распределена равномерно,нет неиспользуемых значений, тем не менее многие значения очень схожи по смыслу, т.е. являются замаскированными повторами. К примеру значения строк 'на покупку своего автомобиля', 'приобретение автомобиля', 'на покупку автомобиля' было бы полезно объединить под одно название, но в столбце мы видим и более общие варианты, такие как 'автомобиль' и не можем быть уверены имеется ли в виду его покупка, ремонт и др. Для целей нашего анализа подойдет достаточно грубая категоризация: 'свадьба', 'автомобиль', 'жилье и недвижимость', 'образование'. "
   ]
  },
  {
   "cell_type": "markdown",
   "metadata": {},
   "source": [
    "Для того, чтобы осуществить такую категоризацию, необходимо привести слова каждого уникального значения столбца 'purpose' к их словарной форме - лемме - и отфильтровать значения столбца по выбранным ключевым словам."
   ]
  },
  {
   "cell_type": "markdown",
   "metadata": {},
   "source": [
    "С помощью метода **.unique()** получаем список уникальных значений столбца 'purpose':"
   ]
  },
  {
   "cell_type": "code",
   "execution_count": 32,
   "metadata": {},
   "outputs": [],
   "source": [
    "purpose_list = data['purpose'].unique()"
   ]
  },
  {
   "cell_type": "code",
   "execution_count": 33,
   "metadata": {
    "scrolled": true
   },
   "outputs": [
    {
     "name": "stdout",
     "output_type": "stream",
     "text": [
      "['покупка жилья' 'приобретение автомобиля' 'дополнительное образование'\n",
      " 'сыграть свадьбу' 'операции с жильем' 'образование'\n",
      " 'на проведение свадьбы' 'покупка жилья для семьи' 'покупка недвижимости'\n",
      " 'покупка коммерческой недвижимости' 'покупка жилой недвижимости'\n",
      " 'строительство собственной недвижимости' 'недвижимость'\n",
      " 'строительство недвижимости' 'на покупку подержанного автомобиля'\n",
      " 'на покупку своего автомобиля' 'операции с коммерческой недвижимостью'\n",
      " 'строительство жилой недвижимости' 'жилье'\n",
      " 'операции со своей недвижимостью' 'автомобили' 'заняться образованием'\n",
      " 'сделка с подержанным автомобилем' 'получение образования' 'автомобиль'\n",
      " 'свадьба' 'получение дополнительного образования' 'покупка своего жилья'\n",
      " 'операции с недвижимостью' 'получение высшего образования'\n",
      " 'свой автомобиль' 'сделка с автомобилем' 'профильное образование'\n",
      " 'высшее образование' 'покупка жилья для сдачи' 'на покупку автомобиля'\n",
      " 'ремонт жилью' 'заняться высшим образованием']\n"
     ]
    }
   ],
   "source": [
    "print(purpose_list)"
   ]
  },
  {
   "cell_type": "markdown",
   "metadata": {},
   "source": [
    "Проходим по нему циклом **for**, приводя к лемме каждое значение:"
   ]
  },
  {
   "cell_type": "code",
   "execution_count": 34,
   "metadata": {
    "scrolled": true
   },
   "outputs": [
    {
     "name": "stdout",
     "output_type": "stream",
     "text": [
      "['покупка', ' ', 'жилье', '\\n']\n",
      "['приобретение', ' ', 'автомобиль', '\\n']\n",
      "['дополнительный', ' ', 'образование', '\\n']\n",
      "['сыграть', ' ', 'свадьба', '\\n']\n",
      "['операция', ' ', 'с', ' ', 'жилье', '\\n']\n",
      "['образование', '\\n']\n",
      "['на', ' ', 'проведение', ' ', 'свадьба', '\\n']\n",
      "['покупка', ' ', 'жилье', ' ', 'для', ' ', 'семья', '\\n']\n",
      "['покупка', ' ', 'недвижимость', '\\n']\n",
      "['покупка', ' ', 'коммерческий', ' ', 'недвижимость', '\\n']\n",
      "['покупка', ' ', 'жилой', ' ', 'недвижимость', '\\n']\n",
      "['строительство', ' ', 'собственный', ' ', 'недвижимость', '\\n']\n",
      "['недвижимость', '\\n']\n",
      "['строительство', ' ', 'недвижимость', '\\n']\n",
      "['на', ' ', 'покупка', ' ', 'подержать', ' ', 'автомобиль', '\\n']\n",
      "['на', ' ', 'покупка', ' ', 'свой', ' ', 'автомобиль', '\\n']\n",
      "['операция', ' ', 'с', ' ', 'коммерческий', ' ', 'недвижимость', '\\n']\n",
      "['строительство', ' ', 'жилой', ' ', 'недвижимость', '\\n']\n",
      "['жилье', '\\n']\n",
      "['операция', ' ', 'со', ' ', 'свой', ' ', 'недвижимость', '\\n']\n",
      "['автомобиль', '\\n']\n",
      "['заниматься', ' ', 'образование', '\\n']\n",
      "['сделка', ' ', 'с', ' ', 'подержанный', ' ', 'автомобиль', '\\n']\n",
      "['получение', ' ', 'образование', '\\n']\n",
      "['автомобиль', '\\n']\n",
      "['свадьба', '\\n']\n",
      "['получение', ' ', 'дополнительный', ' ', 'образование', '\\n']\n",
      "['покупка', ' ', 'свой', ' ', 'жилье', '\\n']\n",
      "['операция', ' ', 'с', ' ', 'недвижимость', '\\n']\n",
      "['получение', ' ', 'высокий', ' ', 'образование', '\\n']\n",
      "['свой', ' ', 'автомобиль', '\\n']\n",
      "['сделка', ' ', 'с', ' ', 'автомобиль', '\\n']\n",
      "['профильный', ' ', 'образование', '\\n']\n",
      "['высокий', ' ', 'образование', '\\n']\n",
      "['покупка', ' ', 'жилье', ' ', 'для', ' ', 'сдача', '\\n']\n",
      "['на', ' ', 'покупка', ' ', 'автомобиль', '\\n']\n",
      "['ремонт', ' ', 'жилье', '\\n']\n",
      "['заниматься', ' ', 'высокий', ' ', 'образование', '\\n']\n"
     ]
    }
   ],
   "source": [
    "for value in purpose_list:\n",
    "    lemma = m.lemmatize(value)\n",
    "    print(lemma)\n"
   ]
  },
  {
   "cell_type": "markdown",
   "metadata": {},
   "source": [
    "Как мы видим, все слова приведены к их начальной форме, в каждой подстроке встречается одно из определенных выше значений: автомобиль, свадьба, жилье, недвижимость, образование. "
   ]
  },
  {
   "cell_type": "markdown",
   "metadata": {},
   "source": [
    "Создадим функцию, котороя проходит по столбцу `purpose`, лемматизирует слова и выполняет одно из условий категоризации:"
   ]
  },
  {
   "cell_type": "code",
   "execution_count": 36,
   "metadata": {},
   "outputs": [],
   "source": [
    "def category_lemma_purpose(row):\n",
    "    lemma_purpose = m.lemmatize(row['purpose'])\n",
    "    if 'свадьба' in lemma_purpose:\n",
    "        return 'свадьба'\n",
    "    if ('жилье' in lemma_purpose) or ('недвижимость' in lemma_purpose ):\n",
    "        return 'недвижимость'\n",
    "    if 'образование' in lemma_purpose:\n",
    "        return 'образование'\n",
    "    if 'автомобиль' in lemma_purpose:\n",
    "        return 'автомобиль'"
   ]
  },
  {
   "cell_type": "markdown",
   "metadata": {},
   "source": [
    "Создадим новый столбец в таблице `purpose_category`, в котором отразим результат работы функции **category_lemma_puprose** на данных слотбца `purpose`, выведем первые 10 строк датафрейма:"
   ]
  },
  {
   "cell_type": "code",
   "execution_count": 37,
   "metadata": {},
   "outputs": [],
   "source": [
    "data['purpose_category'] = data.apply(category_lemma_purpose, axis=1)"
   ]
  },
  {
   "cell_type": "code",
   "execution_count": 38,
   "metadata": {},
   "outputs": [
    {
     "data": {
      "text/html": [
       "<div>\n",
       "<style scoped>\n",
       "    .dataframe tbody tr th:only-of-type {\n",
       "        vertical-align: middle;\n",
       "    }\n",
       "\n",
       "    .dataframe tbody tr th {\n",
       "        vertical-align: top;\n",
       "    }\n",
       "\n",
       "    .dataframe thead th {\n",
       "        text-align: right;\n",
       "    }\n",
       "</style>\n",
       "<table border=\"1\" class=\"dataframe\">\n",
       "  <thead>\n",
       "    <tr style=\"text-align: right;\">\n",
       "      <th></th>\n",
       "      <th>children</th>\n",
       "      <th>days_employed</th>\n",
       "      <th>dob_years</th>\n",
       "      <th>education</th>\n",
       "      <th>education_id</th>\n",
       "      <th>family_status</th>\n",
       "      <th>family_status_id</th>\n",
       "      <th>gender</th>\n",
       "      <th>income_type</th>\n",
       "      <th>debt</th>\n",
       "      <th>total_income</th>\n",
       "      <th>purpose</th>\n",
       "      <th>purpose_category</th>\n",
       "    </tr>\n",
       "  </thead>\n",
       "  <tbody>\n",
       "    <tr>\n",
       "      <th>0</th>\n",
       "      <td>1</td>\n",
       "      <td>8437</td>\n",
       "      <td>42</td>\n",
       "      <td>высшее</td>\n",
       "      <td>0</td>\n",
       "      <td>женат / замужем</td>\n",
       "      <td>0</td>\n",
       "      <td>F</td>\n",
       "      <td>сотрудник</td>\n",
       "      <td>0</td>\n",
       "      <td>253875</td>\n",
       "      <td>покупка жилья</td>\n",
       "      <td>недвижимость</td>\n",
       "    </tr>\n",
       "    <tr>\n",
       "      <th>1</th>\n",
       "      <td>1</td>\n",
       "      <td>4024</td>\n",
       "      <td>36</td>\n",
       "      <td>среднее</td>\n",
       "      <td>1</td>\n",
       "      <td>женат / замужем</td>\n",
       "      <td>0</td>\n",
       "      <td>F</td>\n",
       "      <td>сотрудник</td>\n",
       "      <td>0</td>\n",
       "      <td>112080</td>\n",
       "      <td>приобретение автомобиля</td>\n",
       "      <td>автомобиль</td>\n",
       "    </tr>\n",
       "    <tr>\n",
       "      <th>2</th>\n",
       "      <td>0</td>\n",
       "      <td>5623</td>\n",
       "      <td>33</td>\n",
       "      <td>среднее</td>\n",
       "      <td>1</td>\n",
       "      <td>женат / замужем</td>\n",
       "      <td>0</td>\n",
       "      <td>M</td>\n",
       "      <td>сотрудник</td>\n",
       "      <td>0</td>\n",
       "      <td>145885</td>\n",
       "      <td>покупка жилья</td>\n",
       "      <td>недвижимость</td>\n",
       "    </tr>\n",
       "    <tr>\n",
       "      <th>3</th>\n",
       "      <td>3</td>\n",
       "      <td>4124</td>\n",
       "      <td>32</td>\n",
       "      <td>среднее</td>\n",
       "      <td>1</td>\n",
       "      <td>женат / замужем</td>\n",
       "      <td>0</td>\n",
       "      <td>M</td>\n",
       "      <td>сотрудник</td>\n",
       "      <td>0</td>\n",
       "      <td>267628</td>\n",
       "      <td>дополнительное образование</td>\n",
       "      <td>образование</td>\n",
       "    </tr>\n",
       "    <tr>\n",
       "      <th>4</th>\n",
       "      <td>0</td>\n",
       "      <td>14177</td>\n",
       "      <td>53</td>\n",
       "      <td>среднее</td>\n",
       "      <td>1</td>\n",
       "      <td>гражданский брак</td>\n",
       "      <td>1</td>\n",
       "      <td>F</td>\n",
       "      <td>пенсионер</td>\n",
       "      <td>0</td>\n",
       "      <td>158616</td>\n",
       "      <td>сыграть свадьбу</td>\n",
       "      <td>свадьба</td>\n",
       "    </tr>\n",
       "  </tbody>\n",
       "</table>\n",
       "</div>"
      ],
      "text/plain": [
       "   children  days_employed  dob_years education  education_id  \\\n",
       "0         1           8437         42    высшее             0   \n",
       "1         1           4024         36   среднее             1   \n",
       "2         0           5623         33   среднее             1   \n",
       "3         3           4124         32   среднее             1   \n",
       "4         0          14177         53   среднее             1   \n",
       "\n",
       "      family_status  family_status_id gender income_type  debt  total_income  \\\n",
       "0   женат / замужем                 0      F   сотрудник     0        253875   \n",
       "1   женат / замужем                 0      F   сотрудник     0        112080   \n",
       "2   женат / замужем                 0      M   сотрудник     0        145885   \n",
       "3   женат / замужем                 0      M   сотрудник     0        267628   \n",
       "4  гражданский брак                 1      F   пенсионер     0        158616   \n",
       "\n",
       "                      purpose purpose_category  \n",
       "0               покупка жилья     недвижимость  \n",
       "1     приобретение автомобиля       автомобиль  \n",
       "2               покупка жилья     недвижимость  \n",
       "3  дополнительное образование      образование  \n",
       "4             сыграть свадьбу          свадьба  "
      ]
     },
     "execution_count": 38,
     "metadata": {},
     "output_type": "execute_result"
    }
   ],
   "source": [
    "data.head(5)"
   ]
  },
  {
   "cell_type": "code",
   "execution_count": 39,
   "metadata": {},
   "outputs": [
    {
     "name": "stdout",
     "output_type": "stream",
     "text": [
      "недвижимость    10840\n",
      "автомобиль       4315\n",
      "образование      4022\n",
      "свадьба          2348\n",
      "Name: purpose_category, dtype: int64\n"
     ]
    }
   ],
   "source": [
    "purpose_cases = data['purpose_category'].value_counts()\n",
    "print(purpose_cases)"
   ]
  },
  {
   "cell_type": "markdown",
   "metadata": {},
   "source": [
    "Мы категоризировали каждую строку датасета, получили 4 основные цели заявок на кредит, таким образом упростилась визуальная работа с таблицей."
   ]
  },
  {
   "cell_type": "markdown",
   "metadata": {},
   "source": [
    "##### 'children'"
   ]
  },
  {
   "cell_type": "code",
   "execution_count": 40,
   "metadata": {},
   "outputs": [
    {
     "data": {
      "text/plain": [
       " 0     14149\n",
       " 1      4818\n",
       " 2      2055\n",
       " 3       330\n",
       " 20       76\n",
       "-1        47\n",
       " 4        41\n",
       " 5         9\n",
       "Name: children, dtype: int64"
      ]
     },
     "metadata": {},
     "output_type": "display_data"
    }
   ],
   "source": [
    "display(data['children'].value_counts())"
   ]
  },
  {
   "cell_type": "markdown",
   "metadata": {},
   "source": [
    "Мы встречаем дубликаты и в столбце `children`, очевидно, что невозможно иметь -1 ребенка, имеется в виду 1. Избавимся от отрицательных значений методом **.abs()**, который на выходе отдает значения по модулю. Проверим изменения:"
   ]
  },
  {
   "cell_type": "code",
   "execution_count": 41,
   "metadata": {},
   "outputs": [
    {
     "data": {
      "text/plain": [
       "0     14149\n",
       "1      4865\n",
       "2      2055\n",
       "3       330\n",
       "20       76\n",
       "4        41\n",
       "5         9\n",
       "Name: children, dtype: int64"
      ]
     },
     "metadata": {},
     "output_type": "display_data"
    }
   ],
   "source": [
    "data['children'] = abs(data['children'])\n",
    "display(data['children'].value_counts())"
   ]
  },
  {
   "cell_type": "markdown",
   "metadata": {},
   "source": [
    "Посмотрим строки, где количество детей равно 20:"
   ]
  },
  {
   "cell_type": "code",
   "execution_count": 42,
   "metadata": {
    "scrolled": true
   },
   "outputs": [
    {
     "data": {
      "text/html": [
       "<div>\n",
       "<style scoped>\n",
       "    .dataframe tbody tr th:only-of-type {\n",
       "        vertical-align: middle;\n",
       "    }\n",
       "\n",
       "    .dataframe tbody tr th {\n",
       "        vertical-align: top;\n",
       "    }\n",
       "\n",
       "    .dataframe thead th {\n",
       "        text-align: right;\n",
       "    }\n",
       "</style>\n",
       "<table border=\"1\" class=\"dataframe\">\n",
       "  <thead>\n",
       "    <tr style=\"text-align: right;\">\n",
       "      <th></th>\n",
       "      <th>children</th>\n",
       "      <th>days_employed</th>\n",
       "      <th>dob_years</th>\n",
       "      <th>education</th>\n",
       "      <th>education_id</th>\n",
       "      <th>family_status</th>\n",
       "      <th>family_status_id</th>\n",
       "      <th>gender</th>\n",
       "      <th>income_type</th>\n",
       "      <th>debt</th>\n",
       "      <th>total_income</th>\n",
       "      <th>purpose</th>\n",
       "      <th>purpose_category</th>\n",
       "    </tr>\n",
       "  </thead>\n",
       "  <tbody>\n",
       "    <tr>\n",
       "      <th>606</th>\n",
       "      <td>20</td>\n",
       "      <td>880</td>\n",
       "      <td>21</td>\n",
       "      <td>среднее</td>\n",
       "      <td>1</td>\n",
       "      <td>женат / замужем</td>\n",
       "      <td>0</td>\n",
       "      <td>M</td>\n",
       "      <td>компаньон</td>\n",
       "      <td>0</td>\n",
       "      <td>145334</td>\n",
       "      <td>покупка жилья</td>\n",
       "      <td>недвижимость</td>\n",
       "    </tr>\n",
       "    <tr>\n",
       "      <th>720</th>\n",
       "      <td>20</td>\n",
       "      <td>855</td>\n",
       "      <td>44</td>\n",
       "      <td>среднее</td>\n",
       "      <td>1</td>\n",
       "      <td>женат / замужем</td>\n",
       "      <td>0</td>\n",
       "      <td>F</td>\n",
       "      <td>компаньон</td>\n",
       "      <td>0</td>\n",
       "      <td>112998</td>\n",
       "      <td>покупка недвижимости</td>\n",
       "      <td>недвижимость</td>\n",
       "    </tr>\n",
       "    <tr>\n",
       "      <th>1074</th>\n",
       "      <td>20</td>\n",
       "      <td>3310</td>\n",
       "      <td>56</td>\n",
       "      <td>среднее</td>\n",
       "      <td>1</td>\n",
       "      <td>женат / замужем</td>\n",
       "      <td>0</td>\n",
       "      <td>F</td>\n",
       "      <td>сотрудник</td>\n",
       "      <td>1</td>\n",
       "      <td>229518</td>\n",
       "      <td>получение образования</td>\n",
       "      <td>образование</td>\n",
       "    </tr>\n",
       "    <tr>\n",
       "      <th>2510</th>\n",
       "      <td>20</td>\n",
       "      <td>2714</td>\n",
       "      <td>59</td>\n",
       "      <td>высшее</td>\n",
       "      <td>0</td>\n",
       "      <td>вдовец / вдова</td>\n",
       "      <td>2</td>\n",
       "      <td>F</td>\n",
       "      <td>сотрудник</td>\n",
       "      <td>0</td>\n",
       "      <td>264474</td>\n",
       "      <td>операции с коммерческой недвижимостью</td>\n",
       "      <td>недвижимость</td>\n",
       "    </tr>\n",
       "    <tr>\n",
       "      <th>2941</th>\n",
       "      <td>20</td>\n",
       "      <td>2161</td>\n",
       "      <td>42</td>\n",
       "      <td>среднее</td>\n",
       "      <td>1</td>\n",
       "      <td>женат / замужем</td>\n",
       "      <td>0</td>\n",
       "      <td>F</td>\n",
       "      <td>сотрудник</td>\n",
       "      <td>0</td>\n",
       "      <td>199739</td>\n",
       "      <td>на покупку автомобиля</td>\n",
       "      <td>автомобиль</td>\n",
       "    </tr>\n",
       "  </tbody>\n",
       "</table>\n",
       "</div>"
      ],
      "text/plain": [
       "      children  days_employed  dob_years education  education_id  \\\n",
       "606         20            880         21   среднее             1   \n",
       "720         20            855         44   среднее             1   \n",
       "1074        20           3310         56   среднее             1   \n",
       "2510        20           2714         59    высшее             0   \n",
       "2941        20           2161         42   среднее             1   \n",
       "\n",
       "        family_status  family_status_id gender income_type  debt  \\\n",
       "606   женат / замужем                 0      M   компаньон     0   \n",
       "720   женат / замужем                 0      F   компаньон     0   \n",
       "1074  женат / замужем                 0      F   сотрудник     1   \n",
       "2510   вдовец / вдова                 2      F   сотрудник     0   \n",
       "2941  женат / замужем                 0      F   сотрудник     0   \n",
       "\n",
       "      total_income                                purpose purpose_category  \n",
       "606         145334                          покупка жилья     недвижимость  \n",
       "720         112998                   покупка недвижимости     недвижимость  \n",
       "1074        229518                  получение образования      образование  \n",
       "2510        264474  операции с коммерческой недвижимостью     недвижимость  \n",
       "2941        199739                  на покупку автомобиля       автомобиль  "
      ]
     },
     "metadata": {},
     "output_type": "display_data"
    }
   ],
   "source": [
    "display(data[data['children'] == 20].head())"
   ]
  },
  {
   "cell_type": "markdown",
   "metadata": {},
   "source": [
    "Невозможно сказать наверняка, это ошибка ввода (20 вместо 2) или нет. Возраст заемщика не всегда логически совпрадает с количеством детей, например 20 детей в 21 год. Тем не менее нельзя исключать обращение за кредитом родителей с приемными детьми. Этих значений всего 76, что не является значимым для нашего анализа, оставляем как есть."
   ]
  },
  {
   "cell_type": "markdown",
   "metadata": {},
   "source": [
    "##### 'debt'"
   ]
  },
  {
   "cell_type": "code",
   "execution_count": 43,
   "metadata": {},
   "outputs": [
    {
     "name": "stdout",
     "output_type": "stream",
     "text": [
      "0    19784\n",
      "1     1741\n",
      "Name: debt, dtype: int64\n"
     ]
    }
   ],
   "source": [
    "print(data['debt'].value_counts())"
   ]
  },
  {
   "cell_type": "markdown",
   "metadata": {},
   "source": [
    "Столбец `debt` без дубликатов. Мы видим, что 8,8% заявителей имеют задолженность по кредиту."
   ]
  },
  {
   "cell_type": "markdown",
   "metadata": {},
   "source": [
    "##### 'gender'"
   ]
  },
  {
   "cell_type": "code",
   "execution_count": 44,
   "metadata": {
    "scrolled": false
   },
   "outputs": [
    {
     "name": "stdout",
     "output_type": "stream",
     "text": [
      "F      14236\n",
      "M       7288\n",
      "XNA        1\n",
      "Name: gender, dtype: int64\n"
     ]
    },
    {
     "data": {
      "text/html": [
       "<div>\n",
       "<style scoped>\n",
       "    .dataframe tbody tr th:only-of-type {\n",
       "        vertical-align: middle;\n",
       "    }\n",
       "\n",
       "    .dataframe tbody tr th {\n",
       "        vertical-align: top;\n",
       "    }\n",
       "\n",
       "    .dataframe thead th {\n",
       "        text-align: right;\n",
       "    }\n",
       "</style>\n",
       "<table border=\"1\" class=\"dataframe\">\n",
       "  <thead>\n",
       "    <tr style=\"text-align: right;\">\n",
       "      <th></th>\n",
       "      <th>children</th>\n",
       "      <th>days_employed</th>\n",
       "      <th>dob_years</th>\n",
       "      <th>education</th>\n",
       "      <th>education_id</th>\n",
       "      <th>family_status</th>\n",
       "      <th>family_status_id</th>\n",
       "      <th>gender</th>\n",
       "      <th>income_type</th>\n",
       "      <th>debt</th>\n",
       "      <th>total_income</th>\n",
       "      <th>purpose</th>\n",
       "      <th>purpose_category</th>\n",
       "    </tr>\n",
       "  </thead>\n",
       "  <tbody>\n",
       "    <tr>\n",
       "      <th>10701</th>\n",
       "      <td>0</td>\n",
       "      <td>2358</td>\n",
       "      <td>24</td>\n",
       "      <td>неоконченное высшее</td>\n",
       "      <td>2</td>\n",
       "      <td>гражданский брак</td>\n",
       "      <td>1</td>\n",
       "      <td>XNA</td>\n",
       "      <td>компаньон</td>\n",
       "      <td>0</td>\n",
       "      <td>203905</td>\n",
       "      <td>покупка недвижимости</td>\n",
       "      <td>недвижимость</td>\n",
       "    </tr>\n",
       "  </tbody>\n",
       "</table>\n",
       "</div>"
      ],
      "text/plain": [
       "       children  days_employed  dob_years            education  education_id  \\\n",
       "10701         0           2358         24  неоконченное высшее             2   \n",
       "\n",
       "          family_status  family_status_id gender income_type  debt  \\\n",
       "10701  гражданский брак                 1    XNA   компаньон     0   \n",
       "\n",
       "       total_income               purpose purpose_category  \n",
       "10701        203905  покупка недвижимости     недвижимость  "
      ]
     },
     "metadata": {},
     "output_type": "display_data"
    }
   ],
   "source": [
    "print(data['gender'].value_counts())\n",
    "display(data[data['gender'] == 'XNA'])"
   ]
  },
  {
   "cell_type": "markdown",
   "metadata": {},
   "source": [
    "Если мы придадим значению этой строки M или F, это не скажется на результатах анализа, но позволит сделать таблицу чище, применим метод **.replace()**, где первое значение - нежелательное, а второе - то, которое заменит первое:"
   ]
  },
  {
   "cell_type": "code",
   "execution_count": 45,
   "metadata": {},
   "outputs": [],
   "source": [
    "data['gender'] = data['gender'].replace('XNA', 'F')"
   ]
  },
  {
   "cell_type": "code",
   "execution_count": 46,
   "metadata": {},
   "outputs": [
    {
     "name": "stdout",
     "output_type": "stream",
     "text": [
      "F    14237\n",
      "M     7288\n",
      "Name: gender, dtype: int64\n"
     ]
    }
   ],
   "source": [
    "print(data['gender'].value_counts())"
   ]
  },
  {
   "cell_type": "markdown",
   "metadata": {},
   "source": [
    "#### Вывод"
   ]
  },
  {
   "cell_type": "markdown",
   "metadata": {},
   "source": [
    "Мы проверили столбцы со строковыми значениями на дубликаты. \n",
    "* В столбцах `education` и `family_status`, было достаточно привести к нижнему регистру все значения, что бы избавиться от дубликатов. \n",
    "* Столбец `purpose` оставлен как есть, но на его данных сформирован новый `purpose_category` с более грубой, но эффективной категоризацией. \n",
    "* Кроме этого, мы устранили отрицательное значение в столбце `children` и неизвестный признак пола в столбце `gender`.\n",
    "\n",
    "Все эти операции помогут нам избежать серьезных и с трудом обнаруживаемых ошибок в анализе, а также уменьшить время обработки данных."
   ]
  },
  {
   "cell_type": "markdown",
   "metadata": {},
   "source": [
    "## Анализ влияния различных факторов на своевременное погашение задолженности"
   ]
  },
  {
   "cell_type": "markdown",
   "metadata": {},
   "source": [
    "#### 'children'/'debt'"
   ]
  },
  {
   "cell_type": "markdown",
   "metadata": {},
   "source": [
    "- Есть ли зависимость между наличием детей и возвратом кредита в срок?"
   ]
  },
  {
   "cell_type": "markdown",
   "metadata": {},
   "source": [
    "Посмотрим, как распределяются случаи невозврата кредита в зависимости от количества детей. Создадим сводную таблицу методом **.pivot_table()**, где индексом выступят значения столбца `children`, группировка пройдет по стобцу `debt`, столбц `education` для подсчета строк, и применяемая к этим значениям функция count: "
   ]
  },
  {
   "cell_type": "code",
   "execution_count": 47,
   "metadata": {},
   "outputs": [
    {
     "data": {
      "text/html": [
       "<div>\n",
       "<style scoped>\n",
       "    .dataframe tbody tr th:only-of-type {\n",
       "        vertical-align: middle;\n",
       "    }\n",
       "\n",
       "    .dataframe tbody tr th {\n",
       "        vertical-align: top;\n",
       "    }\n",
       "\n",
       "    .dataframe thead th {\n",
       "        text-align: right;\n",
       "    }\n",
       "</style>\n",
       "<table border=\"1\" class=\"dataframe\">\n",
       "  <thead>\n",
       "    <tr style=\"text-align: right;\">\n",
       "      <th>debt</th>\n",
       "      <th>0</th>\n",
       "      <th>1</th>\n",
       "    </tr>\n",
       "    <tr>\n",
       "      <th>children</th>\n",
       "      <th></th>\n",
       "      <th></th>\n",
       "    </tr>\n",
       "  </thead>\n",
       "  <tbody>\n",
       "    <tr>\n",
       "      <th>0</th>\n",
       "      <td>13086.0</td>\n",
       "      <td>1063.0</td>\n",
       "    </tr>\n",
       "    <tr>\n",
       "      <th>1</th>\n",
       "      <td>4420.0</td>\n",
       "      <td>445.0</td>\n",
       "    </tr>\n",
       "    <tr>\n",
       "      <th>2</th>\n",
       "      <td>1861.0</td>\n",
       "      <td>194.0</td>\n",
       "    </tr>\n",
       "    <tr>\n",
       "      <th>3</th>\n",
       "      <td>303.0</td>\n",
       "      <td>27.0</td>\n",
       "    </tr>\n",
       "    <tr>\n",
       "      <th>4</th>\n",
       "      <td>37.0</td>\n",
       "      <td>4.0</td>\n",
       "    </tr>\n",
       "    <tr>\n",
       "      <th>5</th>\n",
       "      <td>9.0</td>\n",
       "      <td>NaN</td>\n",
       "    </tr>\n",
       "    <tr>\n",
       "      <th>20</th>\n",
       "      <td>68.0</td>\n",
       "      <td>8.0</td>\n",
       "    </tr>\n",
       "  </tbody>\n",
       "</table>\n",
       "</div>"
      ],
      "text/plain": [
       "debt            0       1\n",
       "children                 \n",
       "0         13086.0  1063.0\n",
       "1          4420.0   445.0\n",
       "2          1861.0   194.0\n",
       "3           303.0    27.0\n",
       "4            37.0     4.0\n",
       "5             9.0     NaN\n",
       "20           68.0     8.0"
      ]
     },
     "metadata": {},
     "output_type": "display_data"
    }
   ],
   "source": [
    "children_pivot = data.pivot_table(index='children', columns= 'debt', values='education', aggfunc='count')\n",
    "display(children_pivot)"
   ]
  },
  {
   "cell_type": "markdown",
   "metadata": {},
   "source": [
    "Для визуализации используем столбчатую диаграмму, передаем функции .barplot() заранее созданный список количества детей `children_number` как **x**, а значения столбца `1` таблицы `children_pivot` как **y**. Выведем резельтат в цветовой палитре 'Blues':"
   ]
  },
  {
   "cell_type": "code",
   "execution_count": 48,
   "metadata": {},
   "outputs": [
    {
     "data": {
      "text/plain": [
       "<AxesSubplot:ylabel='1'>"
      ]
     },
     "execution_count": 48,
     "metadata": {},
     "output_type": "execute_result"
    },
    {
     "data": {
      "image/png": "[encoded data removed]",
      "text/plain": [
       "<Figure size 432x288 with 1 Axes>"
      ]
     },
     "metadata": {
      "needs_background": "light"
     },
     "output_type": "display_data"
    }
   ],
   "source": [
    "children_number = ['0', '1', '2', '3', '4', '5', '6 - 20']\n",
    "sns.barplot(x = children_number, y = children_pivot[1], palette='Blues')"
   ]
  },
  {
   "cell_type": "markdown",
   "metadata": {},
   "source": [
    "Согласно графика, есть близкая к линейной зависимость наличия/количества детей и невозвратом кредита. Более склонны к задержкам по платежам бездетные заявители. А с появлением детей благонадежность потенциального клиента растет. Стоит проверить, насколько эта гипотеза верена. \n",
    "\n",
    "Посчитаем процент невозвратов от общего количества обращений в разрезе количества детей. Добавим новый столбец `debt_percent` и заполним его данными, обернем столбец функцией **round()**, для округления:"
   ]
  },
  {
   "cell_type": "code",
   "execution_count": 49,
   "metadata": {},
   "outputs": [
    {
     "data": {
      "text/html": [
       "<div>\n",
       "<style scoped>\n",
       "    .dataframe tbody tr th:only-of-type {\n",
       "        vertical-align: middle;\n",
       "    }\n",
       "\n",
       "    .dataframe tbody tr th {\n",
       "        vertical-align: top;\n",
       "    }\n",
       "\n",
       "    .dataframe thead th {\n",
       "        text-align: right;\n",
       "    }\n",
       "</style>\n",
       "<table border=\"1\" class=\"dataframe\">\n",
       "  <thead>\n",
       "    <tr style=\"text-align: right;\">\n",
       "      <th>debt</th>\n",
       "      <th>0</th>\n",
       "      <th>1</th>\n",
       "      <th>debt_percent</th>\n",
       "    </tr>\n",
       "    <tr>\n",
       "      <th>children</th>\n",
       "      <th></th>\n",
       "      <th></th>\n",
       "      <th></th>\n",
       "    </tr>\n",
       "  </thead>\n",
       "  <tbody>\n",
       "    <tr>\n",
       "      <th>0</th>\n",
       "      <td>13086.0</td>\n",
       "      <td>1063.0</td>\n",
       "      <td>7.5</td>\n",
       "    </tr>\n",
       "    <tr>\n",
       "      <th>1</th>\n",
       "      <td>4420.0</td>\n",
       "      <td>445.0</td>\n",
       "      <td>9.1</td>\n",
       "    </tr>\n",
       "    <tr>\n",
       "      <th>2</th>\n",
       "      <td>1861.0</td>\n",
       "      <td>194.0</td>\n",
       "      <td>9.4</td>\n",
       "    </tr>\n",
       "    <tr>\n",
       "      <th>3</th>\n",
       "      <td>303.0</td>\n",
       "      <td>27.0</td>\n",
       "      <td>8.2</td>\n",
       "    </tr>\n",
       "    <tr>\n",
       "      <th>4</th>\n",
       "      <td>37.0</td>\n",
       "      <td>4.0</td>\n",
       "      <td>9.8</td>\n",
       "    </tr>\n",
       "    <tr>\n",
       "      <th>5</th>\n",
       "      <td>9.0</td>\n",
       "      <td>NaN</td>\n",
       "      <td>NaN</td>\n",
       "    </tr>\n",
       "    <tr>\n",
       "      <th>20</th>\n",
       "      <td>68.0</td>\n",
       "      <td>8.0</td>\n",
       "      <td>10.5</td>\n",
       "    </tr>\n",
       "  </tbody>\n",
       "</table>\n",
       "</div>"
      ],
      "text/plain": [
       "debt            0       1  debt_percent\n",
       "children                               \n",
       "0         13086.0  1063.0           7.5\n",
       "1          4420.0   445.0           9.1\n",
       "2          1861.0   194.0           9.4\n",
       "3           303.0    27.0           8.2\n",
       "4            37.0     4.0           9.8\n",
       "5             9.0     NaN           NaN\n",
       "20           68.0     8.0          10.5"
      ]
     },
     "metadata": {},
     "output_type": "display_data"
    }
   ],
   "source": [
    "children_pivot['debt_percent'] = round((children_pivot[1] * 100) / (children_pivot[1] + children_pivot[0]), 1)\n",
    "display(children_pivot)"
   ]
  },
  {
   "cell_type": "code",
   "execution_count": 50,
   "metadata": {},
   "outputs": [
    {
     "data": {
      "text/plain": [
       "<AxesSubplot:ylabel='debt_percent'>"
      ]
     },
     "execution_count": 50,
     "metadata": {},
     "output_type": "execute_result"
    },
    {
     "data": {
      "image/png": "[encoded data removed]",
      "text/plain": [
       "<Figure size 432x288 with 1 Axes>"
      ]
     },
     "metadata": {
      "needs_background": "light"
     },
     "output_type": "display_data"
    }
   ],
   "source": [
    "children_number = ['0', '1', '2', '3', '4', '5', '6 - 20']\n",
    "sns.barplot(x = children_number, y = children_pivot['debt_percent'], palette='Blues')"
   ]
  },
  {
   "cell_type": "markdown",
   "metadata": {},
   "source": [
    "##### Вывод"
   ]
  },
  {
   "cell_type": "markdown",
   "metadata": {},
   "source": [
    "* На столбчатой диаграмме barplot видно, что наша гипотеза о росте благонадежности с ростом количества детей не подтвердилась.\n",
    "* Наоборот, бездетные заемщики более ответственные клиенты, они не возвращают кредит в срок только в 7.5% случаев, когда наличие хотя бы одного ребенка сразу повышает эту вероятность до 9.1%. Это связано с тем что наличие детей налагает на человека повышенные финансовые обязательства и, по факту, снижает его платежеспособность. \n",
    "* Из графика так же видно, что из всех родителей, самые благонадежные те, у которых трое детей. "
   ]
  },
  {
   "cell_type": "markdown",
   "metadata": {},
   "source": [
    "#### 'family_status'/'debt'"
   ]
  },
  {
   "cell_type": "markdown",
   "metadata": {},
   "source": [
    "- Есть ли зависимость между семейным положением и возвратом кредита в срок? \n",
    "\n",
    "Сформируем сводную таблицу, расчитаем процент невозвратов от общего количества обращений в разрезе семейного положения, чтобы определить какой образ отношений предпочтительнее иметь заемщику:"
   ]
  },
  {
   "cell_type": "code",
   "execution_count": 51,
   "metadata": {},
   "outputs": [
    {
     "data": {
      "text/html": [
       "<div>\n",
       "<style scoped>\n",
       "    .dataframe tbody tr th:only-of-type {\n",
       "        vertical-align: middle;\n",
       "    }\n",
       "\n",
       "    .dataframe tbody tr th {\n",
       "        vertical-align: top;\n",
       "    }\n",
       "\n",
       "    .dataframe thead th {\n",
       "        text-align: right;\n",
       "    }\n",
       "</style>\n",
       "<table border=\"1\" class=\"dataframe\">\n",
       "  <thead>\n",
       "    <tr style=\"text-align: right;\">\n",
       "      <th>debt</th>\n",
       "      <th>0</th>\n",
       "      <th>1</th>\n",
       "      <th>debt_percent</th>\n",
       "    </tr>\n",
       "    <tr>\n",
       "      <th>family_status</th>\n",
       "      <th></th>\n",
       "      <th></th>\n",
       "      <th></th>\n",
       "    </tr>\n",
       "  </thead>\n",
       "  <tbody>\n",
       "    <tr>\n",
       "      <th>в разводе</th>\n",
       "      <td>1110</td>\n",
       "      <td>85</td>\n",
       "      <td>7.1</td>\n",
       "    </tr>\n",
       "    <tr>\n",
       "      <th>вдовец / вдова</th>\n",
       "      <td>897</td>\n",
       "      <td>63</td>\n",
       "      <td>6.6</td>\n",
       "    </tr>\n",
       "    <tr>\n",
       "      <th>гражданский брак</th>\n",
       "      <td>3789</td>\n",
       "      <td>388</td>\n",
       "      <td>9.3</td>\n",
       "    </tr>\n",
       "    <tr>\n",
       "      <th>женат / замужем</th>\n",
       "      <td>11449</td>\n",
       "      <td>931</td>\n",
       "      <td>7.5</td>\n",
       "    </tr>\n",
       "    <tr>\n",
       "      <th>не женат / не замужем</th>\n",
       "      <td>2539</td>\n",
       "      <td>274</td>\n",
       "      <td>9.7</td>\n",
       "    </tr>\n",
       "  </tbody>\n",
       "</table>\n",
       "</div>"
      ],
      "text/plain": [
       "debt                       0    1  debt_percent\n",
       "family_status                                  \n",
       "в разводе               1110   85           7.1\n",
       "вдовец / вдова           897   63           6.6\n",
       "гражданский брак        3789  388           9.3\n",
       "женат / замужем        11449  931           7.5\n",
       "не женат / не замужем   2539  274           9.7"
      ]
     },
     "metadata": {},
     "output_type": "display_data"
    }
   ],
   "source": [
    "family_pivot = data.pivot_table(index='family_status', columns= 'debt', values='education', aggfunc='count')\n",
    "family_pivot['debt_percent'] = round((family_pivot[1] * 100) / (family_pivot[1] + family_pivot[0]), 1)\n",
    "display(family_pivot)"
   ]
  },
  {
   "cell_type": "markdown",
   "metadata": {},
   "source": [
    "Визуализируем результат с помощью столбчатой диаграммы:"
   ]
  },
  {
   "cell_type": "code",
   "execution_count": 52,
   "metadata": {},
   "outputs": [
    {
     "data": {
      "text/plain": [
       "<AxesSubplot:xlabel='debt_percent'>"
      ]
     },
     "execution_count": 52,
     "metadata": {},
     "output_type": "execute_result"
    },
    {
     "data": {
      "image/png": "[encoded data removed]",
      "text/plain": [
       "<Figure size 432x288 with 1 Axes>"
      ]
     },
     "metadata": {
      "needs_background": "light"
     },
     "output_type": "display_data"
    }
   ],
   "source": [
    "family_status_unique = ['в разводе','вдовец / вдова', 'гражданский брак', 'женат / замужем', 'не женат / не замужем']\n",
    "sns.barplot(x = family_pivot['debt_percent'], y = family_status_unique, palette='Blues')"
   ]
  },
  {
   "cell_type": "markdown",
   "metadata": {},
   "source": [
    "Самые ответственные плательщики - это разведенные и вдовцы, они имеют задолженность в 7.1 и 6.6% случаев соответственно. Напротив холостые и живущие в гражданском браке опаздывают с оплатой в более чем 9% случаев. Самая многочисленная группа заемщиков - женатые (более половины всех клиентов), их показатель на уровне 7.5%. Посмотрим средний возраст в разрезе семейного положения, для этого сгруппируем датасет по столбцу `family_status` и узнаем медианные значения возраста:"
   ]
  },
  {
   "cell_type": "code",
   "execution_count": 53,
   "metadata": {},
   "outputs": [
    {
     "data": {
      "text/plain": [
       "family_status\n",
       "в разводе                46\n",
       "вдовец / вдова           58\n",
       "гражданский брак         41\n",
       "женат / замужем          43\n",
       "не женат / не замужем    36\n",
       "Name: dob_years, dtype: int64"
      ]
     },
     "metadata": {},
     "output_type": "display_data"
    }
   ],
   "source": [
    "family_status_age = data.groupby('family_status')['dob_years'].median()\n",
    "display(family_status_age)"
   ]
  },
  {
   "cell_type": "markdown",
   "metadata": {},
   "source": [
    "##### Вывод"
   ]
  },
  {
   "cell_type": "markdown",
   "metadata": {},
   "source": [
    "* Наличие семьи значительно влияет на ответственность клиента. 41 и 43 - средний возраст живущих в гражданском и традиционном браке близок, т.е. мы можем смело сравнить уровни их задолженностей. Клиенты, состоящие в традиционном браке имеют задолженность на уровне 7.5%, а в гражданском - на 9.3%. \n",
    "* Ожидаемо средний возраст по категории вдовец/вдова самый большой из выборки, 58 лет. Обычно пожилые люди консервативны и обладают высоким уровнем ответственности, соответственно опозданий по оплате меньше, всего 6.6%.\n",
    "* Неженатые, напротив, самые молодые заемщики. Это категория людей, с самой высокой изменчивостью в образе жизни, выборе работы, месте жительства. Уровень ответственности и осознанности ниже, чем у людей с опытом, отсюда самый высокий процент по задолженностям, 9.7%."
   ]
  },
  {
   "cell_type": "markdown",
   "metadata": {},
   "source": [
    "#### 'total_income' / 'debt'"
   ]
  },
  {
   "cell_type": "markdown",
   "metadata": {},
   "source": [
    "- Есть ли зависимость между уровнем дохода и возвратом кредита в срок?"
   ]
  },
  {
   "cell_type": "markdown",
   "metadata": {},
   "source": [
    "Для того, чтобы проанализировать столбец c уровенем дохода, категоризируем его данные. Создадим функцию **income_group()**, на входе она получает строку с суммой ежемесячного дохода, а отдает категорию уровня дохода. Обратимся к графику boxplot, что бы понять, как разделить эти данные на категории:"
   ]
  },
  {
   "cell_type": "code",
   "execution_count": 54,
   "metadata": {
    "scrolled": false
   },
   "outputs": [
    {
     "data": {
      "text/plain": [
       "<AxesSubplot:xlabel='total_income'>"
      ]
     },
     "execution_count": 54,
     "metadata": {},
     "output_type": "execute_result"
    },
    {
     "data": {
      "image/png": "[encoded data removed]",
      "text/plain": [
       "<Figure size 432x288 with 1 Axes>"
      ]
     },
     "metadata": {
      "needs_background": "light"
     },
     "output_type": "display_data"
    }
   ],
   "source": [
    "sns.boxplot(data=data, x='total_income')"
   ]
  },
  {
   "cell_type": "markdown",
   "metadata": {},
   "source": [
    "Сделаем категоризацию с шагом в 50 тысяч до порога 500 тысяч, далее соберем все данные вместе в группу от 500 до 2500 тысяч:"
   ]
  },
  {
   "cell_type": "code",
   "execution_count": 55,
   "metadata": {},
   "outputs": [],
   "source": [
    "def income_group(total_income):\n",
    "    \n",
    "    if total_income < 50000:\n",
    "        return 'a < 50'\n",
    "    if total_income < 100000:\n",
    "        return 'b < 100'\n",
    "    if total_income < 150000:\n",
    "        return 'c < 150'\n",
    "    if total_income < 200000:\n",
    "        return 'd < 200'\n",
    "    if total_income < 250000:\n",
    "        return 'e < 250'\n",
    "    if total_income < 300000:\n",
    "        return 'f < 300'\n",
    "    if total_income < 350000:\n",
    "        return 'g < 350'\n",
    "    if total_income < 400000:\n",
    "        return 'k < 400'\n",
    "    if total_income < 450000:\n",
    "        return 'l < 450'\n",
    "    if total_income < 500000:\n",
    "        return 'm < 500'\n",
    "    if total_income < 2500000:\n",
    "        return 'n < 2500'"
   ]
  },
  {
   "cell_type": "markdown",
   "metadata": {},
   "source": [
    "Применим функцию **income_group** к столбцу `total_income`, для этого воспользуемся методом .apply():"
   ]
  },
  {
   "cell_type": "code",
   "execution_count": 57,
   "metadata": {},
   "outputs": [
    {
     "data": {
      "text/html": [
       "<div>\n",
       "<style scoped>\n",
       "    .dataframe tbody tr th:only-of-type {\n",
       "        vertical-align: middle;\n",
       "    }\n",
       "\n",
       "    .dataframe tbody tr th {\n",
       "        vertical-align: top;\n",
       "    }\n",
       "\n",
       "    .dataframe thead th {\n",
       "        text-align: right;\n",
       "    }\n",
       "</style>\n",
       "<table border=\"1\" class=\"dataframe\">\n",
       "  <thead>\n",
       "    <tr style=\"text-align: right;\">\n",
       "      <th></th>\n",
       "      <th>children</th>\n",
       "      <th>days_employed</th>\n",
       "      <th>dob_years</th>\n",
       "      <th>education</th>\n",
       "      <th>education_id</th>\n",
       "      <th>family_status</th>\n",
       "      <th>family_status_id</th>\n",
       "      <th>gender</th>\n",
       "      <th>income_type</th>\n",
       "      <th>debt</th>\n",
       "      <th>total_income</th>\n",
       "      <th>purpose</th>\n",
       "      <th>purpose_category</th>\n",
       "      <th>income_grouped</th>\n",
       "    </tr>\n",
       "  </thead>\n",
       "  <tbody>\n",
       "    <tr>\n",
       "      <th>0</th>\n",
       "      <td>1</td>\n",
       "      <td>8437</td>\n",
       "      <td>42</td>\n",
       "      <td>высшее</td>\n",
       "      <td>0</td>\n",
       "      <td>женат / замужем</td>\n",
       "      <td>0</td>\n",
       "      <td>F</td>\n",
       "      <td>сотрудник</td>\n",
       "      <td>0</td>\n",
       "      <td>253875</td>\n",
       "      <td>покупка жилья</td>\n",
       "      <td>недвижимость</td>\n",
       "      <td>f &lt; 300</td>\n",
       "    </tr>\n",
       "    <tr>\n",
       "      <th>1</th>\n",
       "      <td>1</td>\n",
       "      <td>4024</td>\n",
       "      <td>36</td>\n",
       "      <td>среднее</td>\n",
       "      <td>1</td>\n",
       "      <td>женат / замужем</td>\n",
       "      <td>0</td>\n",
       "      <td>F</td>\n",
       "      <td>сотрудник</td>\n",
       "      <td>0</td>\n",
       "      <td>112080</td>\n",
       "      <td>приобретение автомобиля</td>\n",
       "      <td>автомобиль</td>\n",
       "      <td>c &lt; 150</td>\n",
       "    </tr>\n",
       "    <tr>\n",
       "      <th>2</th>\n",
       "      <td>0</td>\n",
       "      <td>5623</td>\n",
       "      <td>33</td>\n",
       "      <td>среднее</td>\n",
       "      <td>1</td>\n",
       "      <td>женат / замужем</td>\n",
       "      <td>0</td>\n",
       "      <td>M</td>\n",
       "      <td>сотрудник</td>\n",
       "      <td>0</td>\n",
       "      <td>145885</td>\n",
       "      <td>покупка жилья</td>\n",
       "      <td>недвижимость</td>\n",
       "      <td>c &lt; 150</td>\n",
       "    </tr>\n",
       "    <tr>\n",
       "      <th>3</th>\n",
       "      <td>3</td>\n",
       "      <td>4124</td>\n",
       "      <td>32</td>\n",
       "      <td>среднее</td>\n",
       "      <td>1</td>\n",
       "      <td>женат / замужем</td>\n",
       "      <td>0</td>\n",
       "      <td>M</td>\n",
       "      <td>сотрудник</td>\n",
       "      <td>0</td>\n",
       "      <td>267628</td>\n",
       "      <td>дополнительное образование</td>\n",
       "      <td>образование</td>\n",
       "      <td>f &lt; 300</td>\n",
       "    </tr>\n",
       "    <tr>\n",
       "      <th>4</th>\n",
       "      <td>0</td>\n",
       "      <td>14177</td>\n",
       "      <td>53</td>\n",
       "      <td>среднее</td>\n",
       "      <td>1</td>\n",
       "      <td>гражданский брак</td>\n",
       "      <td>1</td>\n",
       "      <td>F</td>\n",
       "      <td>пенсионер</td>\n",
       "      <td>0</td>\n",
       "      <td>158616</td>\n",
       "      <td>сыграть свадьбу</td>\n",
       "      <td>свадьба</td>\n",
       "      <td>d &lt; 200</td>\n",
       "    </tr>\n",
       "  </tbody>\n",
       "</table>\n",
       "</div>"
      ],
      "text/plain": [
       "   children  days_employed  dob_years education  education_id  \\\n",
       "0         1           8437         42    высшее             0   \n",
       "1         1           4024         36   среднее             1   \n",
       "2         0           5623         33   среднее             1   \n",
       "3         3           4124         32   среднее             1   \n",
       "4         0          14177         53   среднее             1   \n",
       "\n",
       "      family_status  family_status_id gender income_type  debt  total_income  \\\n",
       "0   женат / замужем                 0      F   сотрудник     0        253875   \n",
       "1   женат / замужем                 0      F   сотрудник     0        112080   \n",
       "2   женат / замужем                 0      M   сотрудник     0        145885   \n",
       "3   женат / замужем                 0      M   сотрудник     0        267628   \n",
       "4  гражданский брак                 1      F   пенсионер     0        158616   \n",
       "\n",
       "                      purpose purpose_category income_grouped  \n",
       "0               покупка жилья     недвижимость        f < 300  \n",
       "1     приобретение автомобиля       автомобиль        c < 150  \n",
       "2               покупка жилья     недвижимость        c < 150  \n",
       "3  дополнительное образование      образование        f < 300  \n",
       "4             сыграть свадьбу          свадьба        d < 200  "
      ]
     },
     "metadata": {},
     "output_type": "display_data"
    }
   ],
   "source": [
    "data['income_grouped'] = data['total_income'].apply(income_group)\n",
    "display(data.head())"
   ]
  },
  {
   "cell_type": "code",
   "execution_count": 58,
   "metadata": {},
   "outputs": [
    {
     "data": {
      "text/html": [
       "<div>\n",
       "<style scoped>\n",
       "    .dataframe tbody tr th:only-of-type {\n",
       "        vertical-align: middle;\n",
       "    }\n",
       "\n",
       "    .dataframe tbody tr th {\n",
       "        vertical-align: top;\n",
       "    }\n",
       "\n",
       "    .dataframe thead th {\n",
       "        text-align: right;\n",
       "    }\n",
       "</style>\n",
       "<table border=\"1\" class=\"dataframe\">\n",
       "  <thead>\n",
       "    <tr style=\"text-align: right;\">\n",
       "      <th>debt</th>\n",
       "      <th>0</th>\n",
       "      <th>1</th>\n",
       "      <th>debt_percent</th>\n",
       "    </tr>\n",
       "    <tr>\n",
       "      <th>income_grouped</th>\n",
       "      <th></th>\n",
       "      <th></th>\n",
       "      <th></th>\n",
       "    </tr>\n",
       "  </thead>\n",
       "  <tbody>\n",
       "    <tr>\n",
       "      <th>a &lt; 50</th>\n",
       "      <td>349</td>\n",
       "      <td>23</td>\n",
       "      <td>6.2</td>\n",
       "    </tr>\n",
       "    <tr>\n",
       "      <th>b &lt; 100</th>\n",
       "      <td>3760</td>\n",
       "      <td>331</td>\n",
       "      <td>8.1</td>\n",
       "    </tr>\n",
       "    <tr>\n",
       "      <th>c &lt; 150</th>\n",
       "      <td>6598</td>\n",
       "      <td>624</td>\n",
       "      <td>8.6</td>\n",
       "    </tr>\n",
       "    <tr>\n",
       "      <th>d &lt; 200</th>\n",
       "      <td>4368</td>\n",
       "      <td>405</td>\n",
       "      <td>8.5</td>\n",
       "    </tr>\n",
       "    <tr>\n",
       "      <th>e &lt; 250</th>\n",
       "      <td>2090</td>\n",
       "      <td>164</td>\n",
       "      <td>7.3</td>\n",
       "    </tr>\n",
       "    <tr>\n",
       "      <th>f &lt; 300</th>\n",
       "      <td>1242</td>\n",
       "      <td>88</td>\n",
       "      <td>6.6</td>\n",
       "    </tr>\n",
       "    <tr>\n",
       "      <th>g &lt; 350</th>\n",
       "      <td>573</td>\n",
       "      <td>51</td>\n",
       "      <td>8.2</td>\n",
       "    </tr>\n",
       "    <tr>\n",
       "      <th>k &lt; 400</th>\n",
       "      <td>306</td>\n",
       "      <td>24</td>\n",
       "      <td>7.3</td>\n",
       "    </tr>\n",
       "    <tr>\n",
       "      <th>l &lt; 450</th>\n",
       "      <td>183</td>\n",
       "      <td>13</td>\n",
       "      <td>6.6</td>\n",
       "    </tr>\n",
       "    <tr>\n",
       "      <th>m &lt; 500</th>\n",
       "      <td>107</td>\n",
       "      <td>4</td>\n",
       "      <td>3.6</td>\n",
       "    </tr>\n",
       "    <tr>\n",
       "      <th>n &lt; 2500</th>\n",
       "      <td>208</td>\n",
       "      <td>14</td>\n",
       "      <td>6.3</td>\n",
       "    </tr>\n",
       "  </tbody>\n",
       "</table>\n",
       "</div>"
      ],
      "text/plain": [
       "debt               0    1  debt_percent\n",
       "income_grouped                         \n",
       "a < 50           349   23           6.2\n",
       "b < 100         3760  331           8.1\n",
       "c < 150         6598  624           8.6\n",
       "d < 200         4368  405           8.5\n",
       "e < 250         2090  164           7.3\n",
       "f < 300         1242   88           6.6\n",
       "g < 350          573   51           8.2\n",
       "k < 400          306   24           7.3\n",
       "l < 450          183   13           6.6\n",
       "m < 500          107    4           3.6\n",
       "n < 2500         208   14           6.3"
      ]
     },
     "metadata": {},
     "output_type": "display_data"
    }
   ],
   "source": [
    "income_pivot = data.pivot_table(index='income_grouped', columns= 'debt', values='education', aggfunc='count')\n",
    "income_pivot['debt_percent'] = round((income_pivot[1] * 100) / (income_pivot[1] + income_pivot[0]), 1)\n",
    "display(income_pivot)"
   ]
  },
  {
   "cell_type": "code",
   "execution_count": 59,
   "metadata": {},
   "outputs": [
    {
     "data": {
      "text/plain": [
       "<AxesSubplot:ylabel='debt_percent'>"
      ]
     },
     "execution_count": 59,
     "metadata": {},
     "output_type": "execute_result"
    },
    {
     "data": {
      "image/png": "[encoded data removed]",
      "text/plain": [
       "<Figure size 432x288 with 1 Axes>"
      ]
     },
     "metadata": {
      "needs_background": "light"
     },
     "output_type": "display_data"
    }
   ],
   "source": [
    "income_levels = ['< 50', '< 100', '< 150', '< 200', '< 250', '< 300', '< 350', '< 400', '< 450', '< 500', '< 2500']\n",
    "sns.barplot(x = income_levels, y = income_pivot['debt_percent'], palette = 'Blues', edgecolor = 'w')"
   ]
  },
  {
   "cell_type": "markdown",
   "metadata": {},
   "source": [
    "Все выборки содержат более 30 строк, поэтому будем считать эти данные статистически верными. Нельзя проследить линейную зависимость уровня дохода и задолеженности по кредиту. Узнаем, почему заемщики с самым низким доходом имеют задолженность на относительно низком уровне в 6.2%. Сгруппируем данные столюца с категоризированными значениями дохода в разрезе среднего возраста заемщика:"
   ]
  },
  {
   "cell_type": "code",
   "execution_count": 60,
   "metadata": {},
   "outputs": [
    {
     "name": "stdout",
     "output_type": "stream",
     "text": [
      "income_grouped\n",
      "a < 50      52\n",
      "b < 100     45\n",
      "c < 150     43\n",
      "d < 200     41\n",
      "e < 250     41\n",
      "f < 300     42\n",
      "g < 350     42\n",
      "k < 400     42\n",
      "l < 450     42\n",
      "m < 500     42\n",
      "n < 2500    42\n",
      "Name: dob_years, dtype: int64\n"
     ]
    }
   ],
   "source": [
    "income_age = data.groupby('income_grouped')['dob_years'].median()\n",
    "print(income_age)"
   ]
  },
  {
   "cell_type": "markdown",
   "metadata": {},
   "source": [
    "Вероятно, в группу `a` попали, в основном, пенсионеры с невысоким доходом, но отличающиеся благонадежностью. Какое то влияние они оказали и на группу `b`. Средний возраст остальных заемщиков варьируется от 41 до 43 лет. \n",
    "\n",
    "Рассмотрим подробнее группу клиентов `m` с доходом от 450 до 500 тысяч, чтобы найти, почему у этой группы такой низкий показатель по задолженности, всего 3.6%. Применим логическую индексацию для фильтрации:"
   ]
  },
  {
   "cell_type": "code",
   "execution_count": 61,
   "metadata": {},
   "outputs": [
    {
     "data": {
      "text/html": [
       "<div>\n",
       "<style scoped>\n",
       "    .dataframe tbody tr th:only-of-type {\n",
       "        vertical-align: middle;\n",
       "    }\n",
       "\n",
       "    .dataframe tbody tr th {\n",
       "        vertical-align: top;\n",
       "    }\n",
       "\n",
       "    .dataframe thead th {\n",
       "        text-align: right;\n",
       "    }\n",
       "</style>\n",
       "<table border=\"1\" class=\"dataframe\">\n",
       "  <thead>\n",
       "    <tr style=\"text-align: right;\">\n",
       "      <th></th>\n",
       "      <th>children</th>\n",
       "      <th>days_employed</th>\n",
       "      <th>dob_years</th>\n",
       "      <th>education</th>\n",
       "      <th>education_id</th>\n",
       "      <th>family_status</th>\n",
       "      <th>family_status_id</th>\n",
       "      <th>gender</th>\n",
       "      <th>income_type</th>\n",
       "      <th>debt</th>\n",
       "      <th>total_income</th>\n",
       "      <th>purpose</th>\n",
       "      <th>purpose_category</th>\n",
       "      <th>income_grouped</th>\n",
       "    </tr>\n",
       "  </thead>\n",
       "  <tbody>\n",
       "    <tr>\n",
       "      <th>151</th>\n",
       "      <td>0</td>\n",
       "      <td>896</td>\n",
       "      <td>37</td>\n",
       "      <td>высшее</td>\n",
       "      <td>0</td>\n",
       "      <td>гражданский брак</td>\n",
       "      <td>1</td>\n",
       "      <td>F</td>\n",
       "      <td>компаньон</td>\n",
       "      <td>0</td>\n",
       "      <td>463089</td>\n",
       "      <td>сыграть свадьбу</td>\n",
       "      <td>свадьба</td>\n",
       "      <td>m &lt; 500</td>\n",
       "    </tr>\n",
       "    <tr>\n",
       "      <th>474</th>\n",
       "      <td>0</td>\n",
       "      <td>4209</td>\n",
       "      <td>46</td>\n",
       "      <td>высшее</td>\n",
       "      <td>0</td>\n",
       "      <td>в разводе</td>\n",
       "      <td>3</td>\n",
       "      <td>M</td>\n",
       "      <td>компаньон</td>\n",
       "      <td>0</td>\n",
       "      <td>490271</td>\n",
       "      <td>недвижимость</td>\n",
       "      <td>недвижимость</td>\n",
       "      <td>m &lt; 500</td>\n",
       "    </tr>\n",
       "    <tr>\n",
       "      <th>508</th>\n",
       "      <td>0</td>\n",
       "      <td>2894</td>\n",
       "      <td>59</td>\n",
       "      <td>среднее</td>\n",
       "      <td>1</td>\n",
       "      <td>женат / замужем</td>\n",
       "      <td>0</td>\n",
       "      <td>M</td>\n",
       "      <td>сотрудник</td>\n",
       "      <td>0</td>\n",
       "      <td>472106</td>\n",
       "      <td>строительство недвижимости</td>\n",
       "      <td>недвижимость</td>\n",
       "      <td>m &lt; 500</td>\n",
       "    </tr>\n",
       "    <tr>\n",
       "      <th>721</th>\n",
       "      <td>2</td>\n",
       "      <td>13993</td>\n",
       "      <td>62</td>\n",
       "      <td>высшее</td>\n",
       "      <td>0</td>\n",
       "      <td>женат / замужем</td>\n",
       "      <td>0</td>\n",
       "      <td>F</td>\n",
       "      <td>пенсионер</td>\n",
       "      <td>0</td>\n",
       "      <td>486658</td>\n",
       "      <td>недвижимость</td>\n",
       "      <td>недвижимость</td>\n",
       "      <td>m &lt; 500</td>\n",
       "    </tr>\n",
       "    <tr>\n",
       "      <th>804</th>\n",
       "      <td>0</td>\n",
       "      <td>7456</td>\n",
       "      <td>48</td>\n",
       "      <td>среднее</td>\n",
       "      <td>1</td>\n",
       "      <td>женат / замужем</td>\n",
       "      <td>0</td>\n",
       "      <td>F</td>\n",
       "      <td>компаньон</td>\n",
       "      <td>0</td>\n",
       "      <td>462677</td>\n",
       "      <td>покупка коммерческой недвижимости</td>\n",
       "      <td>недвижимость</td>\n",
       "      <td>m &lt; 500</td>\n",
       "    </tr>\n",
       "  </tbody>\n",
       "</table>\n",
       "</div>"
      ],
      "text/plain": [
       "     children  days_employed  dob_years education  education_id  \\\n",
       "151         0            896         37    высшее             0   \n",
       "474         0           4209         46    высшее             0   \n",
       "508         0           2894         59   среднее             1   \n",
       "721         2          13993         62    высшее             0   \n",
       "804         0           7456         48   среднее             1   \n",
       "\n",
       "        family_status  family_status_id gender income_type  debt  \\\n",
       "151  гражданский брак                 1      F   компаньон     0   \n",
       "474         в разводе                 3      M   компаньон     0   \n",
       "508   женат / замужем                 0      M   сотрудник     0   \n",
       "721   женат / замужем                 0      F   пенсионер     0   \n",
       "804   женат / замужем                 0      F   компаньон     0   \n",
       "\n",
       "     total_income                            purpose purpose_category  \\\n",
       "151        463089                    сыграть свадьбу          свадьба   \n",
       "474        490271                       недвижимость     недвижимость   \n",
       "508        472106         строительство недвижимости     недвижимость   \n",
       "721        486658                       недвижимость     недвижимость   \n",
       "804        462677  покупка коммерческой недвижимости     недвижимость   \n",
       "\n",
       "    income_grouped  \n",
       "151        m < 500  \n",
       "474        m < 500  \n",
       "508        m < 500  \n",
       "721        m < 500  \n",
       "804        m < 500  "
      ]
     },
     "metadata": {},
     "output_type": "display_data"
    }
   ],
   "source": [
    "group_m = data.loc[data.loc[:, 'income_grouped'] == 'm < 500']\n",
    "display(group_m.head())"
   ]
  },
  {
   "cell_type": "markdown",
   "metadata": {},
   "source": [
    "Рассмотрим их задолженность в разрезе семейного статуса: "
   ]
  },
  {
   "cell_type": "code",
   "execution_count": 62,
   "metadata": {},
   "outputs": [
    {
     "data": {
      "text/html": [
       "<div>\n",
       "<style scoped>\n",
       "    .dataframe tbody tr th:only-of-type {\n",
       "        vertical-align: middle;\n",
       "    }\n",
       "\n",
       "    .dataframe tbody tr th {\n",
       "        vertical-align: top;\n",
       "    }\n",
       "\n",
       "    .dataframe thead th {\n",
       "        text-align: right;\n",
       "    }\n",
       "</style>\n",
       "<table border=\"1\" class=\"dataframe\">\n",
       "  <thead>\n",
       "    <tr style=\"text-align: right;\">\n",
       "      <th>debt</th>\n",
       "      <th>0</th>\n",
       "      <th>1</th>\n",
       "    </tr>\n",
       "    <tr>\n",
       "      <th>family_status</th>\n",
       "      <th></th>\n",
       "      <th></th>\n",
       "    </tr>\n",
       "  </thead>\n",
       "  <tbody>\n",
       "    <tr>\n",
       "      <th>в разводе</th>\n",
       "      <td>4.0</td>\n",
       "      <td>NaN</td>\n",
       "    </tr>\n",
       "    <tr>\n",
       "      <th>вдовец / вдова</th>\n",
       "      <td>1.0</td>\n",
       "      <td>NaN</td>\n",
       "    </tr>\n",
       "    <tr>\n",
       "      <th>гражданский брак</th>\n",
       "      <td>21.0</td>\n",
       "      <td>NaN</td>\n",
       "    </tr>\n",
       "    <tr>\n",
       "      <th>женат / замужем</th>\n",
       "      <td>65.0</td>\n",
       "      <td>4.0</td>\n",
       "    </tr>\n",
       "    <tr>\n",
       "      <th>не женат / не замужем</th>\n",
       "      <td>16.0</td>\n",
       "      <td>NaN</td>\n",
       "    </tr>\n",
       "  </tbody>\n",
       "</table>\n",
       "</div>"
      ],
      "text/plain": [
       "debt                      0    1\n",
       "family_status                   \n",
       "в разводе               4.0  NaN\n",
       "вдовец / вдова          1.0  NaN\n",
       "гражданский брак       21.0  NaN\n",
       "женат / замужем        65.0  4.0\n",
       "не женат / не замужем  16.0  NaN"
      ]
     },
     "metadata": {},
     "output_type": "display_data"
    }
   ],
   "source": [
    "m_pivot = group_m.pivot_table(index='family_status', columns= 'debt', values='gender', aggfunc='count')\n",
    "display(m_pivot)"
   ]
  },
  {
   "cell_type": "markdown",
   "metadata": {},
   "source": [
    "В разрезе количества детей:"
   ]
  },
  {
   "cell_type": "code",
   "execution_count": 63,
   "metadata": {},
   "outputs": [
    {
     "data": {
      "text/html": [
       "<div>\n",
       "<style scoped>\n",
       "    .dataframe tbody tr th:only-of-type {\n",
       "        vertical-align: middle;\n",
       "    }\n",
       "\n",
       "    .dataframe tbody tr th {\n",
       "        vertical-align: top;\n",
       "    }\n",
       "\n",
       "    .dataframe thead th {\n",
       "        text-align: right;\n",
       "    }\n",
       "</style>\n",
       "<table border=\"1\" class=\"dataframe\">\n",
       "  <thead>\n",
       "    <tr style=\"text-align: right;\">\n",
       "      <th>debt</th>\n",
       "      <th>0</th>\n",
       "      <th>1</th>\n",
       "    </tr>\n",
       "    <tr>\n",
       "      <th>children</th>\n",
       "      <th></th>\n",
       "      <th></th>\n",
       "    </tr>\n",
       "  </thead>\n",
       "  <tbody>\n",
       "    <tr>\n",
       "      <th>0</th>\n",
       "      <td>70.0</td>\n",
       "      <td>3.0</td>\n",
       "    </tr>\n",
       "    <tr>\n",
       "      <th>1</th>\n",
       "      <td>17.0</td>\n",
       "      <td>NaN</td>\n",
       "    </tr>\n",
       "    <tr>\n",
       "      <th>2</th>\n",
       "      <td>16.0</td>\n",
       "      <td>1.0</td>\n",
       "    </tr>\n",
       "    <tr>\n",
       "      <th>3</th>\n",
       "      <td>3.0</td>\n",
       "      <td>NaN</td>\n",
       "    </tr>\n",
       "    <tr>\n",
       "      <th>4</th>\n",
       "      <td>1.0</td>\n",
       "      <td>NaN</td>\n",
       "    </tr>\n",
       "  </tbody>\n",
       "</table>\n",
       "</div>"
      ],
      "text/plain": [
       "debt         0    1\n",
       "children           \n",
       "0         70.0  3.0\n",
       "1         17.0  NaN\n",
       "2         16.0  1.0\n",
       "3          3.0  NaN\n",
       "4          1.0  NaN"
      ]
     },
     "metadata": {},
     "output_type": "display_data"
    }
   ],
   "source": [
    "m_pivot = group_m.pivot_table(index='children', columns= 'debt', values='gender', aggfunc='count')\n",
    "display(m_pivot)"
   ]
  },
  {
   "cell_type": "code",
   "execution_count": 64,
   "metadata": {},
   "outputs": [
    {
     "data": {
      "text/html": [
       "<div>\n",
       "<style scoped>\n",
       "    .dataframe tbody tr th:only-of-type {\n",
       "        vertical-align: middle;\n",
       "    }\n",
       "\n",
       "    .dataframe tbody tr th {\n",
       "        vertical-align: top;\n",
       "    }\n",
       "\n",
       "    .dataframe thead th {\n",
       "        text-align: right;\n",
       "    }\n",
       "</style>\n",
       "<table border=\"1\" class=\"dataframe\">\n",
       "  <thead>\n",
       "    <tr style=\"text-align: right;\">\n",
       "      <th>debt</th>\n",
       "      <th>0</th>\n",
       "      <th>1</th>\n",
       "    </tr>\n",
       "    <tr>\n",
       "      <th>education</th>\n",
       "      <th></th>\n",
       "      <th></th>\n",
       "    </tr>\n",
       "  </thead>\n",
       "  <tbody>\n",
       "    <tr>\n",
       "      <th>высшее</th>\n",
       "      <td>54.0</td>\n",
       "      <td>2.0</td>\n",
       "    </tr>\n",
       "    <tr>\n",
       "      <th>начальное</th>\n",
       "      <td>1.0</td>\n",
       "      <td>NaN</td>\n",
       "    </tr>\n",
       "    <tr>\n",
       "      <th>неоконченное высшее</th>\n",
       "      <td>NaN</td>\n",
       "      <td>1.0</td>\n",
       "    </tr>\n",
       "    <tr>\n",
       "      <th>среднее</th>\n",
       "      <td>52.0</td>\n",
       "      <td>1.0</td>\n",
       "    </tr>\n",
       "  </tbody>\n",
       "</table>\n",
       "</div>"
      ],
      "text/plain": [
       "debt                    0    1\n",
       "education                     \n",
       "высшее               54.0  2.0\n",
       "начальное             1.0  NaN\n",
       "неоконченное высшее   NaN  1.0\n",
       "среднее              52.0  1.0"
      ]
     },
     "metadata": {},
     "output_type": "display_data"
    }
   ],
   "source": [
    "m_pivot = group_m.pivot_table(index='education', columns= 'debt', values='gender', aggfunc='count')\n",
    "display(m_pivot)"
   ]
  },
  {
   "cell_type": "markdown",
   "metadata": {},
   "source": [
    "Судя по результатам, эту выборку попали в большинстве своем женатые, но бездетные клиенты. Оба этих показателя влияют позитивно на факт возвращения долга в срок. А вот уровень образования в данной ситуации не влият, т.к. распределился он практически пополам между высшим и средним."
   ]
  },
  {
   "cell_type": "markdown",
   "metadata": {},
   "source": [
    "##### Вывод"
   ]
  },
  {
   "cell_type": "markdown",
   "metadata": {},
   "source": [
    "Согласно результатов анализа столбца 'total_income', нам не удается проследить строгую зависимость возврата средств в срок и уровеня дохода. Например клиенты с наименьшим доходом (< 50 тысяч) ответственнее тех, у кого он около 150 тысяч. Клиенты с доходом примерно в 500 тысяч выглядят самыми надежными заемщиками, процент задолженностей по ним всего 3.6%, в то же время самые обеспеченные клиенты имеют этот показатель почти на 3% выше! \n",
    "Вероятно, кредитному отделу банка надо ориентироваться уровень дохода не как на показатель надежности клиента, а отталкиваться от него для расчета величины суммы займа."
   ]
  },
  {
   "cell_type": "markdown",
   "metadata": {},
   "source": [
    "#### 'purpose' / ''debt'"
   ]
  },
  {
   "cell_type": "markdown",
   "metadata": {},
   "source": [
    "- Как разные цели кредита влияют на его возврат в срок?\n",
    "\n",
    "Сформируем сводную таблицу, расчитаем процент невозвратов от общего количества обращений в разрезе целей кредитования, чтобы определить к кредитам какого типа клиенты относятся более халатно:"
   ]
  },
  {
   "cell_type": "code",
   "execution_count": 65,
   "metadata": {},
   "outputs": [
    {
     "data": {
      "text/html": [
       "<div>\n",
       "<style scoped>\n",
       "    .dataframe tbody tr th:only-of-type {\n",
       "        vertical-align: middle;\n",
       "    }\n",
       "\n",
       "    .dataframe tbody tr th {\n",
       "        vertical-align: top;\n",
       "    }\n",
       "\n",
       "    .dataframe thead th {\n",
       "        text-align: right;\n",
       "    }\n",
       "</style>\n",
       "<table border=\"1\" class=\"dataframe\">\n",
       "  <thead>\n",
       "    <tr style=\"text-align: right;\">\n",
       "      <th>debt</th>\n",
       "      <th>0</th>\n",
       "      <th>1</th>\n",
       "      <th>debt_percent</th>\n",
       "    </tr>\n",
       "    <tr>\n",
       "      <th>purpose_category</th>\n",
       "      <th></th>\n",
       "      <th></th>\n",
       "      <th></th>\n",
       "    </tr>\n",
       "  </thead>\n",
       "  <tbody>\n",
       "    <tr>\n",
       "      <th>автомобиль</th>\n",
       "      <td>3912</td>\n",
       "      <td>403</td>\n",
       "      <td>9.3</td>\n",
       "    </tr>\n",
       "    <tr>\n",
       "      <th>недвижимость</th>\n",
       "      <td>10058</td>\n",
       "      <td>782</td>\n",
       "      <td>7.2</td>\n",
       "    </tr>\n",
       "    <tr>\n",
       "      <th>образование</th>\n",
       "      <td>3652</td>\n",
       "      <td>370</td>\n",
       "      <td>9.2</td>\n",
       "    </tr>\n",
       "    <tr>\n",
       "      <th>свадьба</th>\n",
       "      <td>2162</td>\n",
       "      <td>186</td>\n",
       "      <td>7.9</td>\n",
       "    </tr>\n",
       "  </tbody>\n",
       "</table>\n",
       "</div>"
      ],
      "text/plain": [
       "debt                  0    1  debt_percent\n",
       "purpose_category                          \n",
       "автомобиль         3912  403           9.3\n",
       "недвижимость      10058  782           7.2\n",
       "образование        3652  370           9.2\n",
       "свадьба            2162  186           7.9"
      ]
     },
     "metadata": {},
     "output_type": "display_data"
    }
   ],
   "source": [
    "purpose_pivot = data.pivot_table(index='purpose_category', columns= 'debt', values='education', aggfunc='count')\n",
    "purpose_pivot['debt_percent'] = round((purpose_pivot[1] * 100) / (purpose_pivot[1] + purpose_pivot[0]), 1)\n",
    "display(purpose_pivot)"
   ]
  },
  {
   "cell_type": "code",
   "execution_count": 66,
   "metadata": {},
   "outputs": [
    {
     "data": {
      "text/plain": [
       "<AxesSubplot:ylabel='debt_percent'>"
      ]
     },
     "execution_count": 66,
     "metadata": {},
     "output_type": "execute_result"
    },
    {
     "data": {
      "image/png": "[encoded data removed]",
      "text/plain": [
       "<Figure size 432x288 with 1 Axes>"
      ]
     },
     "metadata": {
      "needs_background": "light"
     },
     "output_type": "display_data"
    }
   ],
   "source": [
    "purpose_categories = ['автомобиль', 'недвижимость', 'образование', 'свадьба']\n",
    "sns.barplot(x = purpose_categories, y = purpose_pivot['debt_percent'], palette = 'Blues', edgecolor = 'w')"
   ]
  },
  {
   "cell_type": "markdown",
   "metadata": {},
   "source": [
    "##### Вывод"
   ]
  },
  {
   "cell_type": "markdown",
   "metadata": {},
   "source": [
    "Предсказуемо, самый низкий процент по задержкам оплаты кредита у тех, кто берет средства на операции с недвижимостью, 7.2%. Это логично, поскольку данные операции очень тщательно проверяются, банку легче контролировать имущество клиента, а значит и его изъятие в случае регулярных неоплат, это хорошая мотивация для заемщика быть дисциплинированным. Строк с операциями с недвижимостью в нашем датасете более 50% от числа всех. Напротив, кредиты на автомобиль или образование имеют более высокий процент невозвратов - более 9%. А вот берущие кредит на свадьбу, как ни странно, опаздывают с оплатой менее часто, 7.9% случаев. Посмотрим, какой семейный статус имеют желающие сочетаться узами брака:"
   ]
  },
  {
   "cell_type": "code",
   "execution_count": 67,
   "metadata": {},
   "outputs": [
    {
     "data": {
      "text/plain": [
       "family_status\n",
       "гражданский брак    2348\n",
       "Name: debt, dtype: int64"
      ]
     },
     "metadata": {},
     "output_type": "display_data"
    }
   ],
   "source": [
    "merr_purpose = data.loc[data.loc[:,'purpose_category'] == 'свадьба']\n",
    "merr_purpose = merr_purpose.groupby('family_status')['debt'].count()\n",
    "display(merr_purpose)"
   ]
  },
  {
   "cell_type": "markdown",
   "metadata": {},
   "source": [
    "Вся выборка сформирована только из клиентов, живущих гражданским браком. Виден прогресс в увеличении их ответственности."
   ]
  },
  {
   "cell_type": "markdown",
   "metadata": {},
   "source": [
    "##  Общий вывод"
   ]
  },
  {
   "cell_type": "markdown",
   "metadata": {},
   "source": [
    "Мы проверили четыре гипотезы и установили:\n",
    "\n",
    "* **наличие и количество детей у заемщика** \n",
    "\n",
    "Гипотеза о влиянии наличия/количиства детей на поведение заемщика подтвердилась. Самые ответвенные плательщики - бездетные клиенты. А среди родителей, самые надежные имеющие трех детей. \n",
    "\n",
    "Шкала надежности клиента в зависимости от количества детей:\n",
    "1. Бездетные\n",
    "2. 3 ребенка\n",
    "3. 1 ребенок\n",
    "4. 2 ребенка\n",
    "5. 4 и больше\n",
    "     \n",
    "     \n",
    "* **семейное положение заемщика**\n",
    "\n",
    "Эта гипотеза также подтверждается результатами исследования. \n",
    " - Наличие семьи значительно влияет на ответственность клиента. Клиенты, состоящие в традиционном браке имеют задолженность на уровне 7.5%, а в гражданском - на 9.3%.\n",
    " - Средний возраст по категории вдовец/вдова самый большой из выборки, пожилые люди консервативны и обладают высоким уровнем ответственности, соответственно опозданий по оплате меньше.\n",
    " - Холостяки - самые молодые заемщики. Это категория людей, с самой высокой изменчивостью в образе жизни, выборе работы, месте жительства. Уровень ответственности и осознанности ниже, чем у людей с опытом, отсюда самый высокий процент по задолженностям.\n",
    "\n",
    "Шкала надежности клиента согласно семеного положения клиента:\n",
    "1. Вдовцы\n",
    "2. Разведеные\n",
    "3. Женатые\n",
    "4. В гражданском браке\n",
    "5. Холостые\n",
    "\n",
    "     \n",
    "* **уровень ежемесячного дохода**\n",
    "\n",
    "Согласно результатов анализа столбца 'total_income', нам не удается проследить строгую зависимость возврата средств в срок и уровеня дохода и подтвердить гипотезу. Кредитному отделу банка надо ориентироваться на уровень дохода не как на показатель надежности клиента, а отталкиваться от него для расчета величины суммы займа.\n",
    "\n",
    "     \n",
    "* **цель получения денежных средств**\n",
    "\n",
    "Последняя гипотеза подтвердилась частично: берущие кредит на недвижимость более благонадежные клиенты, чем остальные. Операции с недвижимостью очень тщательно проверяются, банку легче контролировать имущество клиента, а значит и его изъятие в случае регулярных неоплат, это хорошая мотивация для заемщика быть дисциплинированным. \n",
    "\n",
    "Шкала надежности клиентов:\n",
    "1. Недвижимость\n",
    "2. Остальные\n"
   ]
  },
  {
   "cell_type": "code",
   "execution_count": null,
   "metadata": {},
   "outputs": [],
   "source": []
  }
 ],
 "metadata": {
  "ExecuteTimeLog": [
   {
    "duration": 449,
    "start_time": "2021-12-06T07:30:08.799Z"
   },
   {
    "duration": 1073,
    "start_time": "2021-12-06T07:30:32.824Z"
   },
   {
    "duration": 2934,
    "start_time": "2021-12-06T07:30:35.244Z"
   },
   {
    "duration": 66,
    "start_time": "2021-12-06T07:34:07.040Z"
   },
   {
    "duration": 7,
    "start_time": "2021-12-06T07:34:11.166Z"
   },
   {
    "duration": 1163,
    "start_time": "2021-12-06T07:34:13.853Z"
   },
   {
    "duration": 11,
    "start_time": "2021-12-06T07:34:44.115Z"
   },
   {
    "duration": 66,
    "start_time": "2021-12-06T07:34:46.396Z"
   },
   {
    "duration": 5,
    "start_time": "2021-12-06T07:34:48.189Z"
   },
   {
    "duration": 6763,
    "start_time": "2021-12-06T07:34:51.657Z"
   },
   {
    "duration": 50,
    "start_time": "2021-12-06T07:35:32.791Z"
   },
   {
    "duration": 315,
    "start_time": "2021-12-06T08:03:48.730Z"
   },
   {
    "duration": 124,
    "start_time": "2021-12-06T08:04:40.750Z"
   },
   {
    "duration": 791,
    "start_time": "2021-12-06T08:05:00.693Z"
   },
   {
    "duration": 3029,
    "start_time": "2021-12-06T08:07:08.273Z"
   },
   {
    "duration": 91,
    "start_time": "2021-12-06T08:07:36.187Z"
   },
   {
    "duration": 17,
    "start_time": "2021-12-06T08:08:58.308Z"
   },
   {
    "duration": 20,
    "start_time": "2021-12-06T08:10:56.359Z"
   },
   {
    "duration": 136,
    "start_time": "2021-12-06T08:11:25.921Z"
   },
   {
    "duration": 11,
    "start_time": "2021-12-06T08:12:35.762Z"
   },
   {
    "duration": 9,
    "start_time": "2021-12-06T08:13:24.042Z"
   },
   {
    "duration": 11,
    "start_time": "2021-12-06T08:14:00.390Z"
   },
   {
    "duration": 10,
    "start_time": "2021-12-06T08:14:53.953Z"
   },
   {
    "duration": 11,
    "start_time": "2021-12-06T08:17:34.208Z"
   },
   {
    "duration": 33,
    "start_time": "2021-12-06T08:18:22.767Z"
   },
   {
    "duration": 13,
    "start_time": "2021-12-06T08:18:27.610Z"
   },
   {
    "duration": 18,
    "start_time": "2021-12-06T08:20:25.050Z"
   },
   {
    "duration": 126,
    "start_time": "2021-12-06T08:20:53.589Z"
   },
   {
    "duration": 244,
    "start_time": "2021-12-06T08:21:23.458Z"
   },
   {
    "duration": 127,
    "start_time": "2021-12-06T08:22:47.282Z"
   },
   {
    "duration": 33,
    "start_time": "2021-12-06T08:23:54.412Z"
   },
   {
    "duration": 224,
    "start_time": "2021-12-06T08:24:32.916Z"
   },
   {
    "duration": 140,
    "start_time": "2021-12-06T08:24:52.165Z"
   },
   {
    "duration": 26,
    "start_time": "2021-12-06T08:25:11.839Z"
   },
   {
    "duration": 6,
    "start_time": "2021-12-06T08:26:04.993Z"
   },
   {
    "duration": 15,
    "start_time": "2021-12-06T08:26:40.365Z"
   },
   {
    "duration": 14,
    "start_time": "2021-12-06T08:27:19.154Z"
   },
   {
    "duration": 9,
    "start_time": "2021-12-06T08:40:59.185Z"
   },
   {
    "duration": 9,
    "start_time": "2021-12-06T08:44:12.551Z"
   },
   {
    "duration": 210,
    "start_time": "2021-12-06T08:45:33.122Z"
   },
   {
    "duration": 1028,
    "start_time": "2021-12-06T08:54:13.189Z"
   },
   {
    "duration": 827,
    "start_time": "2021-12-06T08:55:03.189Z"
   },
   {
    "duration": 264,
    "start_time": "2021-12-06T08:55:28.859Z"
   },
   {
    "duration": 174,
    "start_time": "2021-12-06T09:21:53.908Z"
   },
   {
    "duration": 26,
    "start_time": "2021-12-06T09:22:07.952Z"
   },
   {
    "duration": 35,
    "start_time": "2021-12-06T09:22:22.103Z"
   },
   {
    "duration": 23,
    "start_time": "2021-12-06T09:30:53.470Z"
   },
   {
    "duration": 32,
    "start_time": "2021-12-06T09:31:03.510Z"
   },
   {
    "duration": 1462,
    "start_time": "2021-12-06T09:31:33.459Z"
   },
   {
    "duration": 74,
    "start_time": "2021-12-06T09:31:34.924Z"
   },
   {
    "duration": 23,
    "start_time": "2021-12-06T09:31:35.002Z"
   },
   {
    "duration": 36,
    "start_time": "2021-12-06T09:31:35.029Z"
   },
   {
    "duration": 11,
    "start_time": "2021-12-06T09:31:35.068Z"
   },
   {
    "duration": 11,
    "start_time": "2021-12-06T09:31:35.082Z"
   },
   {
    "duration": 9,
    "start_time": "2021-12-06T09:31:35.095Z"
   },
   {
    "duration": 57,
    "start_time": "2021-12-06T09:31:35.108Z"
   },
   {
    "duration": 10,
    "start_time": "2021-12-06T09:31:35.168Z"
   },
   {
    "duration": 12,
    "start_time": "2021-12-06T09:31:35.180Z"
   },
   {
    "duration": 17,
    "start_time": "2021-12-06T09:31:35.194Z"
   },
   {
    "duration": 272,
    "start_time": "2021-12-06T09:31:35.213Z"
   },
   {
    "duration": 31,
    "start_time": "2021-12-06T09:31:35.488Z"
   },
   {
    "duration": 252,
    "start_time": "2021-12-06T09:31:35.522Z"
   },
   {
    "duration": 24,
    "start_time": "2021-12-06T09:31:35.777Z"
   },
   {
    "duration": 6,
    "start_time": "2021-12-06T09:31:35.803Z"
   },
   {
    "duration": 51,
    "start_time": "2021-12-06T09:31:35.812Z"
   },
   {
    "duration": 13,
    "start_time": "2021-12-06T09:31:35.865Z"
   },
   {
    "duration": 7,
    "start_time": "2021-12-06T09:31:35.881Z"
   },
   {
    "duration": 9,
    "start_time": "2021-12-06T09:31:35.890Z"
   },
   {
    "duration": 265,
    "start_time": "2021-12-06T09:31:35.901Z"
   },
   {
    "duration": 20,
    "start_time": "2021-12-06T09:31:36.168Z"
   },
   {
    "duration": 35,
    "start_time": "2021-12-06T09:31:36.193Z"
   },
   {
    "duration": 30,
    "start_time": "2021-12-06T09:31:36.230Z"
   },
   {
    "duration": 63,
    "start_time": "2021-12-06T09:31:36.262Z"
   },
   {
    "duration": 5,
    "start_time": "2021-12-06T09:31:36.328Z"
   },
   {
    "duration": 6162,
    "start_time": "2021-12-06T09:31:36.335Z"
   },
   {
    "duration": 36,
    "start_time": "2021-12-06T09:31:42.500Z"
   },
   {
    "duration": 13,
    "start_time": "2021-12-06T09:32:39.074Z"
   },
   {
    "duration": 48,
    "start_time": "2021-12-06T09:33:05.324Z"
   },
   {
    "duration": 26,
    "start_time": "2021-12-06T09:33:16.623Z"
   },
   {
    "duration": 12,
    "start_time": "2021-12-06T09:33:19.403Z"
   },
   {
    "duration": 9,
    "start_time": "2021-12-06T09:37:07.311Z"
   },
   {
    "duration": 218,
    "start_time": "2021-12-06T09:37:44.343Z"
   },
   {
    "duration": 189,
    "start_time": "2021-12-06T09:42:38.051Z"
   },
   {
    "duration": 2046,
    "start_time": "2021-12-06T09:43:57.474Z"
   },
   {
    "duration": 1603,
    "start_time": "2021-12-06T09:44:47.705Z"
   },
   {
    "duration": 81,
    "start_time": "2021-12-06T09:44:49.311Z"
   },
   {
    "duration": 21,
    "start_time": "2021-12-06T09:44:49.394Z"
   },
   {
    "duration": 14,
    "start_time": "2021-12-06T09:44:49.418Z"
   },
   {
    "duration": 33,
    "start_time": "2021-12-06T09:44:49.434Z"
   },
   {
    "duration": 11,
    "start_time": "2021-12-06T09:44:49.470Z"
   },
   {
    "duration": 22,
    "start_time": "2021-12-06T09:44:49.484Z"
   },
   {
    "duration": 10,
    "start_time": "2021-12-06T09:44:49.510Z"
   },
   {
    "duration": 47,
    "start_time": "2021-12-06T09:44:49.524Z"
   },
   {
    "duration": 16,
    "start_time": "2021-12-06T09:44:49.574Z"
   },
   {
    "duration": 18,
    "start_time": "2021-12-06T09:44:49.593Z"
   },
   {
    "duration": 365,
    "start_time": "2021-12-06T09:44:49.613Z"
   },
   {
    "duration": 33,
    "start_time": "2021-12-06T09:44:49.981Z"
   },
   {
    "duration": 379,
    "start_time": "2021-12-06T09:44:50.018Z"
   },
   {
    "duration": 37,
    "start_time": "2021-12-06T09:44:50.400Z"
   },
   {
    "duration": 24,
    "start_time": "2021-12-06T09:44:50.440Z"
   },
   {
    "duration": 22,
    "start_time": "2021-12-06T09:44:50.467Z"
   },
   {
    "duration": 20,
    "start_time": "2021-12-06T09:44:50.492Z"
   },
   {
    "duration": 45,
    "start_time": "2021-12-06T09:44:50.515Z"
   },
   {
    "duration": 9,
    "start_time": "2021-12-06T09:44:50.563Z"
   },
   {
    "duration": 253,
    "start_time": "2021-12-06T09:44:50.574Z"
   },
   {
    "duration": 36,
    "start_time": "2021-12-06T09:44:50.830Z"
   },
   {
    "duration": 327,
    "start_time": "2021-12-06T09:44:50.873Z"
   },
   {
    "duration": 21,
    "start_time": "2021-12-06T09:44:51.203Z"
   },
   {
    "duration": 4,
    "start_time": "2021-12-06T09:44:51.227Z"
   },
   {
    "duration": 88,
    "start_time": "2021-12-06T09:44:51.258Z"
   },
   {
    "duration": 6,
    "start_time": "2021-12-06T09:44:51.349Z"
   },
   {
    "duration": 8190,
    "start_time": "2021-12-06T09:44:51.360Z"
   },
   {
    "duration": 54,
    "start_time": "2021-12-06T09:44:59.553Z"
   },
   {
    "duration": 158,
    "start_time": "2021-12-06T09:46:13.801Z"
   },
   {
    "duration": 28,
    "start_time": "2021-12-06T09:46:47.775Z"
   },
   {
    "duration": 67,
    "start_time": "2021-12-06T09:47:36.492Z"
   },
   {
    "duration": 55,
    "start_time": "2021-12-06T09:48:12.493Z"
   },
   {
    "duration": 529,
    "start_time": "2021-12-06T09:48:21.166Z"
   },
   {
    "duration": 1474,
    "start_time": "2021-12-06T09:48:32.103Z"
   },
   {
    "duration": 65,
    "start_time": "2021-12-06T09:48:33.580Z"
   },
   {
    "duration": 24,
    "start_time": "2021-12-06T09:48:33.660Z"
   },
   {
    "duration": 13,
    "start_time": "2021-12-06T09:48:33.687Z"
   },
   {
    "duration": 10,
    "start_time": "2021-12-06T09:48:33.703Z"
   },
   {
    "duration": 46,
    "start_time": "2021-12-06T09:48:33.715Z"
   },
   {
    "duration": 10,
    "start_time": "2021-12-06T09:48:33.764Z"
   },
   {
    "duration": 9,
    "start_time": "2021-12-06T09:48:33.780Z"
   },
   {
    "duration": 9,
    "start_time": "2021-12-06T09:48:33.792Z"
   },
   {
    "duration": 12,
    "start_time": "2021-12-06T09:48:33.803Z"
   },
   {
    "duration": 60,
    "start_time": "2021-12-06T09:48:33.817Z"
   },
   {
    "duration": 237,
    "start_time": "2021-12-06T09:48:33.879Z"
   },
   {
    "duration": 44,
    "start_time": "2021-12-06T09:48:34.118Z"
   },
   {
    "duration": 375,
    "start_time": "2021-12-06T09:48:34.164Z"
   },
   {
    "duration": 47,
    "start_time": "2021-12-06T09:48:34.542Z"
   },
   {
    "duration": 7,
    "start_time": "2021-12-06T09:48:34.592Z"
   },
   {
    "duration": 14,
    "start_time": "2021-12-06T09:48:34.602Z"
   },
   {
    "duration": 51,
    "start_time": "2021-12-06T09:48:34.618Z"
   },
   {
    "duration": 11,
    "start_time": "2021-12-06T09:48:34.672Z"
   },
   {
    "duration": 29,
    "start_time": "2021-12-06T09:48:34.685Z"
   },
   {
    "duration": 233,
    "start_time": "2021-12-06T09:48:34.717Z"
   },
   {
    "duration": 20,
    "start_time": "2021-12-06T09:48:34.960Z"
   },
   {
    "duration": 227,
    "start_time": "2021-12-06T09:48:34.986Z"
   },
   {
    "duration": 19,
    "start_time": "2021-12-06T09:48:35.216Z"
   },
   {
    "duration": 35,
    "start_time": "2021-12-06T09:48:35.237Z"
   },
   {
    "duration": 45,
    "start_time": "2021-12-06T09:48:35.274Z"
   },
   {
    "duration": 38,
    "start_time": "2021-12-06T09:48:35.321Z"
   },
   {
    "duration": 64,
    "start_time": "2021-12-06T09:48:35.362Z"
   },
   {
    "duration": 5,
    "start_time": "2021-12-06T09:48:35.428Z"
   },
   {
    "duration": 7176,
    "start_time": "2021-12-06T09:48:35.436Z"
   },
   {
    "duration": 58,
    "start_time": "2021-12-06T09:48:42.615Z"
   },
   {
    "duration": 165,
    "start_time": "2021-12-06T09:51:15.195Z"
   },
   {
    "duration": 187,
    "start_time": "2021-12-06T09:55:36.466Z"
   },
   {
    "duration": 17,
    "start_time": "2021-12-06T10:01:48.542Z"
   },
   {
    "duration": 32,
    "start_time": "2021-12-06T10:05:57.277Z"
   },
   {
    "duration": 138,
    "start_time": "2021-12-06T10:06:31.884Z"
   },
   {
    "duration": 10,
    "start_time": "2021-12-06T10:06:51.823Z"
   },
   {
    "duration": 25,
    "start_time": "2021-12-06T10:07:40.395Z"
   },
   {
    "duration": 10,
    "start_time": "2021-12-06T10:08:07.776Z"
   },
   {
    "duration": 10,
    "start_time": "2021-12-06T10:08:56.079Z"
   },
   {
    "duration": 5,
    "start_time": "2021-12-06T10:10:13.374Z"
   },
   {
    "duration": 5434,
    "start_time": "2021-12-06T10:10:29.088Z"
   },
   {
    "duration": 5105,
    "start_time": "2021-12-06T10:10:46.588Z"
   },
   {
    "duration": 35,
    "start_time": "2021-12-06T10:10:57.851Z"
   },
   {
    "duration": 33,
    "start_time": "2021-12-06T10:11:23.607Z"
   },
   {
    "duration": 1570,
    "start_time": "2021-12-06T10:11:34.877Z"
   },
   {
    "duration": 78,
    "start_time": "2021-12-06T10:11:36.450Z"
   },
   {
    "duration": 31,
    "start_time": "2021-12-06T10:11:36.532Z"
   },
   {
    "duration": 14,
    "start_time": "2021-12-06T10:11:36.567Z"
   },
   {
    "duration": 13,
    "start_time": "2021-12-06T10:11:36.584Z"
   },
   {
    "duration": 8,
    "start_time": "2021-12-06T10:11:36.600Z"
   },
   {
    "duration": 50,
    "start_time": "2021-12-06T10:11:36.611Z"
   },
   {
    "duration": 9,
    "start_time": "2021-12-06T10:11:36.665Z"
   },
   {
    "duration": 9,
    "start_time": "2021-12-06T10:11:36.677Z"
   },
   {
    "duration": 13,
    "start_time": "2021-12-06T10:11:36.688Z"
   },
   {
    "duration": 58,
    "start_time": "2021-12-06T10:11:36.703Z"
   },
   {
    "duration": 234,
    "start_time": "2021-12-06T10:11:36.764Z"
   },
   {
    "duration": 31,
    "start_time": "2021-12-06T10:11:37.000Z"
   },
   {
    "duration": 263,
    "start_time": "2021-12-06T10:11:37.033Z"
   },
   {
    "duration": 40,
    "start_time": "2021-12-06T10:11:37.298Z"
   },
   {
    "duration": 91,
    "start_time": "2021-12-06T10:11:37.341Z"
   },
   {
    "duration": 133,
    "start_time": "2021-12-06T10:11:37.435Z"
   },
   {
    "duration": 62,
    "start_time": "2021-12-06T10:11:37.572Z"
   },
   {
    "duration": 77,
    "start_time": "2021-12-06T10:11:37.637Z"
   },
   {
    "duration": 62,
    "start_time": "2021-12-06T10:11:37.717Z"
   },
   {
    "duration": 210,
    "start_time": "2021-12-06T10:11:37.783Z"
   },
   {
    "duration": 18,
    "start_time": "2021-12-06T10:11:37.996Z"
   },
   {
    "duration": 220,
    "start_time": "2021-12-06T10:11:38.019Z"
   },
   {
    "duration": 31,
    "start_time": "2021-12-06T10:11:38.242Z"
   },
   {
    "duration": 16,
    "start_time": "2021-12-06T10:11:38.276Z"
   },
   {
    "duration": 9,
    "start_time": "2021-12-06T10:11:38.294Z"
   },
   {
    "duration": 56,
    "start_time": "2021-12-06T10:11:38.305Z"
   },
   {
    "duration": 11,
    "start_time": "2021-12-06T10:11:38.363Z"
   },
   {
    "duration": 31,
    "start_time": "2021-12-06T10:11:38.377Z"
   },
   {
    "duration": 10,
    "start_time": "2021-12-06T10:11:38.411Z"
   },
   {
    "duration": 39,
    "start_time": "2021-12-06T10:11:38.423Z"
   },
   {
    "duration": 7,
    "start_time": "2021-12-06T10:11:38.465Z"
   },
   {
    "duration": 2051,
    "start_time": "2021-12-06T10:11:38.475Z"
   },
   {
    "duration": 347,
    "start_time": "2021-12-06T10:11:40.182Z"
   },
   {
    "duration": 26,
    "start_time": "2021-12-06T10:13:06.913Z"
   },
   {
    "duration": 11,
    "start_time": "2021-12-06T10:13:43.170Z"
   },
   {
    "duration": 8,
    "start_time": "2021-12-06T10:15:34.493Z"
   },
   {
    "duration": 1514,
    "start_time": "2021-12-06T10:15:42.823Z"
   },
   {
    "duration": 74,
    "start_time": "2021-12-06T10:15:44.340Z"
   },
   {
    "duration": 20,
    "start_time": "2021-12-06T10:15:44.417Z"
   },
   {
    "duration": 24,
    "start_time": "2021-12-06T10:15:44.440Z"
   },
   {
    "duration": 10,
    "start_time": "2021-12-06T10:15:44.467Z"
   },
   {
    "duration": 8,
    "start_time": "2021-12-06T10:15:44.479Z"
   },
   {
    "duration": 10,
    "start_time": "2021-12-06T10:15:44.489Z"
   },
   {
    "duration": 8,
    "start_time": "2021-12-06T10:15:44.503Z"
   },
   {
    "duration": 10,
    "start_time": "2021-12-06T10:15:44.559Z"
   },
   {
    "duration": 12,
    "start_time": "2021-12-06T10:15:44.572Z"
   },
   {
    "duration": 18,
    "start_time": "2021-12-06T10:15:44.586Z"
   },
   {
    "duration": 261,
    "start_time": "2021-12-06T10:15:44.606Z"
   },
   {
    "duration": 32,
    "start_time": "2021-12-06T10:15:44.870Z"
   },
   {
    "duration": 283,
    "start_time": "2021-12-06T10:15:44.904Z"
   },
   {
    "duration": 26,
    "start_time": "2021-12-06T10:15:45.189Z"
   },
   {
    "duration": 7,
    "start_time": "2021-12-06T10:15:45.218Z"
   },
   {
    "duration": 46,
    "start_time": "2021-12-06T10:15:45.228Z"
   },
   {
    "duration": 15,
    "start_time": "2021-12-06T10:15:45.277Z"
   },
   {
    "duration": 10,
    "start_time": "2021-12-06T10:15:45.295Z"
   },
   {
    "duration": 58,
    "start_time": "2021-12-06T10:15:45.308Z"
   },
   {
    "duration": 225,
    "start_time": "2021-12-06T10:15:45.368Z"
   },
   {
    "duration": 9,
    "start_time": "2021-12-06T10:15:45.596Z"
   },
   {
    "duration": 245,
    "start_time": "2021-12-06T10:15:45.609Z"
   },
   {
    "duration": 10,
    "start_time": "2021-12-06T10:15:45.857Z"
   },
   {
    "duration": 19,
    "start_time": "2021-12-06T10:15:45.870Z"
   },
   {
    "duration": 21,
    "start_time": "2021-12-06T10:15:45.892Z"
   },
   {
    "duration": 46,
    "start_time": "2021-12-06T10:15:45.916Z"
   },
   {
    "duration": 24,
    "start_time": "2021-12-06T10:15:45.965Z"
   },
   {
    "duration": 10,
    "start_time": "2021-12-06T10:15:45.992Z"
   },
   {
    "duration": 59,
    "start_time": "2021-12-06T10:15:46.005Z"
   },
   {
    "duration": 13,
    "start_time": "2021-12-06T10:15:46.067Z"
   },
   {
    "duration": 13,
    "start_time": "2021-12-06T10:15:46.082Z"
   },
   {
    "duration": 6,
    "start_time": "2021-12-06T10:15:46.097Z"
   },
   {
    "duration": 6234,
    "start_time": "2021-12-06T10:15:46.105Z"
   },
   {
    "duration": 45,
    "start_time": "2021-12-06T10:15:52.342Z"
   },
   {
    "duration": 21,
    "start_time": "2021-12-06T10:16:40.818Z"
   },
   {
    "duration": 763,
    "start_time": "2021-12-06T10:22:58.149Z"
   },
   {
    "duration": 391,
    "start_time": "2021-12-06T10:23:15.614Z"
   },
   {
    "duration": 415,
    "start_time": "2021-12-06T10:25:16.227Z"
   },
   {
    "duration": 409,
    "start_time": "2021-12-06T10:30:34.999Z"
   },
   {
    "duration": 4055,
    "start_time": "2021-12-06T10:32:37.174Z"
   },
   {
    "duration": 509,
    "start_time": "2021-12-06T10:33:12.962Z"
   },
   {
    "duration": 437,
    "start_time": "2021-12-06T10:34:54.495Z"
   },
   {
    "duration": 3343,
    "start_time": "2021-12-06T10:35:23.383Z"
   },
   {
    "duration": 381,
    "start_time": "2021-12-06T10:35:26.350Z"
   },
   {
    "duration": 374,
    "start_time": "2021-12-06T10:35:26.359Z"
   },
   {
    "duration": 358,
    "start_time": "2021-12-06T10:35:26.377Z"
   },
   {
    "duration": 344,
    "start_time": "2021-12-06T10:35:26.393Z"
   },
   {
    "duration": 338,
    "start_time": "2021-12-06T10:35:26.401Z"
   },
   {
    "duration": 331,
    "start_time": "2021-12-06T10:35:26.410Z"
   },
   {
    "duration": 328,
    "start_time": "2021-12-06T10:35:26.415Z"
   },
   {
    "duration": 326,
    "start_time": "2021-12-06T10:35:26.419Z"
   },
   {
    "duration": 324,
    "start_time": "2021-12-06T10:35:26.424Z"
   },
   {
    "duration": 323,
    "start_time": "2021-12-06T10:35:26.428Z"
   },
   {
    "duration": 321,
    "start_time": "2021-12-06T10:35:26.431Z"
   },
   {
    "duration": 320,
    "start_time": "2021-12-06T10:35:26.434Z"
   },
   {
    "duration": 318,
    "start_time": "2021-12-06T10:35:26.437Z"
   },
   {
    "duration": 317,
    "start_time": "2021-12-06T10:35:26.440Z"
   },
   {
    "duration": 314,
    "start_time": "2021-12-06T10:35:26.444Z"
   },
   {
    "duration": 312,
    "start_time": "2021-12-06T10:35:26.448Z"
   },
   {
    "duration": 304,
    "start_time": "2021-12-06T10:35:26.457Z"
   },
   {
    "duration": 302,
    "start_time": "2021-12-06T10:35:26.460Z"
   },
   {
    "duration": 301,
    "start_time": "2021-12-06T10:35:26.463Z"
   },
   {
    "duration": 299,
    "start_time": "2021-12-06T10:35:26.466Z"
   },
   {
    "duration": 297,
    "start_time": "2021-12-06T10:35:26.469Z"
   },
   {
    "duration": 296,
    "start_time": "2021-12-06T10:35:26.472Z"
   },
   {
    "duration": 293,
    "start_time": "2021-12-06T10:35:26.476Z"
   },
   {
    "duration": 292,
    "start_time": "2021-12-06T10:35:26.479Z"
   },
   {
    "duration": 287,
    "start_time": "2021-12-06T10:35:26.485Z"
   },
   {
    "duration": 285,
    "start_time": "2021-12-06T10:35:26.488Z"
   },
   {
    "duration": 283,
    "start_time": "2021-12-06T10:35:26.491Z"
   },
   {
    "duration": 283,
    "start_time": "2021-12-06T10:35:26.493Z"
   },
   {
    "duration": 281,
    "start_time": "2021-12-06T10:35:26.496Z"
   },
   {
    "duration": 280,
    "start_time": "2021-12-06T10:35:26.499Z"
   },
   {
    "duration": 279,
    "start_time": "2021-12-06T10:35:26.501Z"
   },
   {
    "duration": 277,
    "start_time": "2021-12-06T10:35:26.504Z"
   },
   {
    "duration": 275,
    "start_time": "2021-12-06T10:35:26.507Z"
   },
   {
    "duration": 274,
    "start_time": "2021-12-06T10:35:26.510Z"
   },
   {
    "duration": 272,
    "start_time": "2021-12-06T10:35:26.513Z"
   },
   {
    "duration": 270,
    "start_time": "2021-12-06T10:35:26.516Z"
   },
   {
    "duration": 384,
    "start_time": "2021-12-06T10:35:57.055Z"
   },
   {
    "duration": 782,
    "start_time": "2021-12-06T10:36:18.106Z"
   },
   {
    "duration": 387,
    "start_time": "2021-12-06T10:37:12.934Z"
   },
   {
    "duration": 396,
    "start_time": "2021-12-06T10:37:40.360Z"
   },
   {
    "duration": 1517,
    "start_time": "2021-12-06T10:38:27.228Z"
   },
   {
    "duration": 78,
    "start_time": "2021-12-06T10:38:28.748Z"
   },
   {
    "duration": 31,
    "start_time": "2021-12-06T10:38:28.830Z"
   },
   {
    "duration": 12,
    "start_time": "2021-12-06T10:38:28.865Z"
   },
   {
    "duration": 13,
    "start_time": "2021-12-06T10:38:28.880Z"
   },
   {
    "duration": 8,
    "start_time": "2021-12-06T10:38:28.896Z"
   },
   {
    "duration": 56,
    "start_time": "2021-12-06T10:38:28.906Z"
   },
   {
    "duration": 9,
    "start_time": "2021-12-06T10:38:28.967Z"
   },
   {
    "duration": 10,
    "start_time": "2021-12-06T10:38:28.980Z"
   },
   {
    "duration": 12,
    "start_time": "2021-12-06T10:38:28.993Z"
   },
   {
    "duration": 61,
    "start_time": "2021-12-06T10:38:29.007Z"
   },
   {
    "duration": 231,
    "start_time": "2021-12-06T10:38:29.071Z"
   },
   {
    "duration": 32,
    "start_time": "2021-12-06T10:38:29.305Z"
   },
   {
    "duration": 261,
    "start_time": "2021-12-06T10:38:29.340Z"
   },
   {
    "duration": 55,
    "start_time": "2021-12-06T10:38:29.605Z"
   },
   {
    "duration": 6,
    "start_time": "2021-12-06T10:38:29.663Z"
   },
   {
    "duration": 16,
    "start_time": "2021-12-06T10:38:29.671Z"
   },
   {
    "duration": 15,
    "start_time": "2021-12-06T10:38:29.689Z"
   },
   {
    "duration": 53,
    "start_time": "2021-12-06T10:38:29.707Z"
   },
   {
    "duration": 13,
    "start_time": "2021-12-06T10:38:29.763Z"
   },
   {
    "duration": 260,
    "start_time": "2021-12-06T10:38:29.779Z"
   },
   {
    "duration": 20,
    "start_time": "2021-12-06T10:38:30.043Z"
   },
   {
    "duration": 235,
    "start_time": "2021-12-06T10:38:30.068Z"
   },
   {
    "duration": 13,
    "start_time": "2021-12-06T10:38:30.306Z"
   },
   {
    "duration": 46,
    "start_time": "2021-12-06T10:38:30.322Z"
   },
   {
    "duration": 22,
    "start_time": "2021-12-06T10:38:30.371Z"
   },
   {
    "duration": 9,
    "start_time": "2021-12-06T10:38:30.395Z"
   },
   {
    "duration": 55,
    "start_time": "2021-12-06T10:38:30.407Z"
   },
   {
    "duration": 13,
    "start_time": "2021-12-06T10:38:30.464Z"
   },
   {
    "duration": 34,
    "start_time": "2021-12-06T10:38:30.479Z"
   },
   {
    "duration": 20,
    "start_time": "2021-12-06T10:38:30.515Z"
   },
   {
    "duration": 29,
    "start_time": "2021-12-06T10:38:30.537Z"
   },
   {
    "duration": 4577,
    "start_time": "2021-12-06T10:38:30.569Z"
   },
   {
    "duration": 18,
    "start_time": "2021-12-06T10:38:35.159Z"
   },
   {
    "duration": 6,
    "start_time": "2021-12-06T10:38:35.180Z"
   },
   {
    "duration": 4959,
    "start_time": "2021-12-06T10:38:35.188Z"
   },
   {
    "duration": 27,
    "start_time": "2021-12-06T10:38:40.150Z"
   },
   {
    "duration": 32,
    "start_time": "2021-12-06T10:38:58.951Z"
   },
   {
    "duration": 5,
    "start_time": "2021-12-06T10:39:29.451Z"
   },
   {
    "duration": 602,
    "start_time": "2021-12-06T10:40:35.164Z"
   },
   {
    "duration": 379,
    "start_time": "2021-12-06T10:41:06.315Z"
   },
   {
    "duration": 4073,
    "start_time": "2021-12-06T10:41:55.726Z"
   },
   {
    "duration": 399,
    "start_time": "2021-12-06T10:43:24.811Z"
   },
   {
    "duration": 386,
    "start_time": "2021-12-06T10:44:59.100Z"
   },
   {
    "duration": 448,
    "start_time": "2021-12-06T10:45:12.882Z"
   },
   {
    "duration": 5,
    "start_time": "2021-12-06T11:01:03.316Z"
   },
   {
    "duration": 24,
    "start_time": "2021-12-06T11:01:47.499Z"
   },
   {
    "duration": 389,
    "start_time": "2021-12-06T11:04:55.050Z"
   },
   {
    "duration": 5,
    "start_time": "2021-12-06T11:05:04.083Z"
   },
   {
    "duration": 9,
    "start_time": "2021-12-06T11:05:06.733Z"
   },
   {
    "duration": 388,
    "start_time": "2021-12-06T11:06:34.204Z"
   },
   {
    "duration": 6,
    "start_time": "2021-12-06T11:07:56.962Z"
   },
   {
    "duration": 6,
    "start_time": "2021-12-06T11:14:39.948Z"
   },
   {
    "duration": 4,
    "start_time": "2021-12-06T11:15:22.637Z"
   },
   {
    "duration": 9,
    "start_time": "2021-12-06T11:16:37.585Z"
   },
   {
    "duration": 429,
    "start_time": "2021-12-06T11:22:03.446Z"
   },
   {
    "duration": 24,
    "start_time": "2021-12-06T11:23:32.957Z"
   },
   {
    "duration": 401,
    "start_time": "2021-12-06T11:26:03.693Z"
   },
   {
    "duration": 3931,
    "start_time": "2021-12-06T11:26:13.139Z"
   },
   {
    "duration": 381,
    "start_time": "2021-12-06T11:30:02.016Z"
   },
   {
    "duration": 4008,
    "start_time": "2021-12-06T11:30:27.210Z"
   },
   {
    "duration": 4288,
    "start_time": "2021-12-06T11:31:06.763Z"
   },
   {
    "duration": 4246,
    "start_time": "2021-12-06T11:32:32.428Z"
   },
   {
    "duration": 3847,
    "start_time": "2021-12-06T11:34:09.986Z"
   },
   {
    "duration": 3747,
    "start_time": "2021-12-06T11:35:21.854Z"
   },
   {
    "duration": 3954,
    "start_time": "2021-12-06T11:35:45.242Z"
   },
   {
    "duration": 8,
    "start_time": "2021-12-06T11:43:48.165Z"
   },
   {
    "duration": 5,
    "start_time": "2021-12-06T11:44:13.546Z"
   },
   {
    "duration": 30,
    "start_time": "2021-12-06T11:46:23.229Z"
   },
   {
    "duration": 405,
    "start_time": "2021-12-06T11:48:13.959Z"
   },
   {
    "duration": 6244,
    "start_time": "2021-12-06T11:48:59.478Z"
   },
   {
    "duration": 23,
    "start_time": "2021-12-06T11:49:21.269Z"
   },
   {
    "duration": 6821,
    "start_time": "2021-12-06T11:49:45.284Z"
   },
   {
    "duration": 7791,
    "start_time": "2021-12-06T11:51:11.406Z"
   },
   {
    "duration": 7620,
    "start_time": "2021-12-06T11:52:10.313Z"
   },
   {
    "duration": 7576,
    "start_time": "2021-12-06T11:52:21.211Z"
   },
   {
    "duration": 6,
    "start_time": "2021-12-06T12:41:58.534Z"
   },
   {
    "duration": 4946,
    "start_time": "2021-12-06T12:45:46.630Z"
   },
   {
    "duration": 5300,
    "start_time": "2021-12-06T12:46:53.946Z"
   },
   {
    "duration": 3623,
    "start_time": "2021-12-06T12:49:19.198Z"
   },
   {
    "duration": 5378,
    "start_time": "2021-12-06T12:55:24.167Z"
   },
   {
    "duration": 6,
    "start_time": "2021-12-06T12:55:41.754Z"
   },
   {
    "duration": 1923,
    "start_time": "2021-12-06T12:56:21.508Z"
   },
   {
    "duration": 5,
    "start_time": "2021-12-06T12:56:57.352Z"
   },
   {
    "duration": 4,
    "start_time": "2021-12-06T12:59:10.982Z"
   },
   {
    "duration": 5979,
    "start_time": "2021-12-06T12:59:14.509Z"
   },
   {
    "duration": 20,
    "start_time": "2021-12-06T12:59:32.178Z"
   },
   {
    "duration": 4,
    "start_time": "2021-12-06T13:00:15.292Z"
   },
   {
    "duration": 5575,
    "start_time": "2021-12-06T13:00:19.735Z"
   },
   {
    "duration": 23,
    "start_time": "2021-12-06T13:00:28.065Z"
   },
   {
    "duration": 5,
    "start_time": "2021-12-06T13:01:04.701Z"
   },
   {
    "duration": 5203,
    "start_time": "2021-12-06T13:01:10.958Z"
   },
   {
    "duration": 21,
    "start_time": "2021-12-06T13:01:16.164Z"
   },
   {
    "duration": 4,
    "start_time": "2021-12-06T13:02:11.951Z"
   },
   {
    "duration": 396,
    "start_time": "2021-12-06T13:03:37.252Z"
   },
   {
    "duration": 5224,
    "start_time": "2021-12-06T13:04:03.075Z"
   },
   {
    "duration": 9,
    "start_time": "2021-12-06T13:04:30.961Z"
   },
   {
    "duration": 8,
    "start_time": "2021-12-06T13:04:47.357Z"
   },
   {
    "duration": 3923,
    "start_time": "2021-12-06T13:04:48.880Z"
   },
   {
    "duration": 5,
    "start_time": "2021-12-06T13:04:52.806Z"
   },
   {
    "duration": 378,
    "start_time": "2021-12-06T13:05:29.051Z"
   },
   {
    "duration": 4,
    "start_time": "2021-12-06T13:10:28.955Z"
   },
   {
    "duration": 649,
    "start_time": "2021-12-06T13:13:20.376Z"
   },
   {
    "duration": 1593,
    "start_time": "2021-12-06T13:13:43.961Z"
   },
   {
    "duration": 78,
    "start_time": "2021-12-06T13:13:45.557Z"
   },
   {
    "duration": 27,
    "start_time": "2021-12-06T13:13:45.638Z"
   },
   {
    "duration": 19,
    "start_time": "2021-12-06T13:13:45.668Z"
   },
   {
    "duration": 11,
    "start_time": "2021-12-06T13:13:45.690Z"
   },
   {
    "duration": 11,
    "start_time": "2021-12-06T13:13:45.704Z"
   },
   {
    "duration": 11,
    "start_time": "2021-12-06T13:13:45.760Z"
   },
   {
    "duration": 10,
    "start_time": "2021-12-06T13:13:45.775Z"
   },
   {
    "duration": 10,
    "start_time": "2021-12-06T13:13:45.788Z"
   },
   {
    "duration": 12,
    "start_time": "2021-12-06T13:13:45.801Z"
   },
   {
    "duration": 61,
    "start_time": "2021-12-06T13:13:45.816Z"
   },
   {
    "duration": 256,
    "start_time": "2021-12-06T13:13:45.879Z"
   },
   {
    "duration": 40,
    "start_time": "2021-12-06T13:13:46.138Z"
   },
   {
    "duration": 351,
    "start_time": "2021-12-06T13:13:46.181Z"
   },
   {
    "duration": 40,
    "start_time": "2021-12-06T13:13:46.536Z"
   },
   {
    "duration": 8,
    "start_time": "2021-12-06T13:13:46.579Z"
   },
   {
    "duration": 19,
    "start_time": "2021-12-06T13:13:46.589Z"
   },
   {
    "duration": 50,
    "start_time": "2021-12-06T13:13:46.610Z"
   },
   {
    "duration": 9,
    "start_time": "2021-12-06T13:13:46.663Z"
   },
   {
    "duration": 13,
    "start_time": "2021-12-06T13:13:46.675Z"
   },
   {
    "duration": 275,
    "start_time": "2021-12-06T13:13:46.691Z"
   },
   {
    "duration": 10,
    "start_time": "2021-12-06T13:13:46.969Z"
   },
   {
    "duration": 240,
    "start_time": "2021-12-06T13:13:46.985Z"
   },
   {
    "duration": 12,
    "start_time": "2021-12-06T13:13:47.229Z"
   },
   {
    "duration": 35,
    "start_time": "2021-12-06T13:13:47.243Z"
   },
   {
    "duration": 24,
    "start_time": "2021-12-06T13:13:47.281Z"
   },
   {
    "duration": 10,
    "start_time": "2021-12-06T13:13:47.308Z"
   },
   {
    "duration": 26,
    "start_time": "2021-12-06T13:13:47.360Z"
   },
   {
    "duration": 12,
    "start_time": "2021-12-06T13:13:47.389Z"
   },
   {
    "duration": 58,
    "start_time": "2021-12-06T13:13:47.403Z"
   },
   {
    "duration": 12,
    "start_time": "2021-12-06T13:13:47.464Z"
   },
   {
    "duration": 21,
    "start_time": "2021-12-06T13:13:47.478Z"
   },
   {
    "duration": 921,
    "start_time": "2021-12-06T13:13:47.502Z"
   },
   {
    "duration": 354,
    "start_time": "2021-12-06T13:13:48.072Z"
   },
   {
    "duration": 352,
    "start_time": "2021-12-06T13:13:48.076Z"
   },
   {
    "duration": 351,
    "start_time": "2021-12-06T13:13:48.079Z"
   },
   {
    "duration": 351,
    "start_time": "2021-12-06T13:13:48.082Z"
   },
   {
    "duration": 5324,
    "start_time": "2021-12-06T13:14:39.371Z"
   },
   {
    "duration": 7,
    "start_time": "2021-12-06T13:17:11.961Z"
   },
   {
    "duration": 6,
    "start_time": "2021-12-06T13:17:25.487Z"
   },
   {
    "duration": 890,
    "start_time": "2021-12-06T13:18:32.979Z"
   },
   {
    "duration": 660,
    "start_time": "2021-12-06T13:20:25.864Z"
   },
   {
    "duration": 548,
    "start_time": "2021-12-06T13:20:47.345Z"
   },
   {
    "duration": 527,
    "start_time": "2021-12-06T13:24:17.954Z"
   },
   {
    "duration": 1624,
    "start_time": "2021-12-06T13:24:43.622Z"
   },
   {
    "duration": 75,
    "start_time": "2021-12-06T13:24:45.250Z"
   },
   {
    "duration": 27,
    "start_time": "2021-12-06T13:24:45.328Z"
   },
   {
    "duration": 12,
    "start_time": "2021-12-06T13:24:45.357Z"
   },
   {
    "duration": 10,
    "start_time": "2021-12-06T13:24:45.372Z"
   },
   {
    "duration": 9,
    "start_time": "2021-12-06T13:24:45.384Z"
   },
   {
    "duration": 10,
    "start_time": "2021-12-06T13:24:45.395Z"
   },
   {
    "duration": 9,
    "start_time": "2021-12-06T13:24:45.409Z"
   },
   {
    "duration": 10,
    "start_time": "2021-12-06T13:24:45.421Z"
   },
   {
    "duration": 28,
    "start_time": "2021-12-06T13:24:45.434Z"
   },
   {
    "duration": 17,
    "start_time": "2021-12-06T13:24:45.464Z"
   },
   {
    "duration": 232,
    "start_time": "2021-12-06T13:24:45.483Z"
   },
   {
    "duration": 51,
    "start_time": "2021-12-06T13:24:45.718Z"
   },
   {
    "duration": 236,
    "start_time": "2021-12-06T13:24:45.771Z"
   },
   {
    "duration": 25,
    "start_time": "2021-12-06T13:24:46.009Z"
   },
   {
    "duration": 6,
    "start_time": "2021-12-06T13:24:46.036Z"
   },
   {
    "duration": 26,
    "start_time": "2021-12-06T13:24:46.044Z"
   },
   {
    "duration": 15,
    "start_time": "2021-12-06T13:24:46.072Z"
   },
   {
    "duration": 9,
    "start_time": "2021-12-06T13:24:46.089Z"
   },
   {
    "duration": 12,
    "start_time": "2021-12-06T13:24:46.101Z"
   },
   {
    "duration": 298,
    "start_time": "2021-12-06T13:24:46.115Z"
   },
   {
    "duration": 8,
    "start_time": "2021-12-06T13:24:46.416Z"
   },
   {
    "duration": 346,
    "start_time": "2021-12-06T13:24:46.430Z"
   },
   {
    "duration": 10,
    "start_time": "2021-12-06T13:24:46.779Z"
   },
   {
    "duration": 74,
    "start_time": "2021-12-06T13:24:46.792Z"
   },
   {
    "duration": 21,
    "start_time": "2021-12-06T13:24:46.869Z"
   },
   {
    "duration": 10,
    "start_time": "2021-12-06T13:24:46.893Z"
   },
   {
    "duration": 71,
    "start_time": "2021-12-06T13:24:46.905Z"
   },
   {
    "duration": 11,
    "start_time": "2021-12-06T13:24:46.978Z"
   },
   {
    "duration": 26,
    "start_time": "2021-12-06T13:24:46.991Z"
   },
   {
    "duration": 45,
    "start_time": "2021-12-06T13:24:47.019Z"
   },
   {
    "duration": 10,
    "start_time": "2021-12-06T13:24:47.067Z"
   },
   {
    "duration": 9,
    "start_time": "2021-12-06T13:24:47.079Z"
   },
   {
    "duration": 10,
    "start_time": "2021-12-06T13:24:47.090Z"
   },
   {
    "duration": 500,
    "start_time": "2021-12-06T13:24:47.102Z"
   },
   {
    "duration": 420,
    "start_time": "2021-12-06T13:24:47.185Z"
   },
   {
    "duration": 418,
    "start_time": "2021-12-06T13:24:47.188Z"
   },
   {
    "duration": 411,
    "start_time": "2021-12-06T13:24:47.197Z"
   },
   {
    "duration": 908,
    "start_time": "2021-12-06T13:25:41.805Z"
   },
   {
    "duration": 384,
    "start_time": "2021-12-06T13:26:06.514Z"
   },
   {
    "duration": 407,
    "start_time": "2021-12-06T13:29:46.022Z"
   },
   {
    "duration": 413,
    "start_time": "2021-12-06T13:32:06.695Z"
   },
   {
    "duration": 12,
    "start_time": "2021-12-06T13:34:48.971Z"
   },
   {
    "duration": 14,
    "start_time": "2021-12-06T13:42:00.159Z"
   },
   {
    "duration": 1026,
    "start_time": "2021-12-06T13:53:09.360Z"
   },
   {
    "duration": 5,
    "start_time": "2021-12-06T16:56:19.556Z"
   },
   {
    "duration": 17,
    "start_time": "2021-12-06T16:56:31.209Z"
   },
   {
    "duration": 395,
    "start_time": "2021-12-06T16:56:45.795Z"
   },
   {
    "duration": 15,
    "start_time": "2021-12-06T16:57:47.153Z"
   },
   {
    "duration": 10,
    "start_time": "2021-12-06T17:00:39.573Z"
   },
   {
    "duration": 5,
    "start_time": "2021-12-06T17:00:52.940Z"
   },
   {
    "duration": 6,
    "start_time": "2021-12-06T17:00:57.186Z"
   },
   {
    "duration": 14,
    "start_time": "2021-12-06T17:01:00.531Z"
   },
   {
    "duration": 515,
    "start_time": "2021-12-06T17:01:47.842Z"
   },
   {
    "duration": 5,
    "start_time": "2021-12-06T17:01:52.286Z"
   },
   {
    "duration": 6,
    "start_time": "2021-12-06T17:09:35.258Z"
   },
   {
    "duration": 26,
    "start_time": "2021-12-06T17:09:38.744Z"
   },
   {
    "duration": 564,
    "start_time": "2021-12-06T17:09:58.441Z"
   },
   {
    "duration": 6,
    "start_time": "2021-12-06T17:10:27.077Z"
   },
   {
    "duration": 5,
    "start_time": "2021-12-06T17:10:30.721Z"
   },
   {
    "duration": 4,
    "start_time": "2021-12-06T17:37:50.331Z"
   },
   {
    "duration": 4,
    "start_time": "2021-12-06T17:38:08.729Z"
   },
   {
    "duration": 102,
    "start_time": "2021-12-07T07:18:35.727Z"
   },
   {
    "duration": 357,
    "start_time": "2021-12-07T07:20:43.348Z"
   },
   {
    "duration": 275,
    "start_time": "2021-12-07T07:21:09.164Z"
   },
   {
    "duration": 293,
    "start_time": "2021-12-07T07:21:37.537Z"
   },
   {
    "duration": 261,
    "start_time": "2021-12-07T07:22:40.424Z"
   },
   {
    "duration": 277,
    "start_time": "2021-12-07T07:23:01.007Z"
   },
   {
    "duration": 2067,
    "start_time": "2021-12-07T07:23:06.848Z"
   },
   {
    "duration": 1379,
    "start_time": "2021-12-07T07:23:17.260Z"
   },
   {
    "duration": 73,
    "start_time": "2021-12-07T07:23:18.642Z"
   },
   {
    "duration": 21,
    "start_time": "2021-12-07T07:23:18.723Z"
   },
   {
    "duration": 12,
    "start_time": "2021-12-07T07:23:18.747Z"
   },
   {
    "duration": 10,
    "start_time": "2021-12-07T07:23:18.761Z"
   },
   {
    "duration": 7,
    "start_time": "2021-12-07T07:23:18.774Z"
   },
   {
    "duration": 49,
    "start_time": "2021-12-07T07:23:18.783Z"
   },
   {
    "duration": 8,
    "start_time": "2021-12-07T07:23:18.836Z"
   },
   {
    "duration": 8,
    "start_time": "2021-12-07T07:23:18.847Z"
   },
   {
    "duration": 11,
    "start_time": "2021-12-07T07:23:18.858Z"
   },
   {
    "duration": 61,
    "start_time": "2021-12-07T07:23:18.871Z"
   },
   {
    "duration": 235,
    "start_time": "2021-12-07T07:23:18.935Z"
   },
   {
    "duration": 26,
    "start_time": "2021-12-07T07:23:19.173Z"
   },
   {
    "duration": 241,
    "start_time": "2021-12-07T07:23:19.201Z"
   },
   {
    "duration": 24,
    "start_time": "2021-12-07T07:23:19.444Z"
   },
   {
    "duration": 5,
    "start_time": "2021-12-07T07:23:19.471Z"
   },
   {
    "duration": 49,
    "start_time": "2021-12-07T07:23:19.478Z"
   },
   {
    "duration": 14,
    "start_time": "2021-12-07T07:23:19.529Z"
   },
   {
    "duration": 8,
    "start_time": "2021-12-07T07:23:19.545Z"
   },
   {
    "duration": 14,
    "start_time": "2021-12-07T07:23:19.556Z"
   },
   {
    "duration": 355,
    "start_time": "2021-12-07T07:23:19.573Z"
   },
   {
    "duration": 7,
    "start_time": "2021-12-07T07:23:19.931Z"
   },
   {
    "duration": 223,
    "start_time": "2021-12-07T07:23:19.943Z"
   },
   {
    "duration": 9,
    "start_time": "2021-12-07T07:23:20.169Z"
   },
   {
    "duration": 42,
    "start_time": "2021-12-07T07:23:20.181Z"
   },
   {
    "duration": 20,
    "start_time": "2021-12-07T07:23:20.226Z"
   },
   {
    "duration": 9,
    "start_time": "2021-12-07T07:23:20.249Z"
   },
   {
    "duration": 25,
    "start_time": "2021-12-07T07:23:20.260Z"
   },
   {
    "duration": 40,
    "start_time": "2021-12-07T07:23:20.288Z"
   },
   {
    "duration": 26,
    "start_time": "2021-12-07T07:23:20.330Z"
   },
   {
    "duration": 10,
    "start_time": "2021-12-07T07:23:20.358Z"
   },
   {
    "duration": 9,
    "start_time": "2021-12-07T07:23:20.370Z"
   },
   {
    "duration": 7,
    "start_time": "2021-12-07T07:23:20.381Z"
   },
   {
    "duration": 4,
    "start_time": "2021-12-07T07:23:20.423Z"
   },
   {
    "duration": 855,
    "start_time": "2021-12-07T07:23:20.430Z"
   },
   {
    "duration": 5,
    "start_time": "2021-12-07T07:23:21.289Z"
   },
   {
    "duration": 244,
    "start_time": "2021-12-07T07:23:21.297Z"
   },
   {
    "duration": 20,
    "start_time": "2021-12-07T07:23:21.544Z"
   },
   {
    "duration": 12,
    "start_time": "2021-12-07T07:24:19.726Z"
   },
   {
    "duration": 21,
    "start_time": "2021-12-07T07:25:22.120Z"
   },
   {
    "duration": 23,
    "start_time": "2021-12-07T07:25:36.780Z"
   },
   {
    "duration": 27,
    "start_time": "2021-12-07T07:26:24.446Z"
   },
   {
    "duration": 94,
    "start_time": "2021-12-07T07:29:53.283Z"
   },
   {
    "duration": 100,
    "start_time": "2021-12-07T07:32:49.721Z"
   },
   {
    "duration": 5,
    "start_time": "2021-12-07T07:33:27.890Z"
   },
   {
    "duration": 148,
    "start_time": "2021-12-07T07:33:29.614Z"
   },
   {
    "duration": 20,
    "start_time": "2021-12-07T07:33:31.108Z"
   },
   {
    "duration": 5,
    "start_time": "2021-12-07T07:42:16.436Z"
   },
   {
    "duration": 5512,
    "start_time": "2021-12-07T07:42:20.251Z"
   },
   {
    "duration": 19,
    "start_time": "2021-12-07T07:42:25.766Z"
   },
   {
    "duration": 84,
    "start_time": "2021-12-07T07:45:12.761Z"
   },
   {
    "duration": 7,
    "start_time": "2021-12-07T07:47:28.803Z"
   },
   {
    "duration": 8,
    "start_time": "2021-12-07T07:47:41.475Z"
   },
   {
    "duration": 8,
    "start_time": "2021-12-07T07:47:55.919Z"
   },
   {
    "duration": 91,
    "start_time": "2021-12-07T07:58:59.214Z"
   },
   {
    "duration": 10,
    "start_time": "2021-12-07T08:13:12.764Z"
   },
   {
    "duration": 10,
    "start_time": "2021-12-07T08:13:18.587Z"
   },
   {
    "duration": 28,
    "start_time": "2021-12-07T08:51:33.935Z"
   },
   {
    "duration": 103,
    "start_time": "2021-12-07T09:04:55.296Z"
   },
   {
    "duration": 85,
    "start_time": "2021-12-07T09:43:08.284Z"
   },
   {
    "duration": 448,
    "start_time": "2021-12-07T10:01:17.123Z"
   },
   {
    "duration": 10,
    "start_time": "2021-12-07T10:04:49.371Z"
   },
   {
    "duration": 268,
    "start_time": "2021-12-07T10:05:12.823Z"
   },
   {
    "duration": 5,
    "start_time": "2021-12-07T10:05:34.751Z"
   },
   {
    "duration": 6,
    "start_time": "2021-12-07T10:05:49.136Z"
   },
   {
    "duration": 5,
    "start_time": "2021-12-07T10:08:58.157Z"
   },
   {
    "duration": 7,
    "start_time": "2021-12-07T10:09:12.659Z"
   },
   {
    "duration": 313,
    "start_time": "2021-12-07T10:10:16.132Z"
   },
   {
    "duration": 348,
    "start_time": "2021-12-07T10:10:25.673Z"
   },
   {
    "duration": 281,
    "start_time": "2021-12-07T10:12:38.366Z"
   },
   {
    "duration": 5,
    "start_time": "2021-12-07T10:12:44.153Z"
   },
   {
    "duration": 296,
    "start_time": "2021-12-07T10:14:42.115Z"
   },
   {
    "duration": 5,
    "start_time": "2021-12-07T10:17:21.340Z"
   },
   {
    "duration": 5,
    "start_time": "2021-12-07T10:18:02.896Z"
   },
   {
    "duration": 307,
    "start_time": "2021-12-07T10:18:06.515Z"
   },
   {
    "duration": 18,
    "start_time": "2021-12-07T10:18:57.180Z"
   },
   {
    "duration": 6,
    "start_time": "2021-12-07T10:24:07.556Z"
   },
   {
    "duration": 7,
    "start_time": "2021-12-07T10:24:21.644Z"
   },
   {
    "duration": 6,
    "start_time": "2021-12-07T10:25:44.396Z"
   },
   {
    "duration": 6,
    "start_time": "2021-12-07T10:25:56.467Z"
   },
   {
    "duration": 5,
    "start_time": "2021-12-07T10:33:24.796Z"
   },
   {
    "duration": 9,
    "start_time": "2021-12-07T10:33:35.877Z"
   },
   {
    "duration": 10,
    "start_time": "2021-12-07T10:35:40.708Z"
   },
   {
    "duration": 33,
    "start_time": "2021-12-07T10:38:24.247Z"
   },
   {
    "duration": 9,
    "start_time": "2021-12-07T10:40:24.608Z"
   },
   {
    "duration": 11,
    "start_time": "2021-12-07T10:40:58.324Z"
   },
   {
    "duration": 18,
    "start_time": "2021-12-07T10:41:35.380Z"
   },
   {
    "duration": 7,
    "start_time": "2021-12-07T10:47:45.154Z"
   },
   {
    "duration": 5,
    "start_time": "2021-12-07T10:53:14.492Z"
   },
   {
    "duration": 8,
    "start_time": "2021-12-07T10:54:23.030Z"
   },
   {
    "duration": 379,
    "start_time": "2021-12-07T11:11:29.316Z"
   },
   {
    "duration": 22,
    "start_time": "2021-12-07T11:12:14.876Z"
   },
   {
    "duration": 45,
    "start_time": "2021-12-07T11:12:29.411Z"
   },
   {
    "duration": 45,
    "start_time": "2021-12-07T11:14:02.017Z"
   },
   {
    "duration": 33,
    "start_time": "2021-12-07T11:15:26.629Z"
   },
   {
    "duration": 288,
    "start_time": "2021-12-07T11:18:17.388Z"
   },
   {
    "duration": 33,
    "start_time": "2021-12-07T11:18:25.829Z"
   },
   {
    "duration": 8,
    "start_time": "2021-12-07T11:21:38.632Z"
   },
   {
    "duration": 779,
    "start_time": "2021-12-07T11:22:49.467Z"
   },
   {
    "duration": 15,
    "start_time": "2021-12-07T11:23:02.436Z"
   },
   {
    "duration": 23,
    "start_time": "2021-12-07T11:24:57.502Z"
   },
   {
    "duration": 134,
    "start_time": "2021-12-07T12:31:27.289Z"
   },
   {
    "duration": 9,
    "start_time": "2021-12-07T12:31:32.418Z"
   },
   {
    "duration": 7,
    "start_time": "2021-12-07T12:31:51.660Z"
   },
   {
    "duration": 9,
    "start_time": "2021-12-07T12:32:18.856Z"
   },
   {
    "duration": 12,
    "start_time": "2021-12-07T12:32:21.429Z"
   },
   {
    "duration": 8,
    "start_time": "2021-12-07T12:32:42.753Z"
   },
   {
    "duration": 12,
    "start_time": "2021-12-07T12:32:45.122Z"
   },
   {
    "duration": 1410,
    "start_time": "2021-12-07T12:33:00.956Z"
   },
   {
    "duration": 76,
    "start_time": "2021-12-07T12:33:02.369Z"
   },
   {
    "duration": 21,
    "start_time": "2021-12-07T12:33:02.448Z"
   },
   {
    "duration": 21,
    "start_time": "2021-12-07T12:33:02.472Z"
   },
   {
    "duration": 33,
    "start_time": "2021-12-07T12:33:02.495Z"
   },
   {
    "duration": 9,
    "start_time": "2021-12-07T12:33:02.531Z"
   },
   {
    "duration": 28,
    "start_time": "2021-12-07T12:33:02.543Z"
   },
   {
    "duration": 18,
    "start_time": "2021-12-07T12:33:02.575Z"
   },
   {
    "duration": 21,
    "start_time": "2021-12-07T12:33:02.596Z"
   },
   {
    "duration": 32,
    "start_time": "2021-12-07T12:33:02.619Z"
   },
   {
    "duration": 35,
    "start_time": "2021-12-07T12:33:02.654Z"
   },
   {
    "duration": 234,
    "start_time": "2021-12-07T12:33:02.692Z"
   },
   {
    "duration": 26,
    "start_time": "2021-12-07T12:33:02.929Z"
   },
   {
    "duration": 247,
    "start_time": "2021-12-07T12:33:02.957Z"
   },
   {
    "duration": 43,
    "start_time": "2021-12-07T12:33:03.207Z"
   },
   {
    "duration": 27,
    "start_time": "2021-12-07T12:33:03.252Z"
   },
   {
    "duration": 30,
    "start_time": "2021-12-07T12:33:03.281Z"
   },
   {
    "duration": 55,
    "start_time": "2021-12-07T12:33:03.314Z"
   },
   {
    "duration": 16,
    "start_time": "2021-12-07T12:33:03.371Z"
   },
   {
    "duration": 27,
    "start_time": "2021-12-07T12:33:03.390Z"
   },
   {
    "duration": 250,
    "start_time": "2021-12-07T12:33:03.420Z"
   },
   {
    "duration": 9,
    "start_time": "2021-12-07T12:33:03.673Z"
   },
   {
    "duration": 224,
    "start_time": "2021-12-07T12:33:03.689Z"
   },
   {
    "duration": 24,
    "start_time": "2021-12-07T12:33:03.922Z"
   },
   {
    "duration": 23,
    "start_time": "2021-12-07T12:33:03.949Z"
   },
   {
    "duration": 16,
    "start_time": "2021-12-07T12:33:03.974Z"
   },
   {
    "duration": 51,
    "start_time": "2021-12-07T12:33:03.992Z"
   },
   {
    "duration": 21,
    "start_time": "2021-12-07T12:33:04.045Z"
   },
   {
    "duration": 66,
    "start_time": "2021-12-07T12:33:04.068Z"
   },
   {
    "duration": 56,
    "start_time": "2021-12-07T12:33:04.136Z"
   },
   {
    "duration": 24,
    "start_time": "2021-12-07T12:33:04.195Z"
   },
   {
    "duration": 43,
    "start_time": "2021-12-07T12:33:04.222Z"
   },
   {
    "duration": 41,
    "start_time": "2021-12-07T12:33:04.268Z"
   },
   {
    "duration": 1039,
    "start_time": "2021-12-07T12:33:04.312Z"
   },
   {
    "duration": 5,
    "start_time": "2021-12-07T12:33:05.354Z"
   },
   {
    "duration": 5329,
    "start_time": "2021-12-07T12:33:05.362Z"
   },
   {
    "duration": 20,
    "start_time": "2021-12-07T12:33:10.694Z"
   },
   {
    "duration": 10,
    "start_time": "2021-12-07T12:33:10.724Z"
   },
   {
    "duration": 15,
    "start_time": "2021-12-07T12:33:10.736Z"
   },
   {
    "duration": 9,
    "start_time": "2021-12-07T12:33:10.753Z"
   },
   {
    "duration": 69,
    "start_time": "2021-12-07T12:33:10.764Z"
   },
   {
    "duration": 8,
    "start_time": "2021-12-07T12:33:10.835Z"
   },
   {
    "duration": 25,
    "start_time": "2021-12-07T12:33:10.845Z"
   },
   {
    "duration": 10,
    "start_time": "2021-12-07T12:33:10.872Z"
   },
   {
    "duration": 9,
    "start_time": "2021-12-07T12:33:10.884Z"
   },
   {
    "duration": 21,
    "start_time": "2021-12-07T12:33:10.923Z"
   },
   {
    "duration": 27,
    "start_time": "2021-12-07T12:33:10.947Z"
   },
   {
    "duration": 16,
    "start_time": "2021-12-07T12:38:52.792Z"
   },
   {
    "duration": 790,
    "start_time": "2021-12-07T12:40:21.964Z"
   },
   {
    "duration": 15,
    "start_time": "2021-12-07T12:40:32.386Z"
   },
   {
    "duration": 7,
    "start_time": "2021-12-07T12:40:37.070Z"
   },
   {
    "duration": 7,
    "start_time": "2021-12-07T12:41:18.639Z"
   },
   {
    "duration": 1494,
    "start_time": "2021-12-07T12:41:26.896Z"
   },
   {
    "duration": 76,
    "start_time": "2021-12-07T12:41:28.393Z"
   },
   {
    "duration": 23,
    "start_time": "2021-12-07T12:41:28.472Z"
   },
   {
    "duration": 35,
    "start_time": "2021-12-07T12:41:28.497Z"
   },
   {
    "duration": 10,
    "start_time": "2021-12-07T12:41:28.535Z"
   },
   {
    "duration": 10,
    "start_time": "2021-12-07T12:41:28.547Z"
   },
   {
    "duration": 10,
    "start_time": "2021-12-07T12:41:28.559Z"
   },
   {
    "duration": 61,
    "start_time": "2021-12-07T12:41:28.572Z"
   },
   {
    "duration": 10,
    "start_time": "2021-12-07T12:41:28.639Z"
   },
   {
    "duration": 12,
    "start_time": "2021-12-07T12:41:28.652Z"
   },
   {
    "duration": 17,
    "start_time": "2021-12-07T12:41:28.667Z"
   },
   {
    "duration": 264,
    "start_time": "2021-12-07T12:41:28.687Z"
   },
   {
    "duration": 30,
    "start_time": "2021-12-07T12:41:28.953Z"
   },
   {
    "duration": 251,
    "start_time": "2021-12-07T12:41:28.986Z"
   },
   {
    "duration": 27,
    "start_time": "2021-12-07T12:41:29.240Z"
   },
   {
    "duration": 5,
    "start_time": "2021-12-07T12:41:29.269Z"
   },
   {
    "duration": 48,
    "start_time": "2021-12-07T12:41:29.277Z"
   },
   {
    "duration": 13,
    "start_time": "2021-12-07T12:41:29.328Z"
   },
   {
    "duration": 9,
    "start_time": "2021-12-07T12:41:29.344Z"
   },
   {
    "duration": 13,
    "start_time": "2021-12-07T12:41:29.356Z"
   },
   {
    "duration": 364,
    "start_time": "2021-12-07T12:41:29.371Z"
   },
   {
    "duration": 11,
    "start_time": "2021-12-07T12:41:29.738Z"
   },
   {
    "duration": 308,
    "start_time": "2021-12-07T12:41:29.752Z"
   },
   {
    "duration": 19,
    "start_time": "2021-12-07T12:41:30.063Z"
   },
   {
    "duration": 47,
    "start_time": "2021-12-07T12:41:30.085Z"
   },
   {
    "duration": 10,
    "start_time": "2021-12-07T12:41:30.134Z"
   },
   {
    "duration": 23,
    "start_time": "2021-12-07T12:41:30.149Z"
   },
   {
    "duration": 10,
    "start_time": "2021-12-07T12:41:30.175Z"
   },
   {
    "duration": 63,
    "start_time": "2021-12-07T12:41:30.188Z"
   },
   {
    "duration": 12,
    "start_time": "2021-12-07T12:41:30.254Z"
   },
   {
    "duration": 11,
    "start_time": "2021-12-07T12:41:30.268Z"
   },
   {
    "duration": 44,
    "start_time": "2021-12-07T12:41:30.281Z"
   },
   {
    "duration": 8,
    "start_time": "2021-12-07T12:41:30.328Z"
   },
   {
    "duration": 940,
    "start_time": "2021-12-07T12:41:30.339Z"
   },
   {
    "duration": 6,
    "start_time": "2021-12-07T12:41:31.281Z"
   },
   {
    "duration": 5676,
    "start_time": "2021-12-07T12:41:31.290Z"
   },
   {
    "duration": 20,
    "start_time": "2021-12-07T12:41:36.969Z"
   },
   {
    "duration": 10,
    "start_time": "2021-12-07T12:41:36.992Z"
   },
   {
    "duration": 12,
    "start_time": "2021-12-07T12:41:37.025Z"
   },
   {
    "duration": 16,
    "start_time": "2021-12-07T12:41:37.040Z"
   },
   {
    "duration": 28,
    "start_time": "2021-12-07T12:41:37.060Z"
   },
   {
    "duration": 38,
    "start_time": "2021-12-07T12:41:37.091Z"
   },
   {
    "duration": 34,
    "start_time": "2021-12-07T12:41:37.133Z"
   },
   {
    "duration": 57,
    "start_time": "2021-12-07T12:41:37.170Z"
   },
   {
    "duration": 14,
    "start_time": "2021-12-07T12:41:37.231Z"
   },
   {
    "duration": 24,
    "start_time": "2021-12-07T12:41:37.247Z"
   },
   {
    "duration": 102,
    "start_time": "2021-12-07T12:41:37.274Z"
   },
   {
    "duration": 9,
    "start_time": "2021-12-07T12:42:47.156Z"
   },
   {
    "duration": 9,
    "start_time": "2021-12-07T12:42:49.392Z"
   },
   {
    "duration": 19,
    "start_time": "2021-12-07T12:44:06.807Z"
   },
   {
    "duration": 6,
    "start_time": "2021-12-07T13:52:07.562Z"
   },
   {
    "duration": 1458,
    "start_time": "2021-12-07T13:52:22.697Z"
   },
   {
    "duration": 71,
    "start_time": "2021-12-07T13:52:24.158Z"
   },
   {
    "duration": 20,
    "start_time": "2021-12-07T13:52:24.232Z"
   },
   {
    "duration": 35,
    "start_time": "2021-12-07T13:52:24.255Z"
   },
   {
    "duration": 24,
    "start_time": "2021-12-07T13:52:24.292Z"
   },
   {
    "duration": 34,
    "start_time": "2021-12-07T13:52:24.319Z"
   },
   {
    "duration": 35,
    "start_time": "2021-12-07T13:52:24.356Z"
   },
   {
    "duration": 13,
    "start_time": "2021-12-07T13:52:24.396Z"
   },
   {
    "duration": 22,
    "start_time": "2021-12-07T13:52:24.412Z"
   },
   {
    "duration": 36,
    "start_time": "2021-12-07T13:52:24.437Z"
   },
   {
    "duration": 28,
    "start_time": "2021-12-07T13:52:24.475Z"
   },
   {
    "duration": 237,
    "start_time": "2021-12-07T13:52:24.505Z"
   },
   {
    "duration": 26,
    "start_time": "2021-12-07T13:52:24.745Z"
   },
   {
    "duration": 244,
    "start_time": "2021-12-07T13:52:24.773Z"
   },
   {
    "duration": 24,
    "start_time": "2021-12-07T13:52:25.023Z"
   },
   {
    "duration": 5,
    "start_time": "2021-12-07T13:52:25.050Z"
   },
   {
    "duration": 15,
    "start_time": "2021-12-07T13:52:25.057Z"
   },
   {
    "duration": 51,
    "start_time": "2021-12-07T13:52:25.074Z"
   },
   {
    "duration": 10,
    "start_time": "2021-12-07T13:52:25.127Z"
   },
   {
    "duration": 10,
    "start_time": "2021-12-07T13:52:25.139Z"
   },
   {
    "duration": 234,
    "start_time": "2021-12-07T13:52:25.151Z"
   },
   {
    "duration": 7,
    "start_time": "2021-12-07T13:52:25.387Z"
   },
   {
    "duration": 208,
    "start_time": "2021-12-07T13:52:25.400Z"
   },
   {
    "duration": 26,
    "start_time": "2021-12-07T13:52:25.612Z"
   },
   {
    "duration": 21,
    "start_time": "2021-12-07T13:52:25.640Z"
   },
   {
    "duration": 9,
    "start_time": "2021-12-07T13:52:25.663Z"
   },
   {
    "duration": 64,
    "start_time": "2021-12-07T13:52:25.675Z"
   },
   {
    "duration": 16,
    "start_time": "2021-12-07T13:52:25.742Z"
   },
   {
    "duration": 29,
    "start_time": "2021-12-07T13:52:25.760Z"
   },
   {
    "duration": 39,
    "start_time": "2021-12-07T13:52:25.791Z"
   },
   {
    "duration": 16,
    "start_time": "2021-12-07T13:52:25.833Z"
   },
   {
    "duration": 7,
    "start_time": "2021-12-07T13:52:25.851Z"
   },
   {
    "duration": 5,
    "start_time": "2021-12-07T13:52:25.860Z"
   },
   {
    "duration": 932,
    "start_time": "2021-12-07T13:52:25.867Z"
   },
   {
    "duration": 21,
    "start_time": "2021-12-07T13:52:26.802Z"
   },
   {
    "duration": 5437,
    "start_time": "2021-12-07T13:52:26.826Z"
   },
   {
    "duration": 19,
    "start_time": "2021-12-07T13:52:32.265Z"
   },
   {
    "duration": 42,
    "start_time": "2021-12-07T13:52:32.287Z"
   },
   {
    "duration": 13,
    "start_time": "2021-12-07T13:52:32.331Z"
   },
   {
    "duration": 33,
    "start_time": "2021-12-07T13:52:32.346Z"
   },
   {
    "duration": 36,
    "start_time": "2021-12-07T13:52:32.381Z"
   },
   {
    "duration": 6,
    "start_time": "2021-12-07T13:52:32.420Z"
   },
   {
    "duration": 42,
    "start_time": "2021-12-07T13:52:32.429Z"
   },
   {
    "duration": 27,
    "start_time": "2021-12-07T13:52:32.474Z"
   },
   {
    "duration": 8,
    "start_time": "2021-12-07T13:52:32.504Z"
   },
   {
    "duration": 36,
    "start_time": "2021-12-07T13:52:32.524Z"
   },
   {
    "duration": 77,
    "start_time": "2021-12-07T13:52:32.562Z"
   },
   {
    "duration": 102,
    "start_time": "2021-12-07T13:52:32.641Z"
   },
   {
    "duration": 3,
    "start_time": "2021-12-07T13:52:53.990Z"
   },
   {
    "duration": 9,
    "start_time": "2021-12-07T13:52:54.865Z"
   },
   {
    "duration": 7,
    "start_time": "2021-12-07T13:53:01.082Z"
   },
   {
    "duration": 2197,
    "start_time": "2021-12-07T13:53:14.675Z"
   },
   {
    "duration": 73,
    "start_time": "2021-12-07T13:53:16.875Z"
   },
   {
    "duration": 21,
    "start_time": "2021-12-07T13:53:16.951Z"
   },
   {
    "duration": 14,
    "start_time": "2021-12-07T13:53:16.975Z"
   },
   {
    "duration": 39,
    "start_time": "2021-12-07T13:53:16.992Z"
   },
   {
    "duration": 10,
    "start_time": "2021-12-07T13:53:17.034Z"
   },
   {
    "duration": 12,
    "start_time": "2021-12-07T13:53:17.047Z"
   },
   {
    "duration": 10,
    "start_time": "2021-12-07T13:53:17.065Z"
   },
   {
    "duration": 14,
    "start_time": "2021-12-07T13:53:17.123Z"
   },
   {
    "duration": 17,
    "start_time": "2021-12-07T13:53:17.140Z"
   },
   {
    "duration": 19,
    "start_time": "2021-12-07T13:53:17.159Z"
   },
   {
    "duration": 255,
    "start_time": "2021-12-07T13:53:17.180Z"
   },
   {
    "duration": 38,
    "start_time": "2021-12-07T13:53:17.438Z"
   },
   {
    "duration": 246,
    "start_time": "2021-12-07T13:53:17.479Z"
   },
   {
    "duration": 23,
    "start_time": "2021-12-07T13:53:17.728Z"
   },
   {
    "duration": 12,
    "start_time": "2021-12-07T13:53:17.754Z"
   },
   {
    "duration": 27,
    "start_time": "2021-12-07T13:53:17.768Z"
   },
   {
    "duration": 33,
    "start_time": "2021-12-07T13:53:17.798Z"
   },
   {
    "duration": 19,
    "start_time": "2021-12-07T13:53:17.833Z"
   },
   {
    "duration": 28,
    "start_time": "2021-12-07T13:53:17.854Z"
   },
   {
    "duration": 223,
    "start_time": "2021-12-07T13:53:17.884Z"
   },
   {
    "duration": 14,
    "start_time": "2021-12-07T13:53:18.109Z"
   },
   {
    "duration": 221,
    "start_time": "2021-12-07T13:53:18.130Z"
   },
   {
    "duration": 19,
    "start_time": "2021-12-07T13:53:18.354Z"
   },
   {
    "duration": 21,
    "start_time": "2021-12-07T13:53:18.375Z"
   },
   {
    "duration": 12,
    "start_time": "2021-12-07T13:53:18.422Z"
   },
   {
    "duration": 25,
    "start_time": "2021-12-07T13:53:18.437Z"
   },
   {
    "duration": 12,
    "start_time": "2021-12-07T13:53:18.465Z"
   },
   {
    "duration": 57,
    "start_time": "2021-12-07T13:53:18.479Z"
   },
   {
    "duration": 10,
    "start_time": "2021-12-07T13:53:18.539Z"
   },
   {
    "duration": 11,
    "start_time": "2021-12-07T13:53:18.551Z"
   },
   {
    "duration": 8,
    "start_time": "2021-12-07T13:53:18.564Z"
   },
   {
    "duration": 5,
    "start_time": "2021-12-07T13:53:18.574Z"
   },
   {
    "duration": 1013,
    "start_time": "2021-12-07T13:53:18.581Z"
   },
   {
    "duration": 6,
    "start_time": "2021-12-07T13:53:19.597Z"
   },
   {
    "duration": 5047,
    "start_time": "2021-12-07T13:53:19.606Z"
   },
   {
    "duration": 21,
    "start_time": "2021-12-07T13:53:24.656Z"
   },
   {
    "duration": 10,
    "start_time": "2021-12-07T13:53:24.679Z"
   },
   {
    "duration": 33,
    "start_time": "2021-12-07T13:53:24.691Z"
   },
   {
    "duration": 9,
    "start_time": "2021-12-07T13:53:24.727Z"
   },
   {
    "duration": 21,
    "start_time": "2021-12-07T13:53:24.738Z"
   },
   {
    "duration": 6,
    "start_time": "2021-12-07T13:53:24.762Z"
   },
   {
    "duration": 65,
    "start_time": "2021-12-07T13:53:24.770Z"
   },
   {
    "duration": 3,
    "start_time": "2021-12-07T13:53:24.837Z"
   },
   {
    "duration": 8,
    "start_time": "2021-12-07T13:53:24.843Z"
   },
   {
    "duration": 7,
    "start_time": "2021-12-07T13:53:24.854Z"
   },
   {
    "duration": 16,
    "start_time": "2021-12-07T13:53:24.863Z"
   },
   {
    "duration": 66,
    "start_time": "2021-12-07T13:53:24.881Z"
   },
   {
    "duration": 6,
    "start_time": "2021-12-07T14:00:33.579Z"
   },
   {
    "duration": 9,
    "start_time": "2021-12-07T14:00:35.488Z"
   },
   {
    "duration": 5,
    "start_time": "2021-12-07T14:03:00.907Z"
   },
   {
    "duration": 27,
    "start_time": "2021-12-07T14:03:22.454Z"
   },
   {
    "duration": 33,
    "start_time": "2021-12-07T14:03:51.226Z"
   },
   {
    "duration": 24,
    "start_time": "2021-12-07T14:05:20.558Z"
   },
   {
    "duration": 27,
    "start_time": "2021-12-07T14:05:37.937Z"
   },
   {
    "duration": 30,
    "start_time": "2021-12-07T14:14:08.822Z"
   },
   {
    "duration": 7,
    "start_time": "2021-12-07T14:15:53.869Z"
   },
   {
    "duration": 27,
    "start_time": "2021-12-07T14:18:08.536Z"
   },
   {
    "duration": 442,
    "start_time": "2021-12-07T14:25:08.788Z"
   },
   {
    "duration": 305,
    "start_time": "2021-12-07T14:25:36.792Z"
   },
   {
    "duration": 18,
    "start_time": "2021-12-07T14:29:00.930Z"
   },
   {
    "duration": 1402,
    "start_time": "2021-12-07T14:29:43.781Z"
   },
   {
    "duration": 69,
    "start_time": "2021-12-07T14:29:45.186Z"
   },
   {
    "duration": 21,
    "start_time": "2021-12-07T14:29:45.258Z"
   },
   {
    "duration": 13,
    "start_time": "2021-12-07T14:29:45.281Z"
   },
   {
    "duration": 30,
    "start_time": "2021-12-07T14:29:45.296Z"
   },
   {
    "duration": 8,
    "start_time": "2021-12-07T14:29:45.328Z"
   },
   {
    "duration": 10,
    "start_time": "2021-12-07T14:29:45.339Z"
   },
   {
    "duration": 8,
    "start_time": "2021-12-07T14:29:45.353Z"
   },
   {
    "duration": 61,
    "start_time": "2021-12-07T14:29:45.364Z"
   },
   {
    "duration": 11,
    "start_time": "2021-12-07T14:29:45.427Z"
   },
   {
    "duration": 19,
    "start_time": "2021-12-07T14:29:45.441Z"
   },
   {
    "duration": 236,
    "start_time": "2021-12-07T14:29:45.462Z"
   },
   {
    "duration": 44,
    "start_time": "2021-12-07T14:29:45.700Z"
   },
   {
    "duration": 229,
    "start_time": "2021-12-07T14:29:45.747Z"
   },
   {
    "duration": 25,
    "start_time": "2021-12-07T14:29:45.978Z"
   },
   {
    "duration": 6,
    "start_time": "2021-12-07T14:29:46.023Z"
   },
   {
    "duration": 15,
    "start_time": "2021-12-07T14:29:46.031Z"
   },
   {
    "duration": 13,
    "start_time": "2021-12-07T14:29:46.048Z"
   },
   {
    "duration": 8,
    "start_time": "2021-12-07T14:29:46.063Z"
   },
   {
    "duration": 55,
    "start_time": "2021-12-07T14:29:46.074Z"
   },
   {
    "duration": 223,
    "start_time": "2021-12-07T14:29:46.132Z"
   },
   {
    "duration": 8,
    "start_time": "2021-12-07T14:29:46.357Z"
   },
   {
    "duration": 214,
    "start_time": "2021-12-07T14:29:46.370Z"
   },
   {
    "duration": 36,
    "start_time": "2021-12-07T14:29:46.587Z"
   },
   {
    "duration": 23,
    "start_time": "2021-12-07T14:29:46.626Z"
   },
   {
    "duration": 11,
    "start_time": "2021-12-07T14:29:46.651Z"
   },
   {
    "duration": 61,
    "start_time": "2021-12-07T14:29:46.665Z"
   },
   {
    "duration": 14,
    "start_time": "2021-12-07T14:29:46.728Z"
   },
   {
    "duration": 24,
    "start_time": "2021-12-07T14:29:46.744Z"
   },
   {
    "duration": 14,
    "start_time": "2021-12-07T14:29:46.771Z"
   },
   {
    "duration": 36,
    "start_time": "2021-12-07T14:29:46.787Z"
   },
   {
    "duration": 6,
    "start_time": "2021-12-07T14:29:46.826Z"
   },
   {
    "duration": 4,
    "start_time": "2021-12-07T14:29:46.834Z"
   },
   {
    "duration": 1015,
    "start_time": "2021-12-07T14:29:46.841Z"
   },
   {
    "duration": 7,
    "start_time": "2021-12-07T14:29:47.860Z"
   },
   {
    "duration": 5326,
    "start_time": "2021-12-07T14:29:47.870Z"
   },
   {
    "duration": 29,
    "start_time": "2021-12-07T14:29:53.199Z"
   },
   {
    "duration": 10,
    "start_time": "2021-12-07T14:29:53.230Z"
   },
   {
    "duration": 8,
    "start_time": "2021-12-07T14:29:53.242Z"
   },
   {
    "duration": 8,
    "start_time": "2021-12-07T14:29:53.253Z"
   },
   {
    "duration": 65,
    "start_time": "2021-12-07T14:29:53.264Z"
   },
   {
    "duration": 8,
    "start_time": "2021-12-07T14:29:53.331Z"
   },
   {
    "duration": 21,
    "start_time": "2021-12-07T14:29:53.342Z"
   },
   {
    "duration": 6,
    "start_time": "2021-12-07T14:29:53.365Z"
   },
   {
    "duration": 51,
    "start_time": "2021-12-07T14:29:53.373Z"
   },
   {
    "duration": 18,
    "start_time": "2021-12-07T14:29:53.427Z"
   },
   {
    "duration": 6,
    "start_time": "2021-12-07T14:29:53.447Z"
   },
   {
    "duration": 27,
    "start_time": "2021-12-07T14:29:53.456Z"
   },
   {
    "duration": 287,
    "start_time": "2021-12-07T14:29:53.485Z"
   },
   {
    "duration": 17,
    "start_time": "2021-12-07T14:29:53.775Z"
   },
   {
    "duration": 17,
    "start_time": "2021-12-07T14:30:21.715Z"
   },
   {
    "duration": 18,
    "start_time": "2021-12-07T14:34:10.112Z"
   },
   {
    "duration": 242,
    "start_time": "2021-12-07T14:34:55.486Z"
   },
   {
    "duration": 24,
    "start_time": "2021-12-07T14:42:50.534Z"
   },
   {
    "duration": 20,
    "start_time": "2021-12-07T14:43:01.213Z"
   },
   {
    "duration": 10,
    "start_time": "2021-12-07T14:43:12.982Z"
   },
   {
    "duration": 1418,
    "start_time": "2021-12-07T14:43:33.874Z"
   },
   {
    "duration": 74,
    "start_time": "2021-12-07T14:43:35.296Z"
   },
   {
    "duration": 21,
    "start_time": "2021-12-07T14:43:35.374Z"
   },
   {
    "duration": 44,
    "start_time": "2021-12-07T14:43:35.398Z"
   },
   {
    "duration": 25,
    "start_time": "2021-12-07T14:43:35.444Z"
   },
   {
    "duration": 31,
    "start_time": "2021-12-07T14:43:35.472Z"
   },
   {
    "duration": 35,
    "start_time": "2021-12-07T14:43:35.506Z"
   },
   {
    "duration": 22,
    "start_time": "2021-12-07T14:43:35.545Z"
   },
   {
    "duration": 39,
    "start_time": "2021-12-07T14:43:35.570Z"
   },
   {
    "duration": 37,
    "start_time": "2021-12-07T14:43:35.611Z"
   },
   {
    "duration": 23,
    "start_time": "2021-12-07T14:43:35.651Z"
   },
   {
    "duration": 243,
    "start_time": "2021-12-07T14:43:35.676Z"
   },
   {
    "duration": 31,
    "start_time": "2021-12-07T14:43:35.921Z"
   },
   {
    "duration": 292,
    "start_time": "2021-12-07T14:43:35.954Z"
   },
   {
    "duration": 24,
    "start_time": "2021-12-07T14:43:36.248Z"
   },
   {
    "duration": 27,
    "start_time": "2021-12-07T14:43:36.274Z"
   },
   {
    "duration": 50,
    "start_time": "2021-12-07T14:43:36.303Z"
   },
   {
    "duration": 41,
    "start_time": "2021-12-07T14:43:36.355Z"
   },
   {
    "duration": 25,
    "start_time": "2021-12-07T14:43:36.398Z"
   },
   {
    "duration": 34,
    "start_time": "2021-12-07T14:43:36.425Z"
   },
   {
    "duration": 214,
    "start_time": "2021-12-07T14:43:36.461Z"
   },
   {
    "duration": 7,
    "start_time": "2021-12-07T14:43:36.677Z"
   },
   {
    "duration": 213,
    "start_time": "2021-12-07T14:43:36.690Z"
   },
   {
    "duration": 27,
    "start_time": "2021-12-07T14:43:36.906Z"
   },
   {
    "duration": 24,
    "start_time": "2021-12-07T14:43:36.935Z"
   },
   {
    "duration": 17,
    "start_time": "2021-12-07T14:43:36.961Z"
   },
   {
    "duration": 42,
    "start_time": "2021-12-07T14:43:36.981Z"
   },
   {
    "duration": 27,
    "start_time": "2021-12-07T14:43:37.025Z"
   },
   {
    "duration": 30,
    "start_time": "2021-12-07T14:43:37.054Z"
   },
   {
    "duration": 39,
    "start_time": "2021-12-07T14:43:37.086Z"
   },
   {
    "duration": 23,
    "start_time": "2021-12-07T14:43:37.127Z"
   },
   {
    "duration": 41,
    "start_time": "2021-12-07T14:43:37.152Z"
   },
   {
    "duration": 21,
    "start_time": "2021-12-07T14:43:37.195Z"
   },
   {
    "duration": 1215,
    "start_time": "2021-12-07T14:43:37.218Z"
   },
   {
    "duration": 6,
    "start_time": "2021-12-07T14:43:38.435Z"
   },
   {
    "duration": 4913,
    "start_time": "2021-12-07T14:43:38.443Z"
   },
   {
    "duration": 20,
    "start_time": "2021-12-07T14:43:43.358Z"
   },
   {
    "duration": 27,
    "start_time": "2021-12-07T14:43:43.380Z"
   },
   {
    "duration": 35,
    "start_time": "2021-12-07T14:43:43.410Z"
   },
   {
    "duration": 24,
    "start_time": "2021-12-07T14:43:43.448Z"
   },
   {
    "duration": 56,
    "start_time": "2021-12-07T14:43:43.475Z"
   },
   {
    "duration": 6,
    "start_time": "2021-12-07T14:43:43.533Z"
   },
   {
    "duration": 38,
    "start_time": "2021-12-07T14:43:43.542Z"
   },
   {
    "duration": 16,
    "start_time": "2021-12-07T14:43:43.583Z"
   },
   {
    "duration": 23,
    "start_time": "2021-12-07T14:43:43.601Z"
   },
   {
    "duration": 43,
    "start_time": "2021-12-07T14:43:43.627Z"
   },
   {
    "duration": 10,
    "start_time": "2021-12-07T14:43:43.672Z"
   },
   {
    "duration": 40,
    "start_time": "2021-12-07T14:43:43.684Z"
   },
   {
    "duration": 14,
    "start_time": "2021-12-07T14:43:43.727Z"
   },
   {
    "duration": 243,
    "start_time": "2021-12-07T14:43:43.743Z"
   },
   {
    "duration": 17,
    "start_time": "2021-12-07T14:43:43.988Z"
   },
   {
    "duration": 22,
    "start_time": "2021-12-07T14:43:58.973Z"
   },
   {
    "duration": 23,
    "start_time": "2021-12-07T14:44:22.603Z"
   },
   {
    "duration": 21,
    "start_time": "2021-12-07T14:44:26.625Z"
   },
   {
    "duration": 29,
    "start_time": "2021-12-07T14:45:18.651Z"
   },
   {
    "duration": 8,
    "start_time": "2021-12-07T14:45:34.975Z"
   },
   {
    "duration": 14,
    "start_time": "2021-12-07T14:46:05.110Z"
   },
   {
    "duration": 242,
    "start_time": "2021-12-07T14:46:19.393Z"
   },
   {
    "duration": 11,
    "start_time": "2021-12-07T14:46:52.213Z"
   },
   {
    "duration": 28,
    "start_time": "2021-12-07T14:47:01.724Z"
   },
   {
    "duration": 11,
    "start_time": "2021-12-07T14:47:05.043Z"
   },
   {
    "duration": 248,
    "start_time": "2021-12-07T14:47:17.307Z"
   },
   {
    "duration": 49,
    "start_time": "2021-12-07T15:01:11.563Z"
   },
   {
    "duration": 53,
    "start_time": "2021-12-07T15:03:15.348Z"
   },
   {
    "duration": 45,
    "start_time": "2021-12-07T15:04:25.726Z"
   },
   {
    "duration": 88,
    "start_time": "2021-12-07T15:10:24.242Z"
   },
   {
    "duration": 6,
    "start_time": "2021-12-07T15:19:00.557Z"
   },
   {
    "duration": 7,
    "start_time": "2021-12-07T15:19:16.067Z"
   },
   {
    "duration": 4,
    "start_time": "2021-12-07T15:19:25.658Z"
   },
   {
    "duration": 7077,
    "start_time": "2021-12-07T15:20:40.025Z"
   },
   {
    "duration": 5718,
    "start_time": "2021-12-07T15:21:41.075Z"
   },
   {
    "duration": 5313,
    "start_time": "2021-12-07T15:23:19.957Z"
   },
   {
    "duration": 6202,
    "start_time": "2021-12-07T15:24:32.292Z"
   },
   {
    "duration": 1435,
    "start_time": "2021-12-07T15:25:36.751Z"
   },
   {
    "duration": 76,
    "start_time": "2021-12-07T15:25:38.189Z"
   },
   {
    "duration": 22,
    "start_time": "2021-12-07T15:25:38.268Z"
   },
   {
    "duration": 33,
    "start_time": "2021-12-07T15:25:38.293Z"
   },
   {
    "duration": 9,
    "start_time": "2021-12-07T15:25:38.328Z"
   },
   {
    "duration": 11,
    "start_time": "2021-12-07T15:25:38.339Z"
   },
   {
    "duration": 10,
    "start_time": "2021-12-07T15:25:38.353Z"
   },
   {
    "duration": 20,
    "start_time": "2021-12-07T15:25:38.366Z"
   },
   {
    "duration": 42,
    "start_time": "2021-12-07T15:25:38.389Z"
   },
   {
    "duration": 18,
    "start_time": "2021-12-07T15:25:38.434Z"
   },
   {
    "duration": 22,
    "start_time": "2021-12-07T15:25:38.455Z"
   },
   {
    "duration": 239,
    "start_time": "2021-12-07T15:25:38.479Z"
   },
   {
    "duration": 27,
    "start_time": "2021-12-07T15:25:38.724Z"
   },
   {
    "duration": 246,
    "start_time": "2021-12-07T15:25:38.753Z"
   },
   {
    "duration": 41,
    "start_time": "2021-12-07T15:25:39.001Z"
   },
   {
    "duration": 5,
    "start_time": "2021-12-07T15:25:39.045Z"
   },
   {
    "duration": 33,
    "start_time": "2021-12-07T15:25:39.052Z"
   },
   {
    "duration": 33,
    "start_time": "2021-12-07T15:25:39.087Z"
   },
   {
    "duration": 9,
    "start_time": "2021-12-07T15:25:39.124Z"
   },
   {
    "duration": 9,
    "start_time": "2021-12-07T15:25:39.135Z"
   },
   {
    "duration": 252,
    "start_time": "2021-12-07T15:25:39.147Z"
   },
   {
    "duration": 8,
    "start_time": "2021-12-07T15:25:39.402Z"
   },
   {
    "duration": 200,
    "start_time": "2021-12-07T15:25:39.425Z"
   },
   {
    "duration": 18,
    "start_time": "2021-12-07T15:25:39.628Z"
   },
   {
    "duration": 20,
    "start_time": "2021-12-07T15:25:39.648Z"
   },
   {
    "duration": 9,
    "start_time": "2021-12-07T15:25:39.670Z"
   },
   {
    "duration": 56,
    "start_time": "2021-12-07T15:25:39.681Z"
   },
   {
    "duration": 9,
    "start_time": "2021-12-07T15:25:39.740Z"
   },
   {
    "duration": 24,
    "start_time": "2021-12-07T15:25:39.752Z"
   },
   {
    "duration": 9,
    "start_time": "2021-12-07T15:25:39.779Z"
   },
   {
    "duration": 8,
    "start_time": "2021-12-07T15:25:39.824Z"
   },
   {
    "duration": 9,
    "start_time": "2021-12-07T15:25:39.834Z"
   },
   {
    "duration": 4,
    "start_time": "2021-12-07T15:25:39.845Z"
   },
   {
    "duration": 904,
    "start_time": "2021-12-07T15:25:39.851Z"
   },
   {
    "duration": 6,
    "start_time": "2021-12-07T15:25:40.758Z"
   },
   {
    "duration": 5732,
    "start_time": "2021-12-07T15:25:40.766Z"
   },
   {
    "duration": 33,
    "start_time": "2021-12-07T15:25:46.501Z"
   },
   {
    "duration": 9,
    "start_time": "2021-12-07T15:25:46.537Z"
   },
   {
    "duration": 10,
    "start_time": "2021-12-07T15:25:46.549Z"
   },
   {
    "duration": 10,
    "start_time": "2021-12-07T15:25:46.561Z"
   },
   {
    "duration": 63,
    "start_time": "2021-12-07T15:25:46.574Z"
   },
   {
    "duration": 8,
    "start_time": "2021-12-07T15:25:46.640Z"
   },
   {
    "duration": 32,
    "start_time": "2021-12-07T15:25:46.650Z"
   },
   {
    "duration": 42,
    "start_time": "2021-12-07T15:25:46.685Z"
   },
   {
    "duration": 14,
    "start_time": "2021-12-07T15:25:46.730Z"
   },
   {
    "duration": 19,
    "start_time": "2021-12-07T15:25:46.746Z"
   },
   {
    "duration": 9,
    "start_time": "2021-12-07T15:25:46.767Z"
   },
   {
    "duration": 61,
    "start_time": "2021-12-07T15:25:46.778Z"
   },
   {
    "duration": 11,
    "start_time": "2021-12-07T15:25:46.841Z"
   },
   {
    "duration": 278,
    "start_time": "2021-12-07T15:25:46.855Z"
   },
   {
    "duration": 51,
    "start_time": "2021-12-07T15:25:47.136Z"
   },
   {
    "duration": 6737,
    "start_time": "2021-12-07T15:25:47.189Z"
   },
   {
    "duration": 5507,
    "start_time": "2021-12-07T15:27:38.880Z"
   },
   {
    "duration": 5453,
    "start_time": "2021-12-07T15:30:16.492Z"
   },
   {
    "duration": 294,
    "start_time": "2021-12-07T15:31:12.225Z"
   },
   {
    "duration": 314,
    "start_time": "2021-12-07T15:31:38.195Z"
   },
   {
    "duration": 326,
    "start_time": "2021-12-07T15:37:43.756Z"
   },
   {
    "duration": 448,
    "start_time": "2021-12-07T15:38:15.836Z"
   },
   {
    "duration": 20,
    "start_time": "2021-12-07T15:38:33.768Z"
   },
   {
    "duration": 21,
    "start_time": "2021-12-07T15:38:53.084Z"
   },
   {
    "duration": 25,
    "start_time": "2021-12-07T15:39:12.421Z"
   },
   {
    "duration": 27,
    "start_time": "2021-12-07T16:06:51.673Z"
   },
   {
    "duration": 5599,
    "start_time": "2021-12-07T16:08:11.205Z"
   },
   {
    "duration": 5504,
    "start_time": "2021-12-07T16:08:55.044Z"
   },
   {
    "duration": 308,
    "start_time": "2021-12-07T16:09:15.077Z"
   },
   {
    "duration": 302,
    "start_time": "2021-12-07T16:09:57.448Z"
   },
   {
    "duration": 28,
    "start_time": "2021-12-07T16:10:20.516Z"
   },
   {
    "duration": 5892,
    "start_time": "2021-12-07T16:10:34.677Z"
   },
   {
    "duration": 6328,
    "start_time": "2021-12-07T16:11:45.524Z"
   },
   {
    "duration": 11,
    "start_time": "2021-12-07T16:11:56.622Z"
   },
   {
    "duration": 6,
    "start_time": "2021-12-07T16:13:10.256Z"
   },
   {
    "duration": 5851,
    "start_time": "2021-12-07T16:13:33.172Z"
   },
   {
    "duration": 260,
    "start_time": "2021-12-07T16:15:31.733Z"
   },
   {
    "duration": 26,
    "start_time": "2021-12-07T16:15:55.675Z"
   },
   {
    "duration": 461,
    "start_time": "2021-12-07T16:17:00.247Z"
   },
   {
    "duration": 262,
    "start_time": "2021-12-07T16:17:26.542Z"
   },
   {
    "duration": 342,
    "start_time": "2021-12-07T16:20:47.609Z"
   },
   {
    "duration": 354,
    "start_time": "2021-12-07T16:23:03.597Z"
   },
   {
    "duration": 342,
    "start_time": "2021-12-07T16:23:22.243Z"
   },
   {
    "duration": 344,
    "start_time": "2021-12-07T16:23:28.679Z"
   },
   {
    "duration": 4,
    "start_time": "2021-12-07T16:45:44.613Z"
   },
   {
    "duration": 5628,
    "start_time": "2021-12-07T16:48:00.817Z"
   },
   {
    "duration": 4464,
    "start_time": "2021-12-07T16:54:35.047Z"
   },
   {
    "duration": 5,
    "start_time": "2021-12-07T16:55:20.695Z"
   },
   {
    "duration": 4273,
    "start_time": "2021-12-07T16:55:25.230Z"
   },
   {
    "duration": 4,
    "start_time": "2021-12-07T16:58:11.155Z"
   },
   {
    "duration": 6,
    "start_time": "2021-12-07T16:58:14.702Z"
   },
   {
    "duration": 11,
    "start_time": "2021-12-07T16:58:34.828Z"
   },
   {
    "duration": 4,
    "start_time": "2021-12-07T17:00:14.993Z"
   },
   {
    "duration": 7,
    "start_time": "2021-12-07T17:00:17.656Z"
   },
   {
    "duration": 12,
    "start_time": "2021-12-07T17:00:20.485Z"
   },
   {
    "duration": 5,
    "start_time": "2021-12-07T17:07:09.755Z"
   },
   {
    "duration": 6,
    "start_time": "2021-12-07T17:07:11.843Z"
   },
   {
    "duration": 11,
    "start_time": "2021-12-07T17:07:13.848Z"
   },
   {
    "duration": 15,
    "start_time": "2021-12-07T17:08:20.494Z"
   },
   {
    "duration": 6,
    "start_time": "2021-12-07T17:18:01.958Z"
   },
   {
    "duration": 14,
    "start_time": "2021-12-07T17:18:22.832Z"
   },
   {
    "duration": 147,
    "start_time": "2021-12-07T17:28:45.274Z"
   },
   {
    "duration": 6,
    "start_time": "2021-12-07T17:29:53.809Z"
   },
   {
    "duration": 12,
    "start_time": "2021-12-07T17:29:57.484Z"
   },
   {
    "duration": 5,
    "start_time": "2021-12-07T17:30:39.567Z"
   },
   {
    "duration": 105,
    "start_time": "2021-12-07T17:34:29.101Z"
   },
   {
    "duration": 150,
    "start_time": "2021-12-07T17:34:56.410Z"
   },
   {
    "duration": 5,
    "start_time": "2021-12-07T17:35:18.320Z"
   },
   {
    "duration": 111,
    "start_time": "2021-12-07T17:38:02.213Z"
   },
   {
    "duration": 128,
    "start_time": "2021-12-07T17:39:06.600Z"
   },
   {
    "duration": 134,
    "start_time": "2021-12-07T17:39:11.792Z"
   },
   {
    "duration": 126,
    "start_time": "2021-12-07T17:39:16.697Z"
   },
   {
    "duration": 301,
    "start_time": "2021-12-07T17:43:57.961Z"
   },
   {
    "duration": 5,
    "start_time": "2021-12-07T17:45:28.997Z"
   },
   {
    "duration": 1466,
    "start_time": "2021-12-07T17:45:51.883Z"
   },
   {
    "duration": 72,
    "start_time": "2021-12-07T17:45:53.352Z"
   },
   {
    "duration": 23,
    "start_time": "2021-12-07T17:45:53.427Z"
   },
   {
    "duration": 23,
    "start_time": "2021-12-07T17:45:53.454Z"
   },
   {
    "duration": 11,
    "start_time": "2021-12-07T17:45:53.481Z"
   },
   {
    "duration": 10,
    "start_time": "2021-12-07T17:45:53.524Z"
   },
   {
    "duration": 26,
    "start_time": "2021-12-07T17:45:53.537Z"
   },
   {
    "duration": 14,
    "start_time": "2021-12-07T17:45:53.568Z"
   },
   {
    "duration": 27,
    "start_time": "2021-12-07T17:45:53.586Z"
   },
   {
    "duration": 22,
    "start_time": "2021-12-07T17:45:53.616Z"
   },
   {
    "duration": 26,
    "start_time": "2021-12-07T17:45:53.641Z"
   },
   {
    "duration": 263,
    "start_time": "2021-12-07T17:45:53.670Z"
   },
   {
    "duration": 31,
    "start_time": "2021-12-07T17:45:53.936Z"
   },
   {
    "duration": 245,
    "start_time": "2021-12-07T17:45:53.969Z"
   },
   {
    "duration": 29,
    "start_time": "2021-12-07T17:45:54.216Z"
   },
   {
    "duration": 5,
    "start_time": "2021-12-07T17:45:54.247Z"
   },
   {
    "duration": 20,
    "start_time": "2021-12-07T17:45:54.255Z"
   },
   {
    "duration": 15,
    "start_time": "2021-12-07T17:45:54.277Z"
   },
   {
    "duration": 9,
    "start_time": "2021-12-07T17:45:54.322Z"
   },
   {
    "duration": 20,
    "start_time": "2021-12-07T17:45:54.333Z"
   },
   {
    "duration": 222,
    "start_time": "2021-12-07T17:45:54.355Z"
   },
   {
    "duration": 8,
    "start_time": "2021-12-07T17:45:54.580Z"
   },
   {
    "duration": 238,
    "start_time": "2021-12-07T17:45:54.593Z"
   },
   {
    "duration": 20,
    "start_time": "2021-12-07T17:45:54.834Z"
   },
   {
    "duration": 21,
    "start_time": "2021-12-07T17:45:54.857Z"
   },
   {
    "duration": 43,
    "start_time": "2021-12-07T17:45:54.882Z"
   },
   {
    "duration": 29,
    "start_time": "2021-12-07T17:45:54.928Z"
   },
   {
    "duration": 23,
    "start_time": "2021-12-07T17:45:54.959Z"
   },
   {
    "duration": 46,
    "start_time": "2021-12-07T17:45:54.985Z"
   },
   {
    "duration": 28,
    "start_time": "2021-12-07T17:45:55.034Z"
   },
   {
    "duration": 20,
    "start_time": "2021-12-07T17:45:55.064Z"
   },
   {
    "duration": 17,
    "start_time": "2021-12-07T17:45:55.087Z"
   },
   {
    "duration": 14,
    "start_time": "2021-12-07T17:45:55.106Z"
   },
   {
    "duration": 906,
    "start_time": "2021-12-07T17:45:55.123Z"
   },
   {
    "duration": 6,
    "start_time": "2021-12-07T17:45:56.032Z"
   },
   {
    "duration": 5986,
    "start_time": "2021-12-07T17:45:56.040Z"
   },
   {
    "duration": 21,
    "start_time": "2021-12-07T17:46:02.028Z"
   },
   {
    "duration": 46,
    "start_time": "2021-12-07T17:46:02.051Z"
   },
   {
    "duration": 16,
    "start_time": "2021-12-07T17:46:02.100Z"
   },
   {
    "duration": 26,
    "start_time": "2021-12-07T17:46:02.119Z"
   },
   {
    "duration": 37,
    "start_time": "2021-12-07T17:46:02.148Z"
   },
   {
    "duration": 16,
    "start_time": "2021-12-07T17:46:02.188Z"
   },
   {
    "duration": 25,
    "start_time": "2021-12-07T17:46:02.207Z"
   },
   {
    "duration": 5,
    "start_time": "2021-12-07T17:46:02.235Z"
   },
   {
    "duration": 18,
    "start_time": "2021-12-07T17:46:02.243Z"
   },
   {
    "duration": 22,
    "start_time": "2021-12-07T17:46:02.263Z"
   },
   {
    "duration": 36,
    "start_time": "2021-12-07T17:46:02.288Z"
   },
   {
    "duration": 53,
    "start_time": "2021-12-07T17:46:02.327Z"
   },
   {
    "duration": 277,
    "start_time": "2021-12-07T17:46:02.383Z"
   },
   {
    "duration": 6,
    "start_time": "2021-12-07T17:46:02.663Z"
   },
   {
    "duration": 13,
    "start_time": "2021-12-07T17:46:02.672Z"
   },
   {
    "duration": 8847,
    "start_time": "2021-12-07T17:46:02.687Z"
   },
   {
    "duration": -168,
    "start_time": "2021-12-07T17:46:11.705Z"
   },
   {
    "duration": -169,
    "start_time": "2021-12-07T17:46:11.708Z"
   },
   {
    "duration": -170,
    "start_time": "2021-12-07T17:46:11.711Z"
   },
   {
    "duration": 6,
    "start_time": "2021-12-07T17:50:13.947Z"
   },
   {
    "duration": 20,
    "start_time": "2021-12-07T17:50:43.055Z"
   },
   {
    "duration": 29,
    "start_time": "2021-12-07T17:50:50.911Z"
   },
   {
    "duration": 284,
    "start_time": "2021-12-07T17:50:53.584Z"
   },
   {
    "duration": 7,
    "start_time": "2021-12-07T17:50:59.267Z"
   },
   {
    "duration": 285,
    "start_time": "2021-12-07T17:52:32.366Z"
   },
   {
    "duration": 289,
    "start_time": "2021-12-07T17:52:58.476Z"
   },
   {
    "duration": 6,
    "start_time": "2021-12-07T17:53:19.102Z"
   },
   {
    "duration": 279,
    "start_time": "2021-12-07T17:53:22.157Z"
   },
   {
    "duration": 1469,
    "start_time": "2021-12-07T17:53:48.108Z"
   },
   {
    "duration": 74,
    "start_time": "2021-12-07T17:53:49.580Z"
   },
   {
    "duration": 25,
    "start_time": "2021-12-07T17:53:49.657Z"
   },
   {
    "duration": 38,
    "start_time": "2021-12-07T17:53:49.686Z"
   },
   {
    "duration": 11,
    "start_time": "2021-12-07T17:53:49.727Z"
   },
   {
    "duration": 12,
    "start_time": "2021-12-07T17:53:49.741Z"
   },
   {
    "duration": 12,
    "start_time": "2021-12-07T17:53:49.756Z"
   },
   {
    "duration": 50,
    "start_time": "2021-12-07T17:53:49.773Z"
   },
   {
    "duration": 10,
    "start_time": "2021-12-07T17:53:49.826Z"
   },
   {
    "duration": 12,
    "start_time": "2021-12-07T17:53:49.839Z"
   },
   {
    "duration": 20,
    "start_time": "2021-12-07T17:53:49.853Z"
   },
   {
    "duration": 291,
    "start_time": "2021-12-07T17:53:49.875Z"
   },
   {
    "duration": 29,
    "start_time": "2021-12-07T17:53:50.169Z"
   },
   {
    "duration": 245,
    "start_time": "2021-12-07T17:53:50.201Z"
   },
   {
    "duration": 26,
    "start_time": "2021-12-07T17:53:50.449Z"
   },
   {
    "duration": 6,
    "start_time": "2021-12-07T17:53:50.477Z"
   },
   {
    "duration": 47,
    "start_time": "2021-12-07T17:53:50.485Z"
   },
   {
    "duration": 19,
    "start_time": "2021-12-07T17:53:50.535Z"
   },
   {
    "duration": 8,
    "start_time": "2021-12-07T17:53:50.557Z"
   },
   {
    "duration": 10,
    "start_time": "2021-12-07T17:53:50.567Z"
   },
   {
    "duration": 267,
    "start_time": "2021-12-07T17:53:50.580Z"
   },
   {
    "duration": 8,
    "start_time": "2021-12-07T17:53:50.849Z"
   },
   {
    "duration": 232,
    "start_time": "2021-12-07T17:53:50.862Z"
   },
   {
    "duration": 37,
    "start_time": "2021-12-07T17:53:51.097Z"
   },
   {
    "duration": 25,
    "start_time": "2021-12-07T17:53:51.136Z"
   },
   {
    "duration": 12,
    "start_time": "2021-12-07T17:53:51.164Z"
   },
   {
    "duration": 61,
    "start_time": "2021-12-07T17:53:51.179Z"
   },
   {
    "duration": 10,
    "start_time": "2021-12-07T17:53:51.242Z"
   },
   {
    "duration": 25,
    "start_time": "2021-12-07T17:53:51.254Z"
   },
   {
    "duration": 10,
    "start_time": "2021-12-07T17:53:51.281Z"
   },
   {
    "duration": 8,
    "start_time": "2021-12-07T17:53:51.324Z"
   },
   {
    "duration": 6,
    "start_time": "2021-12-07T17:53:51.335Z"
   },
   {
    "duration": 5,
    "start_time": "2021-12-07T17:53:51.344Z"
   },
   {
    "duration": 919,
    "start_time": "2021-12-07T17:53:51.351Z"
   },
   {
    "duration": 6,
    "start_time": "2021-12-07T17:53:52.273Z"
   },
   {
    "duration": 5688,
    "start_time": "2021-12-07T17:53:52.281Z"
   },
   {
    "duration": 27,
    "start_time": "2021-12-07T17:53:57.972Z"
   },
   {
    "duration": 28,
    "start_time": "2021-12-07T17:53:58.002Z"
   },
   {
    "duration": 8,
    "start_time": "2021-12-07T17:53:58.033Z"
   },
   {
    "duration": 10,
    "start_time": "2021-12-07T17:53:58.044Z"
   },
   {
    "duration": 21,
    "start_time": "2021-12-07T17:53:58.056Z"
   },
   {
    "duration": 43,
    "start_time": "2021-12-07T17:53:58.080Z"
   },
   {
    "duration": 22,
    "start_time": "2021-12-07T17:53:58.126Z"
   },
   {
    "duration": 11,
    "start_time": "2021-12-07T17:53:58.151Z"
   },
   {
    "duration": 13,
    "start_time": "2021-12-07T17:53:58.165Z"
   },
   {
    "duration": 61,
    "start_time": "2021-12-07T17:53:58.181Z"
   },
   {
    "duration": 9,
    "start_time": "2021-12-07T17:53:58.244Z"
   },
   {
    "duration": 34,
    "start_time": "2021-12-07T17:53:58.256Z"
   },
   {
    "duration": 370,
    "start_time": "2021-12-07T17:53:58.292Z"
   },
   {
    "duration": 6,
    "start_time": "2021-12-07T17:53:58.664Z"
   },
   {
    "duration": 433,
    "start_time": "2021-12-07T17:53:58.673Z"
   },
   {
    "duration": -144,
    "start_time": "2021-12-07T17:53:59.253Z"
   },
   {
    "duration": -182,
    "start_time": "2021-12-07T17:53:59.293Z"
   },
   {
    "duration": -183,
    "start_time": "2021-12-07T17:53:59.296Z"
   },
   {
    "duration": 11,
    "start_time": "2021-12-07T17:55:05.435Z"
   },
   {
    "duration": 389,
    "start_time": "2021-12-07T17:55:45.475Z"
   },
   {
    "duration": 5,
    "start_time": "2021-12-07T17:58:44.822Z"
   },
   {
    "duration": 6,
    "start_time": "2021-12-07T17:59:04.903Z"
   },
   {
    "duration": 5219,
    "start_time": "2021-12-07T17:59:38.646Z"
   },
   {
    "duration": 6,
    "start_time": "2021-12-07T18:00:40.657Z"
   },
   {
    "duration": 6,
    "start_time": "2021-12-07T18:00:42.476Z"
   },
   {
    "duration": 1562,
    "start_time": "2021-12-07T18:01:09.319Z"
   },
   {
    "duration": 73,
    "start_time": "2021-12-07T18:01:10.884Z"
   },
   {
    "duration": 24,
    "start_time": "2021-12-07T18:01:10.961Z"
   },
   {
    "duration": 36,
    "start_time": "2021-12-07T18:01:10.988Z"
   },
   {
    "duration": 22,
    "start_time": "2021-12-07T18:01:11.032Z"
   },
   {
    "duration": 35,
    "start_time": "2021-12-07T18:01:11.058Z"
   },
   {
    "duration": 38,
    "start_time": "2021-12-07T18:01:11.096Z"
   },
   {
    "duration": 15,
    "start_time": "2021-12-07T18:01:11.139Z"
   },
   {
    "duration": 13,
    "start_time": "2021-12-07T18:01:11.158Z"
   },
   {
    "duration": 18,
    "start_time": "2021-12-07T18:01:11.174Z"
   },
   {
    "duration": 54,
    "start_time": "2021-12-07T18:01:11.195Z"
   },
   {
    "duration": 336,
    "start_time": "2021-12-07T18:01:11.254Z"
   },
   {
    "duration": 43,
    "start_time": "2021-12-07T18:01:11.592Z"
   },
   {
    "duration": 248,
    "start_time": "2021-12-07T18:01:11.638Z"
   },
   {
    "duration": 39,
    "start_time": "2021-12-07T18:01:11.889Z"
   },
   {
    "duration": 6,
    "start_time": "2021-12-07T18:01:11.931Z"
   },
   {
    "duration": 30,
    "start_time": "2021-12-07T18:01:11.940Z"
   },
   {
    "duration": 15,
    "start_time": "2021-12-07T18:01:11.973Z"
   },
   {
    "duration": 42,
    "start_time": "2021-12-07T18:01:11.991Z"
   },
   {
    "duration": 20,
    "start_time": "2021-12-07T18:01:12.036Z"
   },
   {
    "duration": 220,
    "start_time": "2021-12-07T18:01:12.059Z"
   },
   {
    "duration": 9,
    "start_time": "2021-12-07T18:01:12.282Z"
   },
   {
    "duration": 220,
    "start_time": "2021-12-07T18:01:12.297Z"
   },
   {
    "duration": 23,
    "start_time": "2021-12-07T18:01:12.524Z"
   },
   {
    "duration": 25,
    "start_time": "2021-12-07T18:01:12.550Z"
   },
   {
    "duration": 9,
    "start_time": "2021-12-07T18:01:12.577Z"
   },
   {
    "duration": 65,
    "start_time": "2021-12-07T18:01:12.588Z"
   },
   {
    "duration": 24,
    "start_time": "2021-12-07T18:01:12.655Z"
   },
   {
    "duration": 50,
    "start_time": "2021-12-07T18:01:12.682Z"
   },
   {
    "duration": 10,
    "start_time": "2021-12-07T18:01:12.735Z"
   },
   {
    "duration": 24,
    "start_time": "2021-12-07T18:01:12.747Z"
   },
   {
    "duration": 17,
    "start_time": "2021-12-07T18:01:12.774Z"
   },
   {
    "duration": 13,
    "start_time": "2021-12-07T18:01:12.793Z"
   },
   {
    "duration": 974,
    "start_time": "2021-12-07T18:01:12.809Z"
   },
   {
    "duration": 7,
    "start_time": "2021-12-07T18:01:13.786Z"
   },
   {
    "duration": 5990,
    "start_time": "2021-12-07T18:01:13.796Z"
   },
   {
    "duration": 20,
    "start_time": "2021-12-07T18:01:19.788Z"
   },
   {
    "duration": 31,
    "start_time": "2021-12-07T18:01:19.833Z"
   },
   {
    "duration": 14,
    "start_time": "2021-12-07T18:01:19.867Z"
   },
   {
    "duration": 10,
    "start_time": "2021-12-07T18:01:19.884Z"
   },
   {
    "duration": 39,
    "start_time": "2021-12-07T18:01:19.896Z"
   },
   {
    "duration": 8,
    "start_time": "2021-12-07T18:01:19.938Z"
   },
   {
    "duration": 25,
    "start_time": "2021-12-07T18:01:19.949Z"
   },
   {
    "duration": 8,
    "start_time": "2021-12-07T18:01:19.977Z"
   },
   {
    "duration": 42,
    "start_time": "2021-12-07T18:01:19.987Z"
   },
   {
    "duration": 43,
    "start_time": "2021-12-07T18:01:20.032Z"
   },
   {
    "duration": 11,
    "start_time": "2021-12-07T18:01:20.078Z"
   },
   {
    "duration": 49,
    "start_time": "2021-12-07T18:01:20.092Z"
   },
   {
    "duration": 315,
    "start_time": "2021-12-07T18:01:20.144Z"
   },
   {
    "duration": 7,
    "start_time": "2021-12-07T18:01:20.462Z"
   },
   {
    "duration": 19,
    "start_time": "2021-12-07T18:01:20.471Z"
   },
   {
    "duration": 12,
    "start_time": "2021-12-07T18:01:20.492Z"
   },
   {
    "duration": 34,
    "start_time": "2021-12-07T18:01:20.506Z"
   },
   {
    "duration": 28,
    "start_time": "2021-12-07T18:01:20.543Z"
   },
   {
    "duration": 10,
    "start_time": "2021-12-07T18:01:20.574Z"
   },
   {
    "duration": 57,
    "start_time": "2021-12-07T18:01:20.586Z"
   },
   {
    "duration": 8306,
    "start_time": "2021-12-07T18:04:03.712Z"
   },
   {
    "duration": 305,
    "start_time": "2021-12-07T18:04:59.460Z"
   },
   {
    "duration": 8023,
    "start_time": "2021-12-07T18:06:11.607Z"
   },
   {
    "duration": 7791,
    "start_time": "2021-12-07T18:07:06.290Z"
   },
   {
    "duration": 7221,
    "start_time": "2021-12-07T18:08:30.500Z"
   },
   {
    "duration": 8129,
    "start_time": "2021-12-07T18:09:16.966Z"
   },
   {
    "duration": 8157,
    "start_time": "2021-12-07T18:09:29.441Z"
   },
   {
    "duration": 1498,
    "start_time": "2021-12-07T18:09:45.883Z"
   },
   {
    "duration": 75,
    "start_time": "2021-12-07T18:09:47.384Z"
   },
   {
    "duration": 23,
    "start_time": "2021-12-07T18:09:47.463Z"
   },
   {
    "duration": 37,
    "start_time": "2021-12-07T18:09:47.490Z"
   },
   {
    "duration": 25,
    "start_time": "2021-12-07T18:09:47.530Z"
   },
   {
    "duration": 11,
    "start_time": "2021-12-07T18:09:47.557Z"
   },
   {
    "duration": 17,
    "start_time": "2021-12-07T18:09:47.571Z"
   },
   {
    "duration": 33,
    "start_time": "2021-12-07T18:09:47.592Z"
   },
   {
    "duration": 9,
    "start_time": "2021-12-07T18:09:47.628Z"
   },
   {
    "duration": 42,
    "start_time": "2021-12-07T18:09:47.639Z"
   },
   {
    "duration": 33,
    "start_time": "2021-12-07T18:09:47.683Z"
   },
   {
    "duration": 234,
    "start_time": "2021-12-07T18:09:47.718Z"
   },
   {
    "duration": 38,
    "start_time": "2021-12-07T18:09:47.954Z"
   },
   {
    "duration": 279,
    "start_time": "2021-12-07T18:09:47.994Z"
   },
   {
    "duration": 25,
    "start_time": "2021-12-07T18:09:48.276Z"
   },
   {
    "duration": 26,
    "start_time": "2021-12-07T18:09:48.303Z"
   },
   {
    "duration": 28,
    "start_time": "2021-12-07T18:09:48.331Z"
   },
   {
    "duration": 26,
    "start_time": "2021-12-07T18:09:48.362Z"
   },
   {
    "duration": 25,
    "start_time": "2021-12-07T18:09:48.391Z"
   },
   {
    "duration": 42,
    "start_time": "2021-12-07T18:09:48.418Z"
   },
   {
    "duration": 242,
    "start_time": "2021-12-07T18:09:48.462Z"
   },
   {
    "duration": 20,
    "start_time": "2021-12-07T18:09:48.707Z"
   },
   {
    "duration": 294,
    "start_time": "2021-12-07T18:09:48.735Z"
   },
   {
    "duration": 26,
    "start_time": "2021-12-07T18:09:49.033Z"
   },
   {
    "duration": 27,
    "start_time": "2021-12-07T18:09:49.062Z"
   },
   {
    "duration": 42,
    "start_time": "2021-12-07T18:09:49.092Z"
   },
   {
    "duration": 26,
    "start_time": "2021-12-07T18:09:49.136Z"
   },
   {
    "duration": 12,
    "start_time": "2021-12-07T18:09:49.165Z"
   },
   {
    "duration": 65,
    "start_time": "2021-12-07T18:09:49.180Z"
   },
   {
    "duration": 10,
    "start_time": "2021-12-07T18:09:49.248Z"
   },
   {
    "duration": 9,
    "start_time": "2021-12-07T18:09:49.260Z"
   },
   {
    "duration": 8,
    "start_time": "2021-12-07T18:09:49.271Z"
   },
   {
    "duration": 45,
    "start_time": "2021-12-07T18:09:49.281Z"
   },
   {
    "duration": 978,
    "start_time": "2021-12-07T18:09:49.328Z"
   },
   {
    "duration": 8,
    "start_time": "2021-12-07T18:09:50.325Z"
   },
   {
    "duration": 5907,
    "start_time": "2021-12-07T18:09:50.336Z"
   },
   {
    "duration": 21,
    "start_time": "2021-12-07T18:09:56.245Z"
   },
   {
    "duration": 10,
    "start_time": "2021-12-07T18:09:56.269Z"
   },
   {
    "duration": 42,
    "start_time": "2021-12-07T18:09:56.281Z"
   },
   {
    "duration": 9,
    "start_time": "2021-12-07T18:09:56.325Z"
   },
   {
    "duration": 24,
    "start_time": "2021-12-07T18:09:56.336Z"
   },
   {
    "duration": 7,
    "start_time": "2021-12-07T18:09:56.363Z"
   },
   {
    "duration": 61,
    "start_time": "2021-12-07T18:09:56.372Z"
   },
   {
    "duration": 5,
    "start_time": "2021-12-07T18:09:56.436Z"
   },
   {
    "duration": 9,
    "start_time": "2021-12-07T18:09:56.444Z"
   },
   {
    "duration": 18,
    "start_time": "2021-12-07T18:09:56.456Z"
   },
   {
    "duration": 46,
    "start_time": "2021-12-07T18:09:56.477Z"
   },
   {
    "duration": 29,
    "start_time": "2021-12-07T18:09:56.525Z"
   },
   {
    "duration": 284,
    "start_time": "2021-12-07T18:09:56.556Z"
   },
   {
    "duration": 8,
    "start_time": "2021-12-07T18:09:56.843Z"
   },
   {
    "duration": 19,
    "start_time": "2021-12-07T18:09:56.853Z"
   },
   {
    "duration": 6,
    "start_time": "2021-12-07T18:09:56.875Z"
   },
   {
    "duration": 315,
    "start_time": "2021-12-07T18:09:56.884Z"
   },
   {
    "duration": 36,
    "start_time": "2021-12-07T18:09:57.202Z"
   },
   {
    "duration": 11,
    "start_time": "2021-12-07T18:09:57.240Z"
   },
   {
    "duration": 30,
    "start_time": "2021-12-07T18:09:57.254Z"
   },
   {
    "duration": 1109,
    "start_time": "2021-12-08T07:50:41.933Z"
   },
   {
    "duration": 1637,
    "start_time": "2021-12-08T07:50:52.338Z"
   },
   {
    "duration": 106,
    "start_time": "2021-12-08T07:50:53.978Z"
   },
   {
    "duration": 22,
    "start_time": "2021-12-08T07:50:54.087Z"
   },
   {
    "duration": 16,
    "start_time": "2021-12-08T07:50:54.112Z"
   },
   {
    "duration": 36,
    "start_time": "2021-12-08T07:50:54.131Z"
   },
   {
    "duration": 11,
    "start_time": "2021-12-08T07:50:54.170Z"
   },
   {
    "duration": 13,
    "start_time": "2021-12-08T07:50:54.184Z"
   },
   {
    "duration": 64,
    "start_time": "2021-12-08T07:50:54.201Z"
   },
   {
    "duration": 11,
    "start_time": "2021-12-08T07:50:54.268Z"
   },
   {
    "duration": 16,
    "start_time": "2021-12-08T07:50:54.283Z"
   },
   {
    "duration": 58,
    "start_time": "2021-12-08T07:50:54.301Z"
   },
   {
    "duration": 240,
    "start_time": "2021-12-08T07:50:54.363Z"
   },
   {
    "duration": 36,
    "start_time": "2021-12-08T07:50:54.605Z"
   },
   {
    "duration": 274,
    "start_time": "2021-12-08T07:50:54.643Z"
   },
   {
    "duration": 41,
    "start_time": "2021-12-08T07:50:54.920Z"
   },
   {
    "duration": 6,
    "start_time": "2021-12-08T07:50:54.963Z"
   },
   {
    "duration": 20,
    "start_time": "2021-12-08T07:50:54.972Z"
   },
   {
    "duration": 14,
    "start_time": "2021-12-08T07:50:54.995Z"
   },
   {
    "duration": 51,
    "start_time": "2021-12-08T07:50:55.011Z"
   },
   {
    "duration": 11,
    "start_time": "2021-12-08T07:50:55.065Z"
   },
   {
    "duration": 341,
    "start_time": "2021-12-08T07:50:55.078Z"
   },
   {
    "duration": 8,
    "start_time": "2021-12-08T07:50:55.422Z"
   },
   {
    "duration": 236,
    "start_time": "2021-12-08T07:50:55.437Z"
   },
   {
    "duration": 21,
    "start_time": "2021-12-08T07:50:55.676Z"
   },
   {
    "duration": 31,
    "start_time": "2021-12-08T07:50:55.700Z"
   },
   {
    "duration": 12,
    "start_time": "2021-12-08T07:50:55.761Z"
   },
   {
    "duration": 31,
    "start_time": "2021-12-08T07:50:55.776Z"
   },
   {
    "duration": 11,
    "start_time": "2021-12-08T07:50:55.809Z"
   },
   {
    "duration": 62,
    "start_time": "2021-12-08T07:50:55.823Z"
   },
   {
    "duration": 16,
    "start_time": "2021-12-08T07:50:55.888Z"
   },
   {
    "duration": 16,
    "start_time": "2021-12-08T07:50:55.906Z"
   },
   {
    "duration": 39,
    "start_time": "2021-12-08T07:50:55.925Z"
   },
   {
    "duration": 7,
    "start_time": "2021-12-08T07:50:55.967Z"
   },
   {
    "duration": 982,
    "start_time": "2021-12-08T07:50:55.977Z"
   },
   {
    "duration": 6,
    "start_time": "2021-12-08T07:50:56.962Z"
   },
   {
    "duration": 6235,
    "start_time": "2021-12-08T07:50:56.971Z"
   },
   {
    "duration": 33,
    "start_time": "2021-12-08T07:51:03.209Z"
   },
   {
    "duration": 13,
    "start_time": "2021-12-08T07:51:03.260Z"
   },
   {
    "duration": 13,
    "start_time": "2021-12-08T07:51:03.277Z"
   },
   {
    "duration": 18,
    "start_time": "2021-12-08T07:51:03.292Z"
   },
   {
    "duration": 68,
    "start_time": "2021-12-08T07:51:03.314Z"
   },
   {
    "duration": 7,
    "start_time": "2021-12-08T07:51:03.385Z"
   },
   {
    "duration": 34,
    "start_time": "2021-12-08T07:51:03.395Z"
   },
   {
    "duration": 29,
    "start_time": "2021-12-08T07:51:03.432Z"
   },
   {
    "duration": 9,
    "start_time": "2021-12-08T07:51:03.464Z"
   },
   {
    "duration": 20,
    "start_time": "2021-12-08T07:51:03.475Z"
   },
   {
    "duration": 8,
    "start_time": "2021-12-08T07:51:03.498Z"
   },
   {
    "duration": 67,
    "start_time": "2021-12-08T07:51:03.508Z"
   },
   {
    "duration": 293,
    "start_time": "2021-12-08T07:51:03.578Z"
   },
   {
    "duration": 7,
    "start_time": "2021-12-08T07:51:03.874Z"
   },
   {
    "duration": 14,
    "start_time": "2021-12-08T07:51:03.884Z"
   },
   {
    "duration": 296,
    "start_time": "2021-12-08T07:51:03.901Z"
   },
   {
    "duration": 28,
    "start_time": "2021-12-08T07:51:04.200Z"
   },
   {
    "duration": 36,
    "start_time": "2021-12-08T07:51:04.231Z"
   },
   {
    "duration": 9,
    "start_time": "2021-12-08T08:03:10.287Z"
   },
   {
    "duration": 35,
    "start_time": "2021-12-08T08:06:28.716Z"
   },
   {
    "duration": 6,
    "start_time": "2021-12-08T08:12:30.124Z"
   },
   {
    "duration": 12,
    "start_time": "2021-12-08T08:12:47.008Z"
   },
   {
    "duration": 12,
    "start_time": "2021-12-08T08:14:14.894Z"
   },
   {
    "duration": 41,
    "start_time": "2021-12-08T08:16:32.365Z"
   },
   {
    "duration": 32,
    "start_time": "2021-12-08T08:18:12.855Z"
   },
   {
    "duration": 6,
    "start_time": "2021-12-08T08:19:11.292Z"
   },
   {
    "duration": 235,
    "start_time": "2021-12-08T08:20:16.981Z"
   },
   {
    "duration": 348,
    "start_time": "2021-12-08T08:20:58.320Z"
   },
   {
    "duration": 33,
    "start_time": "2021-12-08T08:21:49.578Z"
   },
   {
    "duration": 259,
    "start_time": "2021-12-08T08:21:51.260Z"
   },
   {
    "duration": 7,
    "start_time": "2021-12-08T08:29:26.969Z"
   },
   {
    "duration": 260,
    "start_time": "2021-12-08T08:31:11.511Z"
   },
   {
    "duration": 265,
    "start_time": "2021-12-08T08:31:31.458Z"
   },
   {
    "duration": 39,
    "start_time": "2021-12-08T08:38:15.897Z"
   },
   {
    "duration": 48,
    "start_time": "2021-12-08T08:38:29.363Z"
   },
   {
    "duration": 250,
    "start_time": "2021-12-08T08:42:05.663Z"
   },
   {
    "duration": 128,
    "start_time": "2021-12-08T09:52:48.903Z"
   },
   {
    "duration": 1323,
    "start_time": "2021-12-08T10:03:45.725Z"
   },
   {
    "duration": 394,
    "start_time": "2021-12-08T10:06:22.757Z"
   },
   {
    "duration": 6,
    "start_time": "2021-12-08T10:06:35.024Z"
   },
   {
    "duration": 6,
    "start_time": "2021-12-08T10:06:54.612Z"
   },
   {
    "duration": 1735,
    "start_time": "2021-12-08T10:06:57.429Z"
   },
   {
    "duration": 2076,
    "start_time": "2021-12-08T10:07:05.112Z"
   },
   {
    "duration": 5,
    "start_time": "2021-12-08T10:08:08.706Z"
   },
   {
    "duration": 13,
    "start_time": "2021-12-08T10:08:16.497Z"
   },
   {
    "duration": 19,
    "start_time": "2021-12-08T10:08:35.045Z"
   },
   {
    "duration": 416,
    "start_time": "2021-12-08T10:15:13.433Z"
   },
   {
    "duration": 41,
    "start_time": "2021-12-08T10:15:51.037Z"
   },
   {
    "duration": 28,
    "start_time": "2021-12-08T10:16:00.204Z"
   },
   {
    "duration": 23,
    "start_time": "2021-12-08T10:16:17.828Z"
   },
   {
    "duration": 29,
    "start_time": "2021-12-08T10:16:30.770Z"
   },
   {
    "duration": 8740,
    "start_time": "2021-12-08T10:18:06.208Z"
   },
   {
    "duration": 8992,
    "start_time": "2021-12-08T10:19:48.688Z"
   },
   {
    "duration": 255,
    "start_time": "2021-12-08T10:20:02.131Z"
   },
   {
    "duration": 34,
    "start_time": "2021-12-08T10:22:18.046Z"
   },
   {
    "duration": 243,
    "start_time": "2021-12-08T10:22:36.318Z"
   },
   {
    "duration": 5,
    "start_time": "2021-12-08T10:26:26.363Z"
   },
   {
    "duration": 29,
    "start_time": "2021-12-08T10:26:28.253Z"
   },
   {
    "duration": 34,
    "start_time": "2021-12-08T10:26:33.845Z"
   },
   {
    "duration": 251,
    "start_time": "2021-12-08T10:26:41.909Z"
   },
   {
    "duration": 470,
    "start_time": "2021-12-08T10:33:59.239Z"
   },
   {
    "duration": 1038,
    "start_time": "2021-12-08T10:34:07.467Z"
   },
   {
    "duration": 277,
    "start_time": "2021-12-08T10:34:18.840Z"
   },
   {
    "duration": 265,
    "start_time": "2021-12-08T10:34:40.609Z"
   },
   {
    "duration": -1105,
    "start_time": "2021-12-08T10:35:04.652Z"
   },
   {
    "duration": 1538,
    "start_time": "2021-12-08T10:35:18.877Z"
   },
   {
    "duration": 712,
    "start_time": "2021-12-08T10:35:20.418Z"
   },
   {
    "duration": 23,
    "start_time": "2021-12-08T10:35:21.133Z"
   },
   {
    "duration": 18,
    "start_time": "2021-12-08T10:35:21.159Z"
   },
   {
    "duration": 11,
    "start_time": "2021-12-08T10:35:21.180Z"
   },
   {
    "duration": 11,
    "start_time": "2021-12-08T10:35:21.194Z"
   },
   {
    "duration": 52,
    "start_time": "2021-12-08T10:35:21.208Z"
   },
   {
    "duration": 9,
    "start_time": "2021-12-08T10:35:21.262Z"
   },
   {
    "duration": 8,
    "start_time": "2021-12-08T10:35:21.275Z"
   },
   {
    "duration": 12,
    "start_time": "2021-12-08T10:35:21.286Z"
   },
   {
    "duration": 17,
    "start_time": "2021-12-08T10:35:21.300Z"
   },
   {
    "duration": 236,
    "start_time": "2021-12-08T10:35:21.359Z"
   },
   {
    "duration": 31,
    "start_time": "2021-12-08T10:35:21.597Z"
   },
   {
    "duration": 258,
    "start_time": "2021-12-08T10:35:21.631Z"
   },
   {
    "duration": 24,
    "start_time": "2021-12-08T10:35:21.892Z"
   },
   {
    "duration": 5,
    "start_time": "2021-12-08T10:35:21.918Z"
   },
   {
    "duration": 39,
    "start_time": "2021-12-08T10:35:21.925Z"
   },
   {
    "duration": 14,
    "start_time": "2021-12-08T10:35:21.966Z"
   },
   {
    "duration": 8,
    "start_time": "2021-12-08T10:35:21.982Z"
   },
   {
    "duration": 8,
    "start_time": "2021-12-08T10:35:21.992Z"
   },
   {
    "duration": 264,
    "start_time": "2021-12-08T10:35:22.002Z"
   },
   {
    "duration": 10,
    "start_time": "2021-12-08T10:35:22.269Z"
   },
   {
    "duration": 223,
    "start_time": "2021-12-08T10:35:22.281Z"
   },
   {
    "duration": 19,
    "start_time": "2021-12-08T10:35:22.506Z"
   },
   {
    "duration": 38,
    "start_time": "2021-12-08T10:35:22.527Z"
   },
   {
    "duration": 9,
    "start_time": "2021-12-08T10:35:22.568Z"
   },
   {
    "duration": 25,
    "start_time": "2021-12-08T10:35:22.583Z"
   },
   {
    "duration": 48,
    "start_time": "2021-12-08T10:35:22.613Z"
   },
   {
    "duration": 28,
    "start_time": "2021-12-08T10:35:22.664Z"
   },
   {
    "duration": 11,
    "start_time": "2021-12-08T10:35:22.695Z"
   },
   {
    "duration": 12,
    "start_time": "2021-12-08T10:35:22.709Z"
   },
   {
    "duration": 6,
    "start_time": "2021-12-08T10:35:22.760Z"
   },
   {
    "duration": 11,
    "start_time": "2021-12-08T10:35:22.768Z"
   },
   {
    "duration": 978,
    "start_time": "2021-12-08T10:35:22.782Z"
   },
   {
    "duration": 5,
    "start_time": "2021-12-08T10:35:23.764Z"
   },
   {
    "duration": 5189,
    "start_time": "2021-12-08T10:35:23.771Z"
   },
   {
    "duration": 22,
    "start_time": "2021-12-08T10:35:28.962Z"
   },
   {
    "duration": 10,
    "start_time": "2021-12-08T10:35:28.987Z"
   },
   {
    "duration": 8,
    "start_time": "2021-12-08T10:35:29.000Z"
   },
   {
    "duration": 48,
    "start_time": "2021-12-08T10:35:29.011Z"
   },
   {
    "duration": 23,
    "start_time": "2021-12-08T10:35:29.061Z"
   },
   {
    "duration": 7,
    "start_time": "2021-12-08T10:35:29.087Z"
   },
   {
    "duration": 23,
    "start_time": "2021-12-08T10:35:29.096Z"
   },
   {
    "duration": 40,
    "start_time": "2021-12-08T10:35:29.121Z"
   },
   {
    "duration": 9,
    "start_time": "2021-12-08T10:35:29.164Z"
   },
   {
    "duration": 19,
    "start_time": "2021-12-08T10:35:29.176Z"
   },
   {
    "duration": 7,
    "start_time": "2021-12-08T10:35:29.198Z"
   },
   {
    "duration": 70,
    "start_time": "2021-12-08T10:35:29.207Z"
   },
   {
    "duration": 272,
    "start_time": "2021-12-08T10:35:29.279Z"
   },
   {
    "duration": 7,
    "start_time": "2021-12-08T10:35:29.554Z"
   },
   {
    "duration": 13,
    "start_time": "2021-12-08T10:35:29.563Z"
   },
   {
    "duration": 271,
    "start_time": "2021-12-08T10:35:29.579Z"
   },
   {
    "duration": 31,
    "start_time": "2021-12-08T10:35:29.853Z"
   },
   {
    "duration": 9,
    "start_time": "2021-12-08T10:35:29.886Z"
   },
   {
    "duration": 68,
    "start_time": "2021-12-08T10:35:29.897Z"
   },
   {
    "duration": 276,
    "start_time": "2021-12-08T10:35:29.967Z"
   },
   {
    "duration": 291,
    "start_time": "2021-12-08T10:35:30.246Z"
   },
   {
    "duration": 4,
    "start_time": "2021-12-08T10:35:30.540Z"
   },
   {
    "duration": 38,
    "start_time": "2021-12-08T10:35:30.547Z"
   },
   {
    "duration": 37,
    "start_time": "2021-12-08T10:35:30.588Z"
   },
   {
    "duration": 297,
    "start_time": "2021-12-08T10:35:30.627Z"
   },
   {
    "duration": 13579,
    "start_time": "2021-12-08T10:36:02.613Z"
   },
   {
    "duration": 11783,
    "start_time": "2021-12-08T10:39:06.274Z"
   },
   {
    "duration": 12290,
    "start_time": "2021-12-08T10:39:19.235Z"
   },
   {
    "duration": 31,
    "start_time": "2021-12-08T10:39:37.251Z"
   },
   {
    "duration": 259,
    "start_time": "2021-12-08T10:39:50.240Z"
   },
   {
    "duration": 282,
    "start_time": "2021-12-08T10:44:09.133Z"
   },
   {
    "duration": 7,
    "start_time": "2021-12-08T10:47:53.939Z"
   },
   {
    "duration": 36,
    "start_time": "2021-12-08T10:47:56.275Z"
   },
   {
    "duration": 33,
    "start_time": "2021-12-08T10:47:59.840Z"
   },
   {
    "duration": 1635,
    "start_time": "2021-12-08T10:48:14.186Z"
   },
   {
    "duration": 261,
    "start_time": "2021-12-08T10:48:27.903Z"
   },
   {
    "duration": 32,
    "start_time": "2021-12-08T11:01:10.210Z"
   },
   {
    "duration": 243,
    "start_time": "2021-12-08T11:04:47.640Z"
   },
   {
    "duration": 19,
    "start_time": "2021-12-08T12:10:56.105Z"
   },
   {
    "duration": 9,
    "start_time": "2021-12-08T12:12:18.509Z"
   },
   {
    "duration": 9,
    "start_time": "2021-12-08T12:15:47.542Z"
   },
   {
    "duration": 277,
    "start_time": "2021-12-08T15:14:21.434Z"
   },
   {
    "duration": 19,
    "start_time": "2021-12-08T15:25:41.417Z"
   },
   {
    "duration": 432,
    "start_time": "2021-12-08T15:28:49.654Z"
   },
   {
    "duration": 37,
    "start_time": "2021-12-08T15:30:34.817Z"
   },
   {
    "duration": 28,
    "start_time": "2021-12-08T15:32:29.053Z"
   },
   {
    "duration": 7,
    "start_time": "2021-12-08T15:38:53.601Z"
   },
   {
    "duration": 12,
    "start_time": "2021-12-08T15:39:11.332Z"
   },
   {
    "duration": 8,
    "start_time": "2021-12-08T15:40:36.054Z"
   },
   {
    "duration": 10,
    "start_time": "2021-12-08T15:40:59.516Z"
   },
   {
    "duration": 18,
    "start_time": "2021-12-08T16:11:10.946Z"
   },
   {
    "duration": 8,
    "start_time": "2021-12-08T16:12:47.619Z"
   },
   {
    "duration": 6,
    "start_time": "2021-12-08T16:12:59.288Z"
   },
   {
    "duration": 8,
    "start_time": "2021-12-08T16:13:33.765Z"
   },
   {
    "duration": 7,
    "start_time": "2021-12-08T16:13:36.837Z"
   },
   {
    "duration": 8,
    "start_time": "2021-12-08T16:13:44.793Z"
   },
   {
    "duration": 6,
    "start_time": "2021-12-08T16:13:47.123Z"
   },
   {
    "duration": 12,
    "start_time": "2021-12-08T16:16:41.872Z"
   },
   {
    "duration": 14,
    "start_time": "2021-12-08T17:15:53.678Z"
   },
   {
    "duration": 1696,
    "start_time": "2021-12-08T17:17:09.118Z"
   },
   {
    "duration": 76,
    "start_time": "2021-12-08T17:17:10.817Z"
   },
   {
    "duration": 22,
    "start_time": "2021-12-08T17:17:10.896Z"
   },
   {
    "duration": 12,
    "start_time": "2021-12-08T17:17:10.921Z"
   },
   {
    "duration": 30,
    "start_time": "2021-12-08T17:17:10.935Z"
   },
   {
    "duration": 8,
    "start_time": "2021-12-08T17:17:10.967Z"
   },
   {
    "duration": 10,
    "start_time": "2021-12-08T17:17:10.978Z"
   },
   {
    "duration": 13,
    "start_time": "2021-12-08T17:17:10.990Z"
   },
   {
    "duration": 56,
    "start_time": "2021-12-08T17:17:11.007Z"
   },
   {
    "duration": 15,
    "start_time": "2021-12-08T17:17:11.067Z"
   },
   {
    "duration": 21,
    "start_time": "2021-12-08T17:17:11.085Z"
   },
   {
    "duration": 274,
    "start_time": "2021-12-08T17:17:11.109Z"
   },
   {
    "duration": 32,
    "start_time": "2021-12-08T17:17:11.386Z"
   },
   {
    "duration": 252,
    "start_time": "2021-12-08T17:17:11.420Z"
   },
   {
    "duration": 25,
    "start_time": "2021-12-08T17:17:11.674Z"
   },
   {
    "duration": 6,
    "start_time": "2021-12-08T17:17:11.701Z"
   },
   {
    "duration": 54,
    "start_time": "2021-12-08T17:17:11.709Z"
   },
   {
    "duration": 14,
    "start_time": "2021-12-08T17:17:11.766Z"
   },
   {
    "duration": 9,
    "start_time": "2021-12-08T17:17:11.782Z"
   },
   {
    "duration": 10,
    "start_time": "2021-12-08T17:17:11.793Z"
   },
   {
    "duration": 269,
    "start_time": "2021-12-08T17:17:11.805Z"
   },
   {
    "duration": 8,
    "start_time": "2021-12-08T17:17:12.077Z"
   },
   {
    "duration": 227,
    "start_time": "2021-12-08T17:17:12.088Z"
   },
   {
    "duration": 20,
    "start_time": "2021-12-08T17:17:12.318Z"
   },
   {
    "duration": 39,
    "start_time": "2021-12-08T17:17:12.340Z"
   },
   {
    "duration": 11,
    "start_time": "2021-12-08T17:17:12.381Z"
   },
   {
    "duration": 25,
    "start_time": "2021-12-08T17:17:12.401Z"
   },
   {
    "duration": 10,
    "start_time": "2021-12-08T17:17:12.461Z"
   },
   {
    "duration": 27,
    "start_time": "2021-12-08T17:17:12.473Z"
   },
   {
    "duration": 9,
    "start_time": "2021-12-08T17:17:12.502Z"
   },
   {
    "duration": 47,
    "start_time": "2021-12-08T17:17:12.513Z"
   },
   {
    "duration": 6,
    "start_time": "2021-12-08T17:17:12.562Z"
   },
   {
    "duration": 7,
    "start_time": "2021-12-08T17:17:12.571Z"
   },
   {
    "duration": 969,
    "start_time": "2021-12-08T17:17:12.580Z"
   },
   {
    "duration": 5,
    "start_time": "2021-12-08T17:17:13.560Z"
   },
   {
    "duration": 5291,
    "start_time": "2021-12-08T17:17:13.568Z"
   },
   {
    "duration": 18,
    "start_time": "2021-12-08T17:17:18.861Z"
   },
   {
    "duration": 10,
    "start_time": "2021-12-08T17:17:18.882Z"
   },
   {
    "duration": 9,
    "start_time": "2021-12-08T17:17:18.894Z"
   },
   {
    "duration": 8,
    "start_time": "2021-12-08T17:17:18.906Z"
   },
   {
    "duration": 60,
    "start_time": "2021-12-08T17:17:18.917Z"
   },
   {
    "duration": 7,
    "start_time": "2021-12-08T17:17:18.979Z"
   },
   {
    "duration": 23,
    "start_time": "2021-12-08T17:17:18.988Z"
   },
   {
    "duration": 48,
    "start_time": "2021-12-08T17:17:19.013Z"
   },
   {
    "duration": 11,
    "start_time": "2021-12-08T17:17:19.063Z"
   },
   {
    "duration": 34,
    "start_time": "2021-12-08T17:17:19.076Z"
   },
   {
    "duration": 288,
    "start_time": "2021-12-08T17:17:19.113Z"
   },
   {
    "duration": 14,
    "start_time": "2021-12-08T17:17:19.403Z"
   },
   {
    "duration": 275,
    "start_time": "2021-12-08T17:17:19.419Z"
   },
   {
    "duration": 38,
    "start_time": "2021-12-08T17:17:19.696Z"
   },
   {
    "duration": 296,
    "start_time": "2021-12-08T17:17:19.736Z"
   },
   {
    "duration": 27,
    "start_time": "2021-12-08T17:17:20.035Z"
   },
   {
    "duration": 330,
    "start_time": "2021-12-08T17:17:20.065Z"
   },
   {
    "duration": 5,
    "start_time": "2021-12-08T17:17:20.398Z"
   },
   {
    "duration": 33,
    "start_time": "2021-12-08T17:17:20.405Z"
   },
   {
    "duration": 37,
    "start_time": "2021-12-08T17:17:20.459Z"
   },
   {
    "duration": 296,
    "start_time": "2021-12-08T17:17:20.498Z"
   },
   {
    "duration": 32,
    "start_time": "2021-12-08T17:17:20.796Z"
   },
   {
    "duration": 262,
    "start_time": "2021-12-08T17:17:20.831Z"
   },
   {
    "duration": 5,
    "start_time": "2021-12-08T17:28:13.632Z"
   },
   {
    "duration": 38,
    "start_time": "2021-12-08T17:28:16.311Z"
   },
   {
    "duration": 32,
    "start_time": "2021-12-08T17:28:19.824Z"
   },
   {
    "duration": 270,
    "start_time": "2021-12-08T17:28:24.370Z"
   },
   {
    "duration": 5,
    "start_time": "2021-12-08T17:32:45.696Z"
   },
   {
    "duration": 29,
    "start_time": "2021-12-08T17:32:52.716Z"
   },
   {
    "duration": 34,
    "start_time": "2021-12-08T17:32:57.661Z"
   },
   {
    "duration": 333,
    "start_time": "2021-12-08T17:34:05.118Z"
   },
   {
    "duration": 5,
    "start_time": "2021-12-08T17:35:49.034Z"
   },
   {
    "duration": 27,
    "start_time": "2021-12-08T17:35:51.608Z"
   },
   {
    "duration": 33,
    "start_time": "2021-12-08T17:35:52.860Z"
   },
   {
    "duration": 251,
    "start_time": "2021-12-08T17:35:55.367Z"
   },
   {
    "duration": 28,
    "start_time": "2021-12-08T17:45:08.711Z"
   },
   {
    "duration": 34,
    "start_time": "2021-12-08T17:45:12.549Z"
   },
   {
    "duration": 6,
    "start_time": "2021-12-08T17:52:43.374Z"
   },
   {
    "duration": 6,
    "start_time": "2021-12-08T17:52:48.409Z"
   },
   {
    "duration": 29,
    "start_time": "2021-12-08T17:52:52.904Z"
   },
   {
    "duration": 34,
    "start_time": "2021-12-08T17:52:56.413Z"
   },
   {
    "duration": 567,
    "start_time": "2021-12-08T17:55:02.708Z"
   },
   {
    "duration": 479,
    "start_time": "2021-12-08T17:55:36.073Z"
   },
   {
    "duration": 11,
    "start_time": "2021-12-08T18:08:36.578Z"
   },
   {
    "duration": 9,
    "start_time": "2021-12-08T18:08:48.562Z"
   },
   {
    "duration": 4,
    "start_time": "2021-12-08T18:11:10.344Z"
   },
   {
    "duration": 5,
    "start_time": "2021-12-08T18:11:23.907Z"
   },
   {
    "duration": 9,
    "start_time": "2021-12-08T18:11:44.105Z"
   },
   {
    "duration": 14,
    "start_time": "2021-12-08T18:13:35.122Z"
   },
   {
    "duration": 10,
    "start_time": "2021-12-08T18:13:46.073Z"
   },
   {
    "duration": 9,
    "start_time": "2021-12-08T18:13:50.916Z"
   },
   {
    "duration": 7,
    "start_time": "2021-12-08T18:31:55.814Z"
   },
   {
    "duration": 36,
    "start_time": "2021-12-08T18:32:06.413Z"
   },
   {
    "duration": 21,
    "start_time": "2021-12-08T18:37:59.542Z"
   },
   {
    "duration": 30,
    "start_time": "2021-12-08T18:38:20.218Z"
   },
   {
    "duration": 27,
    "start_time": "2021-12-08T18:39:42.243Z"
   },
   {
    "duration": 26,
    "start_time": "2021-12-08T18:40:09.662Z"
   },
   {
    "duration": 38,
    "start_time": "2021-12-08T18:41:39.536Z"
   },
   {
    "duration": 25,
    "start_time": "2021-12-08T18:43:21.895Z"
   },
   {
    "duration": 36,
    "start_time": "2021-12-09T06:48:26.225Z"
   },
   {
    "duration": 28,
    "start_time": "2021-12-09T07:03:30.287Z"
   },
   {
    "duration": 32,
    "start_time": "2021-12-09T07:07:33.145Z"
   },
   {
    "duration": 32,
    "start_time": "2021-12-09T07:42:15.731Z"
   },
   {
    "duration": 10273,
    "start_time": "2021-12-09T08:00:45.513Z"
   },
   {
    "duration": 23,
    "start_time": "2021-12-09T08:01:52.296Z"
   },
   {
    "duration": 8,
    "start_time": "2021-12-09T08:05:51.697Z"
   },
   {
    "duration": 10,
    "start_time": "2021-12-09T08:06:04.915Z"
   },
   {
    "duration": 12,
    "start_time": "2021-12-09T08:07:13.750Z"
   },
   {
    "duration": 9,
    "start_time": "2021-12-09T08:08:33.043Z"
   },
   {
    "duration": 7871,
    "start_time": "2021-12-09T08:18:15.420Z"
   },
   {
    "duration": 8,
    "start_time": "2021-12-09T08:19:03.316Z"
   },
   {
    "duration": 31,
    "start_time": "2021-12-09T08:19:17.404Z"
   },
   {
    "duration": 7,
    "start_time": "2021-12-09T08:21:11.585Z"
   },
   {
    "duration": 490,
    "start_time": "2021-12-09T08:21:22.114Z"
   },
   {
    "duration": 7,
    "start_time": "2021-12-09T08:21:52.744Z"
   },
   {
    "duration": 10,
    "start_time": "2021-12-09T08:21:54.000Z"
   },
   {
    "duration": 422,
    "start_time": "2021-12-09T08:22:49.735Z"
   },
   {
    "duration": 8,
    "start_time": "2021-12-09T08:22:55.686Z"
   },
   {
    "duration": 9,
    "start_time": "2021-12-09T08:22:58.707Z"
   },
   {
    "duration": 13,
    "start_time": "2021-12-09T08:23:33.005Z"
   },
   {
    "duration": 149,
    "start_time": "2021-12-09T08:33:46.882Z"
   },
   {
    "duration": 1737,
    "start_time": "2021-12-09T09:17:33.902Z"
   },
   {
    "duration": 113,
    "start_time": "2021-12-09T09:17:35.643Z"
   },
   {
    "duration": 25,
    "start_time": "2021-12-09T09:17:35.759Z"
   },
   {
    "duration": 17,
    "start_time": "2021-12-09T09:17:35.788Z"
   },
   {
    "duration": 9,
    "start_time": "2021-12-09T09:17:35.807Z"
   },
   {
    "duration": 41,
    "start_time": "2021-12-09T09:17:35.818Z"
   },
   {
    "duration": 10,
    "start_time": "2021-12-09T09:17:35.861Z"
   },
   {
    "duration": 9,
    "start_time": "2021-12-09T09:17:35.875Z"
   },
   {
    "duration": 9,
    "start_time": "2021-12-09T09:17:35.887Z"
   },
   {
    "duration": 12,
    "start_time": "2021-12-09T09:17:35.899Z"
   },
   {
    "duration": 61,
    "start_time": "2021-12-09T09:17:35.914Z"
   },
   {
    "duration": 310,
    "start_time": "2021-12-09T09:17:35.977Z"
   },
   {
    "duration": 33,
    "start_time": "2021-12-09T09:17:36.290Z"
   },
   {
    "duration": 253,
    "start_time": "2021-12-09T09:17:36.326Z"
   },
   {
    "duration": 26,
    "start_time": "2021-12-09T09:17:36.581Z"
   },
   {
    "duration": 6,
    "start_time": "2021-12-09T09:17:36.609Z"
   },
   {
    "duration": 48,
    "start_time": "2021-12-09T09:17:36.617Z"
   },
   {
    "duration": 14,
    "start_time": "2021-12-09T09:17:36.668Z"
   },
   {
    "duration": 9,
    "start_time": "2021-12-09T09:17:36.684Z"
   },
   {
    "duration": 11,
    "start_time": "2021-12-09T09:17:36.695Z"
   },
   {
    "duration": 263,
    "start_time": "2021-12-09T09:17:36.708Z"
   },
   {
    "duration": 7,
    "start_time": "2021-12-09T09:17:36.974Z"
   },
   {
    "duration": 221,
    "start_time": "2021-12-09T09:17:36.988Z"
   },
   {
    "duration": 21,
    "start_time": "2021-12-09T09:17:37.212Z"
   },
   {
    "duration": 38,
    "start_time": "2021-12-09T09:17:37.235Z"
   },
   {
    "duration": 12,
    "start_time": "2021-12-09T09:17:37.276Z"
   },
   {
    "duration": 24,
    "start_time": "2021-12-09T09:17:37.291Z"
   },
   {
    "duration": 47,
    "start_time": "2021-12-09T09:17:37.317Z"
   },
   {
    "duration": 26,
    "start_time": "2021-12-09T09:17:37.366Z"
   },
   {
    "duration": 9,
    "start_time": "2021-12-09T09:17:37.395Z"
   },
   {
    "duration": 11,
    "start_time": "2021-12-09T09:17:37.406Z"
   },
   {
    "duration": 40,
    "start_time": "2021-12-09T09:17:37.419Z"
   },
   {
    "duration": 4,
    "start_time": "2021-12-09T09:17:37.462Z"
   },
   {
    "duration": 1103,
    "start_time": "2021-12-09T09:17:37.469Z"
   },
   {
    "duration": 7,
    "start_time": "2021-12-09T09:17:38.574Z"
   },
   {
    "duration": 5617,
    "start_time": "2021-12-09T09:17:38.583Z"
   },
   {
    "duration": 27,
    "start_time": "2021-12-09T09:17:44.203Z"
   },
   {
    "duration": 31,
    "start_time": "2021-12-09T09:17:44.234Z"
   },
   {
    "duration": 11,
    "start_time": "2021-12-09T09:17:44.267Z"
   },
   {
    "duration": 10,
    "start_time": "2021-12-09T09:17:44.281Z"
   },
   {
    "duration": 25,
    "start_time": "2021-12-09T09:17:44.298Z"
   },
   {
    "duration": 40,
    "start_time": "2021-12-09T09:17:44.325Z"
   },
   {
    "duration": 24,
    "start_time": "2021-12-09T09:17:44.367Z"
   },
   {
    "duration": 6,
    "start_time": "2021-12-09T09:17:44.394Z"
   },
   {
    "duration": 11,
    "start_time": "2021-12-09T09:17:44.402Z"
   },
   {
    "duration": 67,
    "start_time": "2021-12-09T09:17:44.415Z"
   },
   {
    "duration": 284,
    "start_time": "2021-12-09T09:17:44.484Z"
   },
   {
    "duration": 14,
    "start_time": "2021-12-09T09:17:44.770Z"
   },
   {
    "duration": 275,
    "start_time": "2021-12-09T09:17:44.787Z"
   },
   {
    "duration": 38,
    "start_time": "2021-12-09T09:17:45.065Z"
   },
   {
    "duration": 281,
    "start_time": "2021-12-09T09:17:45.106Z"
   },
   {
    "duration": 12,
    "start_time": "2021-12-09T09:17:45.389Z"
   },
   {
    "duration": 293,
    "start_time": "2021-12-09T09:17:45.404Z"
   },
   {
    "duration": 6,
    "start_time": "2021-12-09T09:17:45.699Z"
   },
   {
    "duration": 34,
    "start_time": "2021-12-09T09:17:45.707Z"
   },
   {
    "duration": 36,
    "start_time": "2021-12-09T09:17:45.760Z"
   },
   {
    "duration": 331,
    "start_time": "2021-12-09T09:17:45.799Z"
   },
   {
    "duration": 10,
    "start_time": "2021-12-09T09:17:46.132Z"
   },
   {
    "duration": 22,
    "start_time": "2021-12-09T09:17:46.160Z"
   },
   {
    "duration": 28,
    "start_time": "2021-12-09T09:17:46.185Z"
   },
   {
    "duration": 64,
    "start_time": "2021-12-09T09:17:46.216Z"
   },
   {
    "duration": 28,
    "start_time": "2021-12-09T09:17:46.283Z"
   },
   {
    "duration": 65,
    "start_time": "2021-12-09T09:17:46.314Z"
   },
   {
    "duration": 249,
    "start_time": "2021-12-09T09:17:46.381Z"
   },
   {
    "duration": 13,
    "start_time": "2021-12-09T09:17:46.632Z"
   },
   {
    "duration": 1538,
    "start_time": "2021-12-09T19:10:12.823Z"
   },
   {
    "duration": 79,
    "start_time": "2021-12-09T19:10:14.364Z"
   },
   {
    "duration": 33,
    "start_time": "2021-12-09T19:10:14.446Z"
   },
   {
    "duration": 13,
    "start_time": "2021-12-09T19:10:14.482Z"
   },
   {
    "duration": 10,
    "start_time": "2021-12-09T19:10:14.498Z"
   },
   {
    "duration": 9,
    "start_time": "2021-12-09T19:10:14.510Z"
   },
   {
    "duration": 10,
    "start_time": "2021-12-09T19:10:14.560Z"
   },
   {
    "duration": 8,
    "start_time": "2021-12-09T19:10:14.575Z"
   },
   {
    "duration": 12,
    "start_time": "2021-12-09T19:10:14.585Z"
   },
   {
    "duration": 12,
    "start_time": "2021-12-09T19:10:14.599Z"
   },
   {
    "duration": 57,
    "start_time": "2021-12-09T19:10:14.614Z"
   },
   {
    "duration": 285,
    "start_time": "2021-12-09T19:10:14.674Z"
   },
   {
    "duration": 60,
    "start_time": "2021-12-09T19:10:14.961Z"
   },
   {
    "duration": 272,
    "start_time": "2021-12-09T19:10:15.023Z"
   },
   {
    "duration": 26,
    "start_time": "2021-12-09T19:10:15.298Z"
   },
   {
    "duration": 34,
    "start_time": "2021-12-09T19:10:15.327Z"
   },
   {
    "duration": 17,
    "start_time": "2021-12-09T19:10:15.364Z"
   },
   {
    "duration": 17,
    "start_time": "2021-12-09T19:10:15.383Z"
   },
   {
    "duration": 8,
    "start_time": "2021-12-09T19:10:15.403Z"
   },
   {
    "duration": 52,
    "start_time": "2021-12-09T19:10:15.414Z"
   },
   {
    "duration": 237,
    "start_time": "2021-12-09T19:10:15.468Z"
   },
   {
    "duration": 8,
    "start_time": "2021-12-09T19:10:15.707Z"
   },
   {
    "duration": 258,
    "start_time": "2021-12-09T19:10:15.722Z"
   },
   {
    "duration": 22,
    "start_time": "2021-12-09T19:10:15.983Z"
   },
   {
    "duration": 51,
    "start_time": "2021-12-09T19:10:16.008Z"
   },
   {
    "duration": 14,
    "start_time": "2021-12-09T19:10:16.062Z"
   },
   {
    "duration": 28,
    "start_time": "2021-12-09T19:10:16.080Z"
   },
   {
    "duration": 15,
    "start_time": "2021-12-09T19:10:16.111Z"
   },
   {
    "duration": 27,
    "start_time": "2021-12-09T19:10:16.159Z"
   },
   {
    "duration": 12,
    "start_time": "2021-12-09T19:10:16.188Z"
   },
   {
    "duration": 9,
    "start_time": "2021-12-09T19:10:16.203Z"
   },
   {
    "duration": 8,
    "start_time": "2021-12-09T19:10:16.215Z"
   },
   {
    "duration": 8,
    "start_time": "2021-12-09T19:10:16.260Z"
   },
   {
    "duration": 1002,
    "start_time": "2021-12-09T19:10:16.270Z"
   },
   {
    "duration": 7,
    "start_time": "2021-12-09T19:10:17.275Z"
   },
   {
    "duration": 5558,
    "start_time": "2021-12-09T19:10:17.285Z"
   },
   {
    "duration": 31,
    "start_time": "2021-12-09T19:10:22.845Z"
   },
   {
    "duration": 9,
    "start_time": "2021-12-09T19:10:22.879Z"
   },
   {
    "duration": 9,
    "start_time": "2021-12-09T19:10:22.890Z"
   },
   {
    "duration": 11,
    "start_time": "2021-12-09T19:10:22.902Z"
   },
   {
    "duration": 65,
    "start_time": "2021-12-09T19:10:22.915Z"
   },
   {
    "duration": 8,
    "start_time": "2021-12-09T19:10:22.983Z"
   },
   {
    "duration": 26,
    "start_time": "2021-12-09T19:10:22.993Z"
   },
   {
    "duration": 6,
    "start_time": "2021-12-09T19:10:23.058Z"
   },
   {
    "duration": 12,
    "start_time": "2021-12-09T19:10:23.067Z"
   },
   {
    "duration": 34,
    "start_time": "2021-12-09T19:10:23.081Z"
   },
   {
    "duration": 347,
    "start_time": "2021-12-09T19:10:23.118Z"
   },
   {
    "duration": 14,
    "start_time": "2021-12-09T19:10:23.467Z"
   },
   {
    "duration": 322,
    "start_time": "2021-12-09T19:10:23.483Z"
   },
   {
    "duration": 55,
    "start_time": "2021-12-09T19:10:23.808Z"
   },
   {
    "duration": 272,
    "start_time": "2021-12-09T19:10:23.865Z"
   },
   {
    "duration": 24,
    "start_time": "2021-12-09T19:10:24.139Z"
   },
   {
    "duration": 301,
    "start_time": "2021-12-09T19:10:24.165Z"
   },
   {
    "duration": 8,
    "start_time": "2021-12-09T19:10:24.469Z"
   },
   {
    "duration": 42,
    "start_time": "2021-12-09T19:10:24.480Z"
   },
   {
    "duration": 63,
    "start_time": "2021-12-09T19:10:24.525Z"
   },
   {
    "duration": 343,
    "start_time": "2021-12-09T19:10:24.591Z"
   },
   {
    "duration": 25,
    "start_time": "2021-12-09T19:10:24.937Z"
   },
   {
    "duration": 24,
    "start_time": "2021-12-09T19:10:24.966Z"
   },
   {
    "duration": 28,
    "start_time": "2021-12-09T19:10:24.992Z"
   },
   {
    "duration": 57,
    "start_time": "2021-12-09T19:10:25.022Z"
   },
   {
    "duration": 30,
    "start_time": "2021-12-09T19:10:25.081Z"
   },
   {
    "duration": 57,
    "start_time": "2021-12-09T19:10:25.113Z"
   },
   {
    "duration": 239,
    "start_time": "2021-12-09T19:10:25.173Z"
   },
   {
    "duration": 13,
    "start_time": "2021-12-09T19:10:25.414Z"
   },
   {
    "duration": 2381,
    "start_time": "2021-12-09T19:17:49.308Z"
   },
   {
    "duration": 10,
    "start_time": "2021-12-09T19:22:13.769Z"
   },
   {
    "duration": 10,
    "start_time": "2021-12-09T19:22:35.988Z"
   },
   {
    "duration": 10,
    "start_time": "2021-12-09T19:23:29.677Z"
   },
   {
    "duration": 1441,
    "start_time": "2022-10-13T08:46:32.261Z"
   },
   {
    "duration": 112,
    "start_time": "2022-10-13T08:46:33.705Z"
   },
   {
    "duration": 16,
    "start_time": "2022-10-13T08:46:33.818Z"
   },
   {
    "duration": 9,
    "start_time": "2022-10-13T08:46:33.836Z"
   },
   {
    "duration": 12,
    "start_time": "2022-10-13T08:46:33.846Z"
   },
   {
    "duration": 8,
    "start_time": "2022-10-13T08:46:33.859Z"
   },
   {
    "duration": 17,
    "start_time": "2022-10-13T08:46:33.868Z"
   },
   {
    "duration": 8,
    "start_time": "2022-10-13T08:46:33.887Z"
   },
   {
    "duration": 11,
    "start_time": "2022-10-13T08:46:33.896Z"
   },
   {
    "duration": 9,
    "start_time": "2022-10-13T08:46:33.909Z"
   },
   {
    "duration": 36,
    "start_time": "2022-10-13T08:46:33.919Z"
   },
   {
    "duration": 120,
    "start_time": "2022-10-13T08:46:33.957Z"
   },
   {
    "duration": 24,
    "start_time": "2022-10-13T08:46:34.079Z"
   },
   {
    "duration": 130,
    "start_time": "2022-10-13T08:46:34.105Z"
   },
   {
    "duration": 31,
    "start_time": "2022-10-13T08:46:34.237Z"
   },
   {
    "duration": 5,
    "start_time": "2022-10-13T08:46:34.270Z"
   },
   {
    "duration": 20,
    "start_time": "2022-10-13T08:46:34.277Z"
   },
   {
    "duration": 13,
    "start_time": "2022-10-13T08:46:34.299Z"
   },
   {
    "duration": 7,
    "start_time": "2022-10-13T08:46:34.313Z"
   },
   {
    "duration": 39,
    "start_time": "2022-10-13T08:46:34.322Z"
   },
   {
    "duration": 121,
    "start_time": "2022-10-13T08:46:34.362Z"
   },
   {
    "duration": 5,
    "start_time": "2022-10-13T08:46:34.485Z"
   },
   {
    "duration": 108,
    "start_time": "2022-10-13T08:46:34.491Z"
   },
   {
    "duration": 18,
    "start_time": "2022-10-13T08:46:34.601Z"
   },
   {
    "duration": 37,
    "start_time": "2022-10-13T08:46:34.621Z"
   },
   {
    "duration": 8,
    "start_time": "2022-10-13T08:46:34.660Z"
   },
   {
    "duration": 40,
    "start_time": "2022-10-13T08:46:34.670Z"
   },
   {
    "duration": 12,
    "start_time": "2022-10-13T08:46:34.714Z"
   },
   {
    "duration": 27,
    "start_time": "2022-10-13T08:46:34.728Z"
   },
   {
    "duration": 6,
    "start_time": "2022-10-13T08:46:34.756Z"
   },
   {
    "duration": 10,
    "start_time": "2022-10-13T08:46:34.764Z"
   },
   {
    "duration": 7,
    "start_time": "2022-10-13T08:46:34.775Z"
   },
   {
    "duration": 4,
    "start_time": "2022-10-13T08:46:34.783Z"
   },
   {
    "duration": 712,
    "start_time": "2022-10-13T08:46:34.788Z"
   },
   {
    "duration": 2235,
    "start_time": "2022-10-13T08:46:35.502Z"
   },
   {
    "duration": 3,
    "start_time": "2022-10-13T08:46:37.739Z"
   },
   {
    "duration": 3380,
    "start_time": "2022-10-13T08:46:37.744Z"
   },
   {
    "duration": 14,
    "start_time": "2022-10-13T08:46:41.125Z"
   },
   {
    "duration": 7,
    "start_time": "2022-10-13T08:46:41.154Z"
   },
   {
    "duration": 7,
    "start_time": "2022-10-13T08:46:41.162Z"
   },
   {
    "duration": 7,
    "start_time": "2022-10-13T08:46:41.171Z"
   },
   {
    "duration": 16,
    "start_time": "2022-10-13T08:46:41.180Z"
   },
   {
    "duration": 5,
    "start_time": "2022-10-13T08:46:41.197Z"
   },
   {
    "duration": 19,
    "start_time": "2022-10-13T08:46:41.203Z"
   },
   {
    "duration": 34,
    "start_time": "2022-10-13T08:46:41.223Z"
   },
   {
    "duration": 8,
    "start_time": "2022-10-13T08:46:41.259Z"
   },
   {
    "duration": 24,
    "start_time": "2022-10-13T08:46:41.268Z"
   },
   {
    "duration": 177,
    "start_time": "2022-10-13T08:46:41.294Z"
   },
   {
    "duration": 15,
    "start_time": "2022-10-13T08:46:41.473Z"
   },
   {
    "duration": 201,
    "start_time": "2022-10-13T08:46:41.489Z"
   },
   {
    "duration": 32,
    "start_time": "2022-10-13T08:46:41.693Z"
   },
   {
    "duration": 259,
    "start_time": "2022-10-13T08:46:41.726Z"
   },
   {
    "duration": 10,
    "start_time": "2022-10-13T08:46:41.988Z"
   },
   {
    "duration": 111,
    "start_time": "2022-10-13T08:46:42.000Z"
   },
   {
    "duration": 5,
    "start_time": "2022-10-13T08:46:42.113Z"
   },
   {
    "duration": 10,
    "start_time": "2022-10-13T08:46:42.120Z"
   },
   {
    "duration": 37,
    "start_time": "2022-10-13T08:46:42.132Z"
   },
   {
    "duration": 28,
    "start_time": "2022-10-13T08:46:42.171Z"
   },
   {
    "duration": 176,
    "start_time": "2022-10-13T08:46:42.200Z"
   },
   {
    "duration": 7,
    "start_time": "2022-10-13T08:46:42.378Z"
   },
   {
    "duration": 16,
    "start_time": "2022-10-13T08:46:42.387Z"
   },
   {
    "duration": 24,
    "start_time": "2022-10-13T08:46:42.404Z"
   },
   {
    "duration": 45,
    "start_time": "2022-10-13T08:46:42.429Z"
   },
   {
    "duration": 25,
    "start_time": "2022-10-13T08:46:42.476Z"
   },
   {
    "duration": 24,
    "start_time": "2022-10-13T08:46:42.503Z"
   },
   {
    "duration": 141,
    "start_time": "2022-10-13T08:46:42.529Z"
   },
   {
    "duration": 13,
    "start_time": "2022-10-13T08:46:42.671Z"
   }
  ],
  "kernelspec": {
   "display_name": "Python 3 (ipykernel)",
   "language": "python",
   "name": "python3"
  },
  "language_info": {
   "codemirror_mode": {
    "name": "ipython",
    "version": 3
   },
   "file_extension": ".py",
   "mimetype": "text/x-python",
   "name": "python",
   "nbconvert_exporter": "python",
   "pygments_lexer": "ipython3",
   "version": "3.9.7"
  },
  "toc": {
   "base_numbering": 1,
   "nav_menu": {},
   "number_sections": true,
   "sideBar": true,
   "skip_h1_title": true,
   "title_cell": "Table of Contents",
   "title_sidebar": "Contents",
   "toc_cell": false,
   "toc_position": {
    "height": "calc(100% - 180px)",
    "left": "10px",
    "top": "150px",
    "width": "244px"
   },
   "toc_section_display": true,
   "toc_window_display": true
  }
 },
 "nbformat": 4,
 "nbformat_minor": 2
}
